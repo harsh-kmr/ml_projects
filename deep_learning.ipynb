{
  "nbformat": 4,
  "nbformat_minor": 0,
  "metadata": {
    "colab": {
      "provenance": [],
      "toc_visible": true,
      "collapsed_sections": [
        "my_ahHfIupa0",
        "qqH_8Tjauk4r",
        "ant_Otc2Ep6F",
        "GrAwvfSU1RHs",
        "HJPuOTJW6tyY",
        "58WN0ev76QRU"
      ],
      "authorship_tag": "ABX9TyOfs+je8IhhpHS772dSQ7T/",
      "include_colab_link": true
    },
    "kernelspec": {
      "name": "python3",
      "display_name": "Python 3"
    },
    "language_info": {
      "name": "python"
    },
    "gpuClass": "standard",
    "accelerator": "GPU"
  },
  "cells": [
    {
      "cell_type": "markdown",
      "metadata": {
        "id": "view-in-github",
        "colab_type": "text"
      },
      "source": [
        "<a href=\"https://colab.research.google.com/github/harsh-kmr/ml_projects/blob/master/deep_learning.ipynb\" target=\"_parent\"><img src=\"https://colab.research.google.com/assets/colab-badge.svg\" alt=\"Open In Colab\"/></a>"
      ]
    },
    {
      "cell_type": "markdown",
      "source": [
        "# Deep Learning"
      ],
      "metadata": {
        "id": "JCaCw7W-uTmd"
      }
    },
    {
      "cell_type": "markdown",
      "source": [
        "## TensorFlow"
      ],
      "metadata": {
        "id": "Ec_PxDdjuZfa"
      }
    },
    {
      "cell_type": "markdown",
      "source": [
        "### Basic"
      ],
      "metadata": {
        "id": "my_ahHfIupa0"
      }
    },
    {
      "cell_type": "code",
      "execution_count": null,
      "metadata": {
        "id": "hErbOLtXTHxa",
        "colab": {
          "base_uri": "https://localhost:8080/"
        },
        "outputId": "ee4a6f26-4176-42b7-af6e-56ea1f4d009b"
      },
      "outputs": [
        {
          "output_type": "execute_result",
          "data": {
            "text/plain": [
              "<module 'tensorflow._api.v2.version' from '/usr/local/lib/python3.7/dist-packages/tensorflow/_api/v2/version/__init__.py'>"
            ]
          },
          "metadata": {},
          "execution_count": 2
        }
      ],
      "source": [
        "import tensorflow as tf\n",
        "import matplotlib.pyplot as mtp\n",
        "\n",
        "tf.version"
      ]
    },
    {
      "cell_type": "markdown",
      "source": [
        "TensorFlow is called 'TensorFlow' because it handles the flow (node/mathematical operation) of Tensors(Tensors are multi-dimensional arrays with a uniform type) . Tensors are represented as n-dimensional arrays of base dataypes such as a string or integer \n",
        "\n",
        "The shape of a Tensor defines its number of dimensions and the size of each \n",
        "dimension. The rank of a Tensor provides the number of dimensions (n-dimensions)\n",
        "\n",
        "---"
      ],
      "metadata": {
        "id": "v0Etz9DSKp6e"
      }
    },
    {
      "cell_type": "code",
      "source": [
        "sport = tf.constant(\"Tennis\", tf.string)\n",
        "number = tf.constant(1.41421356237, tf.float64)\n",
        "\n",
        "print(\"`sport` is a {}-d Tensor\".format(tf.rank(sport).numpy()))\n",
        "print(\"`number` is a {}-d Tensor\".format(tf.rank(number).numpy()))"
      ],
      "metadata": {
        "id": "_k8VXGs6Tiud",
        "colab": {
          "base_uri": "https://localhost:8080/"
        },
        "outputId": "8737307b-a809-43fd-b2eb-867025bcf7d5"
      },
      "execution_count": null,
      "outputs": [
        {
          "output_type": "stream",
          "name": "stdout",
          "text": [
            "`sport` is a 0-d Tensor\n",
            "`number` is a 0-d Tensor\n"
          ]
        }
      ]
    },
    {
      "cell_type": "markdown",
      "source": [
        "Tensors have shapes. Some vocabulary:\n",
        "\n",
        "1. Shape: The length (number of elements) of each of the axes of a tensor.\n",
        "\n",
        "2. Rank: Number of tensor axes. A scalar has rank 0, a vector has rank 1, a matrix is rank 2.\n",
        "\n",
        "3. Axis or Dimension: A particular dimension of a tensor.\n",
        "\n",
        "4. Size: The total number of items in the tensor, the product of the shape vector's elements.\n",
        "\n"
      ],
      "metadata": {
        "id": "GqkaVMQavPI1"
      }
    },
    {
      "cell_type": "code",
      "source": [
        "sports = tf.constant([\"Tennis\", \"Basketball\"], tf.string)\n",
        "numbers = tf.constant([3.141592, 1.414213, 2.71821], tf.float64)\n",
        "\n",
        "print(\"`sports` is a {}-d Tensor with shape: {}\".format(tf.rank(sports).numpy(), tf.shape(sports)))\n",
        "print(\"`numbers` is a {}-d Tensor with shape: {}\".format(tf.rank(numbers).numpy(), tf.shape(numbers)))"
      ],
      "metadata": {
        "colab": {
          "base_uri": "https://localhost:8080/"
        },
        "id": "M_H0fZHjMIOW",
        "outputId": "7c6afe0f-4fff-4c94-aabf-b55bae0c27b6"
      },
      "execution_count": null,
      "outputs": [
        {
          "output_type": "stream",
          "name": "stdout",
          "text": [
            "`sports` is a 1-d Tensor with shape: [2]\n",
            "`numbers` is a 1-d Tensor with shape: [3]\n"
          ]
        }
      ]
    },
    {
      "cell_type": "code",
      "source": [
        "matrix = tf.constant([1,2,3,4,5,6], dtype=tf.int32, shape=(2,3))\n",
        "\n",
        "matrix"
      ],
      "metadata": {
        "colab": {
          "base_uri": "https://localhost:8080/"
        },
        "id": "qdnm1DDONZte",
        "outputId": "05ed2243-a989-4830-f124-f0dc87b2277b"
      },
      "execution_count": null,
      "outputs": [
        {
          "output_type": "execute_result",
          "data": {
            "text/plain": [
              "<tf.Tensor: shape=(2, 3), dtype=int32, numpy=\n",
              "array([[1, 2, 3],\n",
              "       [4, 5, 6]], dtype=int32)>"
            ]
          },
          "metadata": {},
          "execution_count": 4
        }
      ]
    },
    {
      "cell_type": "code",
      "source": [
        "reshaped = tf.reshape(matrix,[2*3])\n",
        "reshaped2 = tf.reshape(matrix,[-1])\n",
        "reshaped2"
      ],
      "metadata": {
        "colab": {
          "base_uri": "https://localhost:8080/"
        },
        "id": "WLpWT9pUle7n",
        "outputId": "50a7fe96-4cc9-442b-c4d5-d589ad4883ac"
      },
      "execution_count": null,
      "outputs": [
        {
          "output_type": "execute_result",
          "data": {
            "text/plain": [
              "<tf.Tensor: shape=(6,), dtype=int32, numpy=array([1, 2, 3, 4, 5, 6], dtype=int32)>"
            ]
          },
          "metadata": {},
          "execution_count": 9
        }
      ]
    },
    {
      "cell_type": "markdown",
      "source": [
        "Reshaping will \"work\" for any new shape with the same total number of elements, but it will not do anything useful if you do not respect the order of the axes."
      ],
      "metadata": {
        "id": "u5Y152cypOPY"
      }
    },
    {
      "cell_type": "code",
      "source": [
        "x = tf.constant([1, 2, 3])\n",
        "\n",
        "y = tf.constant(2)\n",
        "z = tf.constant([2, 2, 2])\n",
        "# All of these are the same computation\n",
        "print(tf.multiply(x, 2))\n",
        "print(x * y)\n",
        "print(x * z)"
      ],
      "metadata": {
        "colab": {
          "base_uri": "https://localhost:8080/"
        },
        "id": "vwQMwluDmAaf",
        "outputId": "9d7d3a36-518a-4a5a-9efd-f6e07368e2ed"
      },
      "execution_count": null,
      "outputs": [
        {
          "output_type": "stream",
          "name": "stdout",
          "text": [
            "tf.Tensor([2 4 6], shape=(3,), dtype=int32)\n",
            "tf.Tensor([2 4 6], shape=(3,), dtype=int32)\n",
            "tf.Tensor([2 4 6], shape=(3,), dtype=int32)\n"
          ]
        }
      ]
    },
    {
      "cell_type": "markdown",
      "source": [
        "Broadcasting is a concept borrowed from the equivalent feature in NumPy. In short, under certain conditions, smaller tensors are \"stretched\" automatically to fit larger tensors when running combined operations on them."
      ],
      "metadata": {
        "id": "9GYzK1vOrLKO"
      }
    },
    {
      "cell_type": "code",
      "source": [
        "tf.constant(\"🥳👍\")"
      ],
      "metadata": {
        "colab": {
          "base_uri": "https://localhost:8080/"
        },
        "id": "BCNkz6tMrMtb",
        "outputId": "4d48903b-bef1-403e-b052-511c88f452fa"
      },
      "execution_count": null,
      "outputs": [
        {
          "output_type": "execute_result",
          "data": {
            "text/plain": [
              "<tf.Tensor: shape=(), dtype=string, numpy=b'\\xf0\\x9f\\xa5\\xb3\\xf0\\x9f\\x91\\x8d'>"
            ]
          },
          "metadata": {},
          "execution_count": 11
        }
      ]
    },
    {
      "cell_type": "markdown",
      "source": [
        "A tensor with variable numbers of elements along some axis is called \"ragged\". Use tf.ragged.RaggedTensor for ragged data."
      ],
      "metadata": {
        "id": "a3l3DulJwGvq"
      }
    },
    {
      "cell_type": "code",
      "source": [
        "a = tf.constant([[15,16],[17,18]])\n",
        "b = tf.constant([10,10])\n",
        "\n",
        "# Add them!\n",
        "c1 = tf.add(a,b)\n",
        "c2 = a + b # TensorFlow overrides the \"+\" operation so that it is able to act on Tensors\n",
        "print(c1)\n",
        "print(c2)"
      ],
      "metadata": {
        "colab": {
          "base_uri": "https://localhost:8080/"
        },
        "id": "Gm4cVcCMsceA",
        "outputId": "e709fd00-f3cc-4cde-d029-0e9fa96d66de"
      },
      "execution_count": null,
      "outputs": [
        {
          "output_type": "stream",
          "name": "stdout",
          "text": [
            "tf.Tensor(\n",
            "[[25 26]\n",
            " [27 28]], shape=(2, 2), dtype=int32)\n",
            "tf.Tensor(\n",
            "[[25 26]\n",
            " [27 28]], shape=(2, 2), dtype=int32)\n"
          ]
        }
      ]
    },
    {
      "cell_type": "code",
      "source": [
        "def func(a,b):\n",
        "  '''TODO: Define the operation for c, d, e (use tf.add, tf.subtract, tf.multiply).'''\n",
        "  c = tf.add(a,b)\n",
        "  d = tf.subtract(b,1)\n",
        "  e = tf.multiply(c,d)\n",
        "  return e"
      ],
      "metadata": {
        "id": "vgRACT4ltRcF"
      },
      "execution_count": null,
      "outputs": []
    },
    {
      "cell_type": "code",
      "source": [
        "func(a,b)"
      ],
      "metadata": {
        "colab": {
          "base_uri": "https://localhost:8080/"
        },
        "id": "_qfEbLZDtu2L",
        "outputId": "0a8044b5-0751-4086-fe76-468a9d139eb9"
      },
      "execution_count": null,
      "outputs": [
        {
          "output_type": "execute_result",
          "data": {
            "text/plain": [
              "<tf.Tensor: shape=(2, 2), dtype=int32, numpy=\n",
              "array([[225, 234],\n",
              "       [243, 252]], dtype=int32)>"
            ]
          },
          "metadata": {},
          "execution_count": 6
        }
      ]
    },
    {
      "cell_type": "code",
      "source": [
        "a, b = 1.5, 2.5\n",
        "# Execute the computation\n",
        "e_out = func(a,b)\n",
        "print(e_out)"
      ],
      "metadata": {
        "colab": {
          "base_uri": "https://localhost:8080/"
        },
        "id": "A5G6VHcZtyzM",
        "outputId": "8ab5e645-6fad-4476-d0a0-0b635023827d"
      },
      "execution_count": null,
      "outputs": [
        {
          "output_type": "stream",
          "name": "stdout",
          "text": [
            "tf.Tensor(6.0, shape=(), dtype=float32)\n"
          ]
        }
      ]
    },
    {
      "cell_type": "markdown",
      "source": [
        "### Neural networks in TensorFlow"
      ],
      "metadata": {
        "id": "qqH_8Tjauk4r"
      }
    },
    {
      "cell_type": "markdown",
      "source": [
        "TensorFlow uses a high-level API called Keras that provides a powerful, intuitive framework for building and training deep learning models.\n",
        "\n",
        "Tensors can flow through abstract types called Layers -- the building blocks of neural networks. Layers implement common neural networks operations, and are used to update weights, compute losses, and define inter-layer connectivity."
      ],
      "metadata": {
        "id": "dXBF11T2uybb"
      }
    },
    {
      "cell_type": "code",
      "source": [
        "!pip install mitdeeplearning\n",
        "import mitdeeplearning as mdl"
      ],
      "metadata": {
        "colab": {
          "base_uri": "https://localhost:8080/"
        },
        "id": "Cq2z6FRK129t",
        "outputId": "d9c8c742-d4ac-46f2-ec3e-32c86b9c35b9"
      },
      "execution_count": null,
      "outputs": [
        {
          "output_type": "stream",
          "name": "stdout",
          "text": [
            "Looking in indexes: https://pypi.org/simple, https://us-python.pkg.dev/colab-wheels/public/simple/\n",
            "Collecting mitdeeplearning\n",
            "  Downloading mitdeeplearning-0.2.0.tar.gz (2.1 MB)\n",
            "\u001b[K     |████████████████████████████████| 2.1 MB 11.5 MB/s \n",
            "\u001b[?25hRequirement already satisfied: numpy in /usr/local/lib/python3.7/dist-packages (from mitdeeplearning) (1.21.6)\n",
            "Requirement already satisfied: regex in /usr/local/lib/python3.7/dist-packages (from mitdeeplearning) (2022.6.2)\n",
            "Requirement already satisfied: tqdm in /usr/local/lib/python3.7/dist-packages (from mitdeeplearning) (4.64.1)\n",
            "Requirement already satisfied: gym in /usr/local/lib/python3.7/dist-packages (from mitdeeplearning) (0.25.2)\n",
            "Requirement already satisfied: importlib-metadata>=4.8.0 in /usr/local/lib/python3.7/dist-packages (from gym->mitdeeplearning) (4.13.0)\n",
            "Requirement already satisfied: cloudpickle>=1.2.0 in /usr/local/lib/python3.7/dist-packages (from gym->mitdeeplearning) (1.5.0)\n",
            "Requirement already satisfied: gym-notices>=0.0.4 in /usr/local/lib/python3.7/dist-packages (from gym->mitdeeplearning) (0.0.8)\n",
            "Requirement already satisfied: zipp>=0.5 in /usr/local/lib/python3.7/dist-packages (from importlib-metadata>=4.8.0->gym->mitdeeplearning) (3.10.0)\n",
            "Requirement already satisfied: typing-extensions>=3.6.4 in /usr/local/lib/python3.7/dist-packages (from importlib-metadata>=4.8.0->gym->mitdeeplearning) (4.1.1)\n",
            "Building wheels for collected packages: mitdeeplearning\n",
            "  Building wheel for mitdeeplearning (setup.py) ... \u001b[?25l\u001b[?25hdone\n",
            "  Created wheel for mitdeeplearning: filename=mitdeeplearning-0.2.0-py3-none-any.whl size=2115441 sha256=b1762027c17ac8f4ba9108626ba7d30a08ef30d44bda4830846fe350dd2fb8e4\n",
            "  Stored in directory: /root/.cache/pip/wheels/9a/b9/4f/99b7c8c5c75355550b83e1fcfc02956fb40c35eb01e2262877\n",
            "Successfully built mitdeeplearning\n",
            "Installing collected packages: mitdeeplearning\n",
            "Successfully installed mitdeeplearning-0.2.0\n"
          ]
        }
      ]
    },
    {
      "cell_type": "code",
      "source": [
        "class OurDenseLayer(tf.keras.layers.Layer):\n",
        "  def __init__(self, n_output_nodes):\n",
        "    super(OurDenseLayer, self).__init__()\n",
        "    self.n_output_nodes = n_output_nodes\n",
        "\n",
        "  def build(self, input_shape):\n",
        "    d = int(input_shape[-1])\n",
        "    # Define and initialize parameters: a weight matrix W and bias b\n",
        "    # Note that parameter initialization is random!\n",
        "    self.W = self.add_weight(\"weight\", shape=[d, self.n_output_nodes]) # note the dimensionality\n",
        "    self.b = self.add_weight(\"bias\", shape=[1, self.n_output_nodes]) # note the dimensionality\n",
        "\n",
        "  def call(self, x):\n",
        "    '''TODO: define the operation for z (hint: use tf.matmul)'''\n",
        "    z = tf.add(tf.matmul(x,self.W),self.b)\n",
        "\n",
        "    '''TODO: define the operation for out (hint: use tf.sigmoid)'''\n",
        "    y = tf.sigmoid(z)\n",
        "    return y\n"
      ],
      "metadata": {
        "id": "72UtNYb_t-UO"
      },
      "execution_count": null,
      "outputs": []
    },
    {
      "cell_type": "code",
      "source": [
        "\n",
        "# Since layer parameters are initialized randomly, we will set a random seed for reproducibility\n",
        "tf.random.set_seed(1)\n",
        "layer = OurDenseLayer(3)\n",
        "layer.build((1,2))\n",
        "x_input = tf.constant([[1,2.]], shape=(1,2))\n",
        "y = layer.call(x_input)\n",
        "\n",
        "# test the output!\n",
        "print(y.numpy())\n",
        "mdl.lab1.test_custom_dense_layer_output(y)"
      ],
      "metadata": {
        "colab": {
          "base_uri": "https://localhost:8080/"
        },
        "id": "QmRxoujZkh5D",
        "outputId": "476b2965-528e-4a8b-c007-7ec6bf8578b3"
      },
      "execution_count": null,
      "outputs": [
        {
          "output_type": "stream",
          "name": "stdout",
          "text": [
            "[[0.26978594 0.45750415 0.6653695 ]]\n",
            "[PASS] test_custom_dense_layer_output\n"
          ]
        },
        {
          "output_type": "execute_result",
          "data": {
            "text/plain": [
              "True"
            ]
          },
          "metadata": {},
          "execution_count": 4
        }
      ]
    },
    {
      "cell_type": "markdown",
      "source": [
        "Conveniently, TensorFlow has defined a number of Layers that are commonly used in neural networks, for example a Dense. Now, instead of using a single Layer to define our simple neural network, we'll use the Sequential model from Keras and a single Dense layer to define our network. With the Sequential API, you can readily create neural networks by stacking together layers like building blocks.\n"
      ],
      "metadata": {
        "id": "zy91bFKlx-vQ"
      }
    },
    {
      "cell_type": "code",
      "source": [
        "from tensorflow.keras import Sequential\n",
        "from tensorflow.keras.layers import Dense\n",
        "\n",
        "# Define the number of outputs\n",
        "n_output_nodes = 3\n",
        "\n",
        "# First define the model \n",
        "model = Sequential()\n",
        "\n",
        "'''TODO: Define a dense (fully connected) layer to compute z'''\n",
        "# Remember: dense layers are defined by the parameters W and b!\n",
        "# You can read more about the initialization of W and b in the TF documentation :) \n",
        "# https://www.tensorflow.org/api_docs/python/tf/keras/layers/Dense?version=stable\n",
        "dense_layer = Dense(n_output_nodes, activation='sigmoid')\n",
        "\n",
        "# Add the dense layer to the model\n",
        "model.add(dense_layer)"
      ],
      "metadata": {
        "id": "oG3zLorHknaH"
      },
      "execution_count": null,
      "outputs": []
    },
    {
      "cell_type": "code",
      "source": [
        "# Test model with example input\n",
        "x_input = tf.constant([[1,2.]], shape=(1,2))\n",
        "\n",
        "'''TODO: feed input into the model and predict the output!'''\n",
        "\n",
        "model_output = model(x_input)\n",
        "print(model_output)"
      ],
      "metadata": {
        "id": "eHjxtiNXzzIb",
        "colab": {
          "base_uri": "https://localhost:8080/"
        },
        "outputId": "b066608e-0fad-4579-e6cc-78e5d65aecd3"
      },
      "execution_count": null,
      "outputs": [
        {
          "output_type": "stream",
          "name": "stdout",
          "text": [
            "tf.Tensor([[0.5607363  0.65668976 0.1249697 ]], shape=(1, 3), dtype=float32)\n"
          ]
        }
      ]
    },
    {
      "cell_type": "code",
      "source": [],
      "metadata": {
        "id": "3wEKH8S63O1b"
      },
      "execution_count": null,
      "outputs": []
    },
    {
      "cell_type": "markdown",
      "source": [
        "### digit classification"
      ],
      "metadata": {
        "id": "ant_Otc2Ep6F"
      }
    },
    {
      "cell_type": "code",
      "source": [
        "import tensorflow as tf\n",
        "from tensorflow import keras\n",
        "import matplotlib.pyplot as plt\n",
        "%matplotlib inline\n",
        "import numpy as np"
      ],
      "metadata": {
        "id": "ep5NXIHBEuVT"
      },
      "execution_count": null,
      "outputs": []
    },
    {
      "cell_type": "code",
      "source": [
        "(X_train, y_train) , (X_test, y_test) = keras.datasets.mnist.load_data()"
      ],
      "metadata": {
        "colab": {
          "base_uri": "https://localhost:8080/"
        },
        "id": "LMFLhSV4E6PQ",
        "outputId": "ef98a6d1-aa6d-426f-9761-4952ee5909db"
      },
      "execution_count": null,
      "outputs": [
        {
          "output_type": "stream",
          "name": "stdout",
          "text": [
            "Downloading data from https://storage.googleapis.com/tensorflow/tf-keras-datasets/mnist.npz\n",
            "11490434/11490434 [==============================] - 0s 0us/step\n"
          ]
        }
      ]
    },
    {
      "cell_type": "code",
      "source": [
        "len(X_train)"
      ],
      "metadata": {
        "colab": {
          "base_uri": "https://localhost:8080/"
        },
        "id": "tfFC8TV2TXyS",
        "outputId": "aac21fbd-90c4-4cf0-d1f4-e7a02a97d92c"
      },
      "execution_count": null,
      "outputs": [
        {
          "output_type": "execute_result",
          "data": {
            "text/plain": [
              "60000"
            ]
          },
          "metadata": {},
          "execution_count": 3
        }
      ]
    },
    {
      "cell_type": "code",
      "source": [
        "X_train[0].shape"
      ],
      "metadata": {
        "colab": {
          "base_uri": "https://localhost:8080/"
        },
        "id": "kSdkadJkUH-z",
        "outputId": "a66bfd3b-1948-4d40-d33e-b2a994d19993"
      },
      "execution_count": null,
      "outputs": [
        {
          "output_type": "execute_result",
          "data": {
            "text/plain": [
              "(28, 28)"
            ]
          },
          "metadata": {},
          "execution_count": 4
        }
      ]
    },
    {
      "cell_type": "code",
      "source": [
        "plt.matshow(X_train[0])"
      ],
      "metadata": {
        "colab": {
          "base_uri": "https://localhost:8080/",
          "height": 292
        },
        "id": "cMr9MHmAUngg",
        "outputId": "d99276b6-2a82-436f-bdbb-c8f258e2c338"
      },
      "execution_count": null,
      "outputs": [
        {
          "output_type": "execute_result",
          "data": {
            "text/plain": [
              "<matplotlib.image.AxesImage at 0x7f5db5b857f0>"
            ]
          },
          "metadata": {},
          "execution_count": 5
        },
        {
          "output_type": "display_data",
          "data": {
            "text/plain": [
              "<Figure size 288x288 with 1 Axes>"
            ],
            "image/png": "[encoded data removed]"
          },
          "metadata": {
            "needs_background": "light"
          }
        }
      ]
    },
    {
      "cell_type": "code",
      "source": [
        "X_train_flattened = X_train.reshape(len(X_train), -1)/255\n",
        "X_test_flattened = X_test.reshape(len(X_test), -1)/255"
      ],
      "metadata": {
        "id": "-23oIAe3VU7d"
      },
      "execution_count": null,
      "outputs": []
    },
    {
      "cell_type": "markdown",
      "source": [
        "scaling improves the accuracy."
      ],
      "metadata": {
        "id": "H86wyQe9p1yx"
      }
    },
    {
      "cell_type": "code",
      "source": [
        "X_train_flattened.shape"
      ],
      "metadata": {
        "colab": {
          "base_uri": "https://localhost:8080/"
        },
        "id": "Y7lvBA4IVn60",
        "outputId": "bf29705a-00be-489c-9257-cac95a9fd3f3"
      },
      "execution_count": null,
      "outputs": [
        {
          "output_type": "execute_result",
          "data": {
            "text/plain": [
              "(60000, 784)"
            ]
          },
          "metadata": {},
          "execution_count": 7
        }
      ]
    },
    {
      "cell_type": "markdown",
      "source": [
        "input: 784\n",
        "\n",
        "output: 10 "
      ],
      "metadata": {
        "id": "9pY9trSQ0F30"
      }
    },
    {
      "cell_type": "markdown",
      "source": [
        "784 input to 10 output\n",
        "\n",
        "simple NN without any hidden layer"
      ],
      "metadata": {
        "id": "xUQIWgVmV-qb"
      }
    },
    {
      "cell_type": "markdown",
      "source": [
        "<img src=\"https://raw.githubusercontent.com/codebasics/deep-learning-keras-tf-tutorial/0981fe55db7a7abf19ff1d852d9a59153289641e/1_digits_recognition/digits_nn.jpg\"/>"
      ],
      "metadata": {
        "id": "xUsqkFp9WlWc"
      }
    },
    {
      "cell_type": "code",
      "source": [
        "model = keras.Sequential(keras.layers.Dense(10,input_shape=(784,), activation=\"sigmoid\", ))\n",
        "model.compile(optimizer='adam',\n",
        "              loss='sparse_categorical_crossentropy',\n",
        "              metrics=['accuracy'])\n",
        "model.fit(X_train_flattened, y_train, epochs= 5)"
      ],
      "metadata": {
        "colab": {
          "base_uri": "https://localhost:8080/"
        },
        "id": "oXhBYtkVVs-8",
        "outputId": "6ebd031f-abb8-41f4-810e-98a018bf6b4e"
      },
      "execution_count": null,
      "outputs": [
        {
          "output_type": "stream",
          "name": "stdout",
          "text": [
            "Epoch 1/5\n",
            "1875/1875 [==============================] - 3s 1ms/step - loss: 0.4706 - accuracy: 0.8778\n",
            "Epoch 2/5\n",
            "1875/1875 [==============================] - 2s 1ms/step - loss: 0.3044 - accuracy: 0.9150\n",
            "Epoch 3/5\n",
            "1875/1875 [==============================] - 2s 1ms/step - loss: 0.2841 - accuracy: 0.9207\n",
            "Epoch 4/5\n",
            "1875/1875 [==============================] - 3s 2ms/step - loss: 0.2734 - accuracy: 0.9245\n",
            "Epoch 5/5\n",
            "1875/1875 [==============================] - 4s 2ms/step - loss: 0.2672 - accuracy: 0.9255\n"
          ]
        },
        {
          "output_type": "execute_result",
          "data": {
            "text/plain": [
              "<keras.callbacks.History at 0x7f5db13b71c0>"
            ]
          },
          "metadata": {},
          "execution_count": 8
        }
      ]
    },
    {
      "cell_type": "code",
      "source": [
        "model.evaluate(X_test_flattened, y_test)"
      ],
      "metadata": {
        "colab": {
          "base_uri": "https://localhost:8080/"
        },
        "id": "KpHiemuHjoTn",
        "outputId": "a970b276-d2af-4c98-cde7-4a58d9bdef50"
      },
      "execution_count": null,
      "outputs": [
        {
          "output_type": "stream",
          "name": "stdout",
          "text": [
            "313/313 [==============================] - 1s 2ms/step - loss: 0.2680 - accuracy: 0.9236\n"
          ]
        },
        {
          "output_type": "execute_result",
          "data": {
            "text/plain": [
              "[0.2680058479309082, 0.9236000180244446]"
            ]
          },
          "metadata": {},
          "execution_count": 9
        }
      ]
    },
    {
      "cell_type": "markdown",
      "source": [
        "y_predicted will be an array of _________ , where the highest value represent the class/ category the data point will belong to."
      ],
      "metadata": {
        "id": "M4lCXv3-qKSx"
      }
    },
    {
      "cell_type": "code",
      "source": [
        "y_predicted = model.predict(X_test_flattened)\n",
        "y_predicted[0]"
      ],
      "metadata": {
        "colab": {
          "base_uri": "https://localhost:8080/"
        },
        "id": "vff3ynfSkAtO",
        "outputId": "8d161837-71fd-4c6d-b699-99a7c8aa7a81"
      },
      "execution_count": null,
      "outputs": [
        {
          "output_type": "stream",
          "name": "stdout",
          "text": [
            "313/313 [==============================] - 1s 2ms/step\n"
          ]
        },
        {
          "output_type": "execute_result",
          "data": {
            "text/plain": [
              "array([1.73662659e-02, 3.05542443e-07, 4.82722707e-02, 9.45348263e-01,\n",
              "       2.65075685e-03, 1.03771105e-01, 1.14853083e-06, 9.99813139e-01,\n",
              "       6.15767203e-02, 5.99195182e-01], dtype=float32)"
            ]
          },
          "metadata": {},
          "execution_count": 10
        }
      ]
    },
    {
      "cell_type": "code",
      "source": [
        "y_test[0]"
      ],
      "metadata": {
        "colab": {
          "base_uri": "https://localhost:8080/"
        },
        "id": "m4SuXqKwobeU",
        "outputId": "544b8774-d898-4350-fa12-8527d46ccfe2"
      },
      "execution_count": null,
      "outputs": [
        {
          "output_type": "execute_result",
          "data": {
            "text/plain": [
              "7"
            ]
          },
          "metadata": {},
          "execution_count": 11
        }
      ]
    },
    {
      "cell_type": "code",
      "source": [
        "y_predicted_labels = [np.argmax(i) for i in y_predicted]"
      ],
      "metadata": {
        "id": "ExrgJI-yo81i"
      },
      "execution_count": null,
      "outputs": []
    },
    {
      "cell_type": "code",
      "source": [
        "y_predicted_labels[:5]"
      ],
      "metadata": {
        "colab": {
          "base_uri": "https://localhost:8080/"
        },
        "id": "HoWjdyippKYg",
        "outputId": "aa278d37-cc33-4652-fef0-40ad8d157717"
      },
      "execution_count": null,
      "outputs": [
        {
          "output_type": "execute_result",
          "data": {
            "text/plain": [
              "[7, 2, 1, 0, 4]"
            ]
          },
          "metadata": {},
          "execution_count": 13
        }
      ]
    },
    {
      "cell_type": "code",
      "source": [
        "y_test[:5]"
      ],
      "metadata": {
        "colab": {
          "base_uri": "https://localhost:8080/"
        },
        "id": "DqLR-xO5pLIJ",
        "outputId": "b45f7d21-c8b4-4f09-e354-6d6e1b1e6a58"
      },
      "execution_count": null,
      "outputs": [
        {
          "output_type": "execute_result",
          "data": {
            "text/plain": [
              "array([7, 2, 1, 0, 4], dtype=uint8)"
            ]
          },
          "metadata": {},
          "execution_count": 14
        }
      ]
    },
    {
      "cell_type": "code",
      "source": [
        "cm = tf.math.confusion_matrix(y_test, y_predicted_labels)\n",
        "\n",
        "import seaborn as sn\n",
        "\n",
        "%matplotlib inline\n",
        "sn.heatmap(cm, annot=True, fmt='d')\n",
        "plt.xlabel('Predicted')\n",
        "plt.ylabel('Truth')"
      ],
      "metadata": {
        "colab": {
          "base_uri": "https://localhost:8080/",
          "height": 296
        },
        "id": "Y6IKnBeUpOw6",
        "outputId": "625a1d38-ef91-4588-c3cb-0a0e4df57bae"
      },
      "execution_count": null,
      "outputs": [
        {
          "output_type": "execute_result",
          "data": {
            "text/plain": [
              "Text(33.0, 0.5, 'Truth')"
            ]
          },
          "metadata": {},
          "execution_count": 15
        },
        {
          "output_type": "display_data",
          "data": {
            "text/plain": [
              "<Figure size 432x288 with 2 Axes>"
            ],
            "image/png": "[encoded data removed]"
          },
          "metadata": {
            "needs_background": "light"
          }
        }
      ]
    },
    {
      "cell_type": "markdown",
      "source": [
        "using hidden layer\n",
        "\n",
        "786--->100--->10"
      ],
      "metadata": {
        "id": "s8u5P2bAsxNS"
      }
    },
    {
      "cell_type": "code",
      "source": [
        "model2 = keras.Sequential()\n",
        "model2.add(keras.layers.Dense(100, input_shape=(784,)))\n",
        "model2.add(keras.layers.Dense(10, activation='sigmoid'))\n",
        "\n",
        "model2.compile(\n",
        "    optimizer='adam',\n",
        "    loss='sparse_categorical_crossentropy',\n",
        "    metrics=['accuracy']\n",
        ")"
      ],
      "metadata": {
        "id": "JdefXSnksfFg"
      },
      "execution_count": null,
      "outputs": []
    },
    {
      "cell_type": "code",
      "source": [
        "model2.fit(X_train_flattened, y_train, epochs=5)"
      ],
      "metadata": {
        "colab": {
          "base_uri": "https://localhost:8080/"
        },
        "id": "vt9MJE0OuyP7",
        "outputId": "20903f4a-0aba-4191-9951-154df4791152"
      },
      "execution_count": null,
      "outputs": [
        {
          "output_type": "stream",
          "name": "stdout",
          "text": [
            "Epoch 1/5\n",
            "1875/1875 [==============================] - 7s 4ms/step - loss: 0.3631 - accuracy: 0.8962\n",
            "Epoch 2/5\n",
            "1875/1875 [==============================] - 6s 3ms/step - loss: 0.2957 - accuracy: 0.9173\n",
            "Epoch 3/5\n",
            "1875/1875 [==============================] - 3s 2ms/step - loss: 0.2864 - accuracy: 0.9208\n",
            "Epoch 4/5\n",
            "1875/1875 [==============================] - 3s 2ms/step - loss: 0.2788 - accuracy: 0.9220\n",
            "Epoch 5/5\n",
            "1875/1875 [==============================] - 3s 2ms/step - loss: 0.2743 - accuracy: 0.9233\n"
          ]
        },
        {
          "output_type": "execute_result",
          "data": {
            "text/plain": [
              "<keras.callbacks.History at 0x7f5da96d6ac0>"
            ]
          },
          "metadata": {},
          "execution_count": 17
        }
      ]
    },
    {
      "cell_type": "code",
      "source": [
        "model3 = keras.Sequential()\n",
        "model3.add(keras.layers.Dense(100, input_shape=(784,), activation='relu'))\n",
        "model3.add(keras.layers.Dense(10, activation='sigmoid'))\n",
        "\n",
        "model3.compile(\n",
        "    optimizer='adam',\n",
        "    loss='sparse_categorical_crossentropy',\n",
        "    metrics=['accuracy']\n",
        ")"
      ],
      "metadata": {
        "id": "IgJIBRxhvJsa"
      },
      "execution_count": null,
      "outputs": []
    },
    {
      "cell_type": "code",
      "source": [
        "model3.fit(X_train_flattened, y_train, epochs=5)"
      ],
      "metadata": {
        "colab": {
          "base_uri": "https://localhost:8080/"
        },
        "id": "N5YzkoQtwoIA",
        "outputId": "bd381cc4-3236-49a1-f056-82fb4bd6fc7a"
      },
      "execution_count": null,
      "outputs": [
        {
          "output_type": "stream",
          "name": "stdout",
          "text": [
            "Epoch 1/5\n",
            "1875/1875 [==============================] - 4s 2ms/step - loss: 0.2702 - accuracy: 0.9231\n",
            "Epoch 2/5\n",
            "1875/1875 [==============================] - 3s 2ms/step - loss: 0.1202 - accuracy: 0.9647\n",
            "Epoch 3/5\n",
            "1875/1875 [==============================] - 3s 2ms/step - loss: 0.0847 - accuracy: 0.9748\n",
            "Epoch 4/5\n",
            "1875/1875 [==============================] - 3s 2ms/step - loss: 0.0641 - accuracy: 0.9804\n",
            "Epoch 5/5\n",
            "1875/1875 [==============================] - 3s 2ms/step - loss: 0.0501 - accuracy: 0.9847\n"
          ]
        },
        {
          "output_type": "execute_result",
          "data": {
            "text/plain": [
              "<keras.callbacks.History at 0x7f5dae9b6b50>"
            ]
          },
          "metadata": {},
          "execution_count": 19
        }
      ]
    },
    {
      "cell_type": "code",
      "source": [
        "model2.evaluate(X_test_flattened,y_test)"
      ],
      "metadata": {
        "colab": {
          "base_uri": "https://localhost:8080/"
        },
        "id": "Wa7fJXHuwsiL",
        "outputId": "5cdab9b8-7537-43ab-e338-6140e8a6c12a"
      },
      "execution_count": null,
      "outputs": [
        {
          "output_type": "stream",
          "name": "stdout",
          "text": [
            "313/313 [==============================] - 0s 1ms/step - loss: 0.2839 - accuracy: 0.9207\n"
          ]
        },
        {
          "output_type": "execute_result",
          "data": {
            "text/plain": [
              "[0.2839291989803314, 0.9207000136375427]"
            ]
          },
          "metadata": {},
          "execution_count": 20
        }
      ]
    },
    {
      "cell_type": "code",
      "source": [
        "model3.evaluate(X_test_flattened,y_test)"
      ],
      "metadata": {
        "colab": {
          "base_uri": "https://localhost:8080/"
        },
        "id": "tvodx4GdxGaQ",
        "outputId": "826d5a21-69aa-4732-c6e1-0ece6fb4eaad"
      },
      "execution_count": null,
      "outputs": [
        {
          "output_type": "stream",
          "name": "stdout",
          "text": [
            "313/313 [==============================] - 0s 1ms/step - loss: 0.0852 - accuracy: 0.9726\n"
          ]
        },
        {
          "output_type": "execute_result",
          "data": {
            "text/plain": [
              "[0.08516579866409302, 0.972599983215332]"
            ]
          },
          "metadata": {},
          "execution_count": 21
        }
      ]
    },
    {
      "cell_type": "code",
      "source": [
        "y_predicted = model3.predict(X_test_flattened)\n",
        "y_predicted_labels = [np.argmax(i) for i in y_predicted]\n",
        "cm = tf.math.confusion_matrix(labels=y_test,predictions=y_predicted_labels)\n",
        "\n",
        "plt.figure(figsize = (10,7))\n",
        "sn.heatmap(cm, annot=True, fmt='d')\n",
        "plt.xlabel('Predicted')\n",
        "plt.ylabel('Truth')"
      ],
      "metadata": {
        "colab": {
          "base_uri": "https://localhost:8080/",
          "height": 477
        },
        "id": "VZlXLSVPxJ-B",
        "outputId": "b646456e-be1e-4ac7-922b-ec38e498c4d7"
      },
      "execution_count": null,
      "outputs": [
        {
          "output_type": "stream",
          "name": "stdout",
          "text": [
            "313/313 [==============================] - 0s 1ms/step\n"
          ]
        },
        {
          "output_type": "execute_result",
          "data": {
            "text/plain": [
              "Text(69.0, 0.5, 'Truth')"
            ]
          },
          "metadata": {},
          "execution_count": 31
        },
        {
          "output_type": "display_data",
          "data": {
            "text/plain": [
              "<Figure size 720x504 with 2 Axes>"
            ],
            "image/png": "[encoded data removed]"
          },
          "metadata": {
            "needs_background": "light"
          }
        }
      ]
    },
    {
      "cell_type": "markdown",
      "source": [
        "Using Flatten layer so that we don't have to call .reshape on input dataset"
      ],
      "metadata": {
        "id": "bCiug6UCxcIw"
      }
    },
    {
      "cell_type": "code",
      "source": [
        "model = keras.Sequential([\n",
        "    keras.layers.Flatten(input_shape=(28, 28)),\n",
        "    keras.layers.Dense(100, activation='relu'),\n",
        "    keras.layers.Dense(10, activation='sigmoid')\n",
        "])\n",
        "\n",
        "model.compile(optimizer='adam',\n",
        "              loss='sparse_categorical_crossentropy',\n",
        "              metrics=['accuracy'])\n",
        "\n",
        "model.fit(X_train/255, y_train, epochs=5)"
      ],
      "metadata": {
        "colab": {
          "base_uri": "https://localhost:8080/"
        },
        "id": "AGA3A0wKxSHi",
        "outputId": "9ec248f7-b1fc-41a9-8e57-605032cb2c61"
      },
      "execution_count": null,
      "outputs": [
        {
          "output_type": "stream",
          "name": "stdout",
          "text": [
            "Epoch 1/5\n",
            "1875/1875 [==============================] - 4s 2ms/step - loss: 0.2751 - accuracy: 0.9221\n",
            "Epoch 2/5\n",
            "1875/1875 [==============================] - 3s 2ms/step - loss: 0.1239 - accuracy: 0.9636\n",
            "Epoch 3/5\n",
            "1875/1875 [==============================] - 4s 2ms/step - loss: 0.0856 - accuracy: 0.9739\n",
            "Epoch 4/5\n",
            "1875/1875 [==============================] - 4s 2ms/step - loss: 0.0645 - accuracy: 0.9802\n",
            "Epoch 5/5\n",
            "1875/1875 [==============================] - 4s 2ms/step - loss: 0.0514 - accuracy: 0.9842\n"
          ]
        },
        {
          "output_type": "execute_result",
          "data": {
            "text/plain": [
              "<keras.callbacks.History at 0x7f5dae925f10>"
            ]
          },
          "metadata": {},
          "execution_count": 32
        }
      ]
    },
    {
      "cell_type": "code",
      "source": [
        "model.evaluate(X_test/255,y_test)"
      ],
      "metadata": {
        "colab": {
          "base_uri": "https://localhost:8080/"
        },
        "id": "JWugAYioxhFl",
        "outputId": "8adf7275-d497-4599-a05b-1317649b210a"
      },
      "execution_count": null,
      "outputs": [
        {
          "output_type": "stream",
          "name": "stdout",
          "text": [
            "313/313 [==============================] - 1s 1ms/step - loss: 0.0853 - accuracy: 0.9735\n"
          ]
        },
        {
          "output_type": "execute_result",
          "data": {
            "text/plain": [
              "[0.08534921705722809, 0.9735000133514404]"
            ]
          },
          "metadata": {},
          "execution_count": 33
        }
      ]
    },
    {
      "cell_type": "code",
      "source": [
        "y_pred= model.predict(X_test/255)"
      ],
      "metadata": {
        "id": "5YZB3BacxmlF",
        "colab": {
          "base_uri": "https://localhost:8080/"
        },
        "outputId": "98a38860-7ab4-44da-db60-b7a81f8a4890"
      },
      "execution_count": null,
      "outputs": [
        {
          "output_type": "stream",
          "name": "stdout",
          "text": [
            "313/313 [==============================] - 0s 1ms/step\n"
          ]
        }
      ]
    },
    {
      "cell_type": "code",
      "source": [
        "y_predicted_labels = [np.argmax(i) for i in y_pred]\n",
        "cm = tf.math.confusion_matrix(labels=y_test,predictions=y_predicted_labels)\n",
        "\n",
        "plt.figure(figsize = (10,7))\n",
        "sn.heatmap(cm, annot=True, fmt='d')\n",
        "plt.xlabel('Predicted')\n",
        "plt.ylabel('Truth')"
      ],
      "metadata": {
        "colab": {
          "base_uri": "https://localhost:8080/",
          "height": 459
        },
        "id": "zq13bBsWqz6o",
        "outputId": "417551f1-efd0-495a-e730-edc51efbdf6f"
      },
      "execution_count": null,
      "outputs": [
        {
          "output_type": "execute_result",
          "data": {
            "text/plain": [
              "Text(69.0, 0.5, 'Truth')"
            ]
          },
          "metadata": {},
          "execution_count": 35
        },
        {
          "output_type": "display_data",
          "data": {
            "text/plain": [
              "<Figure size 720x504 with 2 Axes>"
            ],
            "image/png": "[encoded data removed]"
          },
          "metadata": {
            "needs_background": "light"
          }
        }
      ]
    },
    {
      "cell_type": "markdown",
      "source": [
        "### activation function"
      ],
      "metadata": {
        "id": "GrAwvfSU1RHs"
      }
    },
    {
      "cell_type": "markdown",
      "source": [
        "In artificial neural networks, the activation function of a node defines the output of that node given an input or set of inputs.\n",
        "\n",
        "purpose of activation function is to introduce non linearity in network\n",
        "\n",
        "some common activation function are 🔻\n",
        "\n",
        "\n",
        "*   Sigmoid\n",
        "*   ReLU\n",
        "*   Tanh\n"
      ],
      "metadata": {
        "id": "hAdYdQ-23Cl3"
      }
    },
    {
      "cell_type": "markdown",
      "source": [
        "sigmoid :- is same as logistic regression.\n",
        "\n",
        "Y(x) = Sigmoid(x) = 1/(1+e^-x)"
      ],
      "metadata": {
        "id": "c5ojksUf3CW5"
      }
    },
    {
      "cell_type": "markdown",
      "source": [
        "ReLU(x):\n",
        "\n",
        "{ 0 x<0\n",
        "\n",
        "x  x>=0"
      ],
      "metadata": {
        "id": "r_mxCW0H4pVn"
      }
    },
    {
      "cell_type": "markdown",
      "source": [
        "<img src=\"https://wikimedia.org/api/rest_v1/media/math/render/svg/f5ae4481873b5c6117772f69d22b262a24f38e7c\" background=\"white\" />"
      ],
      "metadata": {
        "id": "fOS_Wn6Y46NB"
      }
    },
    {
      "cell_type": "markdown",
      "source": [
        "### dropout regularization"
      ],
      "metadata": {
        "id": "HJPuOTJW6tyY"
      }
    },
    {
      "cell_type": "code",
      "source": [
        "import pandas as pd\n",
        "import tensorflow as tf\n",
        "from tensorflow import keras\n",
        "import numpy as np\n",
        "import matplotlib.pyplot as plt\n"
      ],
      "metadata": {
        "id": "xU2Lbwwn8d3w"
      },
      "execution_count": 1,
      "outputs": []
    },
    {
      "cell_type": "code",
      "source": [
        "url =\"https://raw.githubusercontent.com/harsh-kmr/ml_projects/master/sonar.csv\""
      ],
      "metadata": {
        "id": "cEUSTnbw61vK"
      },
      "execution_count": 2,
      "outputs": []
    },
    {
      "cell_type": "code",
      "source": [
        "df =pd.read_csv(url, header=None)\n",
        "\n",
        "df.head()"
      ],
      "metadata": {
        "id": "mmL6K60n8B06",
        "colab": {
          "base_uri": "https://localhost:8080/",
          "height": 299
        },
        "outputId": "6f997a57-2b0d-47bf-e491-e844a726b9e6"
      },
      "execution_count": 3,
      "outputs": [
        {
          "output_type": "execute_result",
          "data": {
            "text/plain": [
              "       0       1       2       3       4       5       6       7       8   \\\n",
              "0  0.0200  0.0371  0.0428  0.0207  0.0954  0.0986  0.1539  0.1601  0.3109   \n",
              "1  0.0453  0.0523  0.0843  0.0689  0.1183  0.2583  0.2156  0.3481  0.3337   \n",
              "2  0.0262  0.0582  0.1099  0.1083  0.0974  0.2280  0.2431  0.3771  0.5598   \n",
              "3  0.0100  0.0171  0.0623  0.0205  0.0205  0.0368  0.1098  0.1276  0.0598   \n",
              "4  0.0762  0.0666  0.0481  0.0394  0.0590  0.0649  0.1209  0.2467  0.3564   \n",
              "\n",
              "       9   ...      51      52      53      54      55      56      57  \\\n",
              "0  0.2111  ...  0.0027  0.0065  0.0159  0.0072  0.0167  0.0180  0.0084   \n",
              "1  0.2872  ...  0.0084  0.0089  0.0048  0.0094  0.0191  0.0140  0.0049   \n",
              "2  0.6194  ...  0.0232  0.0166  0.0095  0.0180  0.0244  0.0316  0.0164   \n",
              "3  0.1264  ...  0.0121  0.0036  0.0150  0.0085  0.0073  0.0050  0.0044   \n",
              "4  0.4459  ...  0.0031  0.0054  0.0105  0.0110  0.0015  0.0072  0.0048   \n",
              "\n",
              "       58      59  60  \n",
              "0  0.0090  0.0032   R  \n",
              "1  0.0052  0.0044   R  \n",
              "2  0.0095  0.0078   R  \n",
              "3  0.0040  0.0117   R  \n",
              "4  0.0107  0.0094   R  \n",
              "\n",
              "[5 rows x 61 columns]"
            ],
            "text/html": [
              "\n",
              "  <div id=\"df-df3d6375-7e16-4036-95e2-d3131ee74442\">\n",
              "    <div class=\"colab-df-container\">\n",
              "      <div>\n",
              "<style scoped>\n",
              "    .dataframe tbody tr th:only-of-type {\n",
              "        vertical-align: middle;\n",
              "    }\n",
              "\n",
              "    .dataframe tbody tr th {\n",
              "        vertical-align: top;\n",
              "    }\n",
              "\n",
              "    .dataframe thead th {\n",
              "        text-align: right;\n",
              "    }\n",
              "</style>\n",
              "<table border=\"1\" class=\"dataframe\">\n",
              "  <thead>\n",
              "    <tr style=\"text-align: right;\">\n",
              "      <th></th>\n",
              "      <th>0</th>\n",
              "      <th>1</th>\n",
              "      <th>2</th>\n",
              "      <th>3</th>\n",
              "      <th>4</th>\n",
              "      <th>5</th>\n",
              "      <th>6</th>\n",
              "      <th>7</th>\n",
              "      <th>8</th>\n",
              "      <th>9</th>\n",
              "      <th>...</th>\n",
              "      <th>51</th>\n",
              "      <th>52</th>\n",
              "      <th>53</th>\n",
              "      <th>54</th>\n",
              "      <th>55</th>\n",
              "      <th>56</th>\n",
              "      <th>57</th>\n",
              "      <th>58</th>\n",
              "      <th>59</th>\n",
              "      <th>60</th>\n",
              "    </tr>\n",
              "  </thead>\n",
              "  <tbody>\n",
              "    <tr>\n",
              "      <th>0</th>\n",
              "      <td>0.0200</td>\n",
              "      <td>0.0371</td>\n",
              "      <td>0.0428</td>\n",
              "      <td>0.0207</td>\n",
              "      <td>0.0954</td>\n",
              "      <td>0.0986</td>\n",
              "      <td>0.1539</td>\n",
              "      <td>0.1601</td>\n",
              "      <td>0.3109</td>\n",
              "      <td>0.2111</td>\n",
              "      <td>...</td>\n",
              "      <td>0.0027</td>\n",
              "      <td>0.0065</td>\n",
              "      <td>0.0159</td>\n",
              "      <td>0.0072</td>\n",
              "      <td>0.0167</td>\n",
              "      <td>0.0180</td>\n",
              "      <td>0.0084</td>\n",
              "      <td>0.0090</td>\n",
              "      <td>0.0032</td>\n",
              "      <td>R</td>\n",
              "    </tr>\n",
              "    <tr>\n",
              "      <th>1</th>\n",
              "      <td>0.0453</td>\n",
              "      <td>0.0523</td>\n",
              "      <td>0.0843</td>\n",
              "      <td>0.0689</td>\n",
              "      <td>0.1183</td>\n",
              "      <td>0.2583</td>\n",
              "      <td>0.2156</td>\n",
              "      <td>0.3481</td>\n",
              "      <td>0.3337</td>\n",
              "      <td>0.2872</td>\n",
              "      <td>...</td>\n",
              "      <td>0.0084</td>\n",
              "      <td>0.0089</td>\n",
              "      <td>0.0048</td>\n",
              "      <td>0.0094</td>\n",
              "      <td>0.0191</td>\n",
              "      <td>0.0140</td>\n",
              "      <td>0.0049</td>\n",
              "      <td>0.0052</td>\n",
              "      <td>0.0044</td>\n",
              "      <td>R</td>\n",
              "    </tr>\n",
              "    <tr>\n",
              "      <th>2</th>\n",
              "      <td>0.0262</td>\n",
              "      <td>0.0582</td>\n",
              "      <td>0.1099</td>\n",
              "      <td>0.1083</td>\n",
              "      <td>0.0974</td>\n",
              "      <td>0.2280</td>\n",
              "      <td>0.2431</td>\n",
              "      <td>0.3771</td>\n",
              "      <td>0.5598</td>\n",
              "      <td>0.6194</td>\n",
              "      <td>...</td>\n",
              "      <td>0.0232</td>\n",
              "      <td>0.0166</td>\n",
              "      <td>0.0095</td>\n",
              "      <td>0.0180</td>\n",
              "      <td>0.0244</td>\n",
              "      <td>0.0316</td>\n",
              "      <td>0.0164</td>\n",
              "      <td>0.0095</td>\n",
              "      <td>0.0078</td>\n",
              "      <td>R</td>\n",
              "    </tr>\n",
              "    <tr>\n",
              "      <th>3</th>\n",
              "      <td>0.0100</td>\n",
              "      <td>0.0171</td>\n",
              "      <td>0.0623</td>\n",
              "      <td>0.0205</td>\n",
              "      <td>0.0205</td>\n",
              "      <td>0.0368</td>\n",
              "      <td>0.1098</td>\n",
              "      <td>0.1276</td>\n",
              "      <td>0.0598</td>\n",
              "      <td>0.1264</td>\n",
              "      <td>...</td>\n",
              "      <td>0.0121</td>\n",
              "      <td>0.0036</td>\n",
              "      <td>0.0150</td>\n",
              "      <td>0.0085</td>\n",
              "      <td>0.0073</td>\n",
              "      <td>0.0050</td>\n",
              "      <td>0.0044</td>\n",
              "      <td>0.0040</td>\n",
              "      <td>0.0117</td>\n",
              "      <td>R</td>\n",
              "    </tr>\n",
              "    <tr>\n",
              "      <th>4</th>\n",
              "      <td>0.0762</td>\n",
              "      <td>0.0666</td>\n",
              "      <td>0.0481</td>\n",
              "      <td>0.0394</td>\n",
              "      <td>0.0590</td>\n",
              "      <td>0.0649</td>\n",
              "      <td>0.1209</td>\n",
              "      <td>0.2467</td>\n",
              "      <td>0.3564</td>\n",
              "      <td>0.4459</td>\n",
              "      <td>...</td>\n",
              "      <td>0.0031</td>\n",
              "      <td>0.0054</td>\n",
              "      <td>0.0105</td>\n",
              "      <td>0.0110</td>\n",
              "      <td>0.0015</td>\n",
              "      <td>0.0072</td>\n",
              "      <td>0.0048</td>\n",
              "      <td>0.0107</td>\n",
              "      <td>0.0094</td>\n",
              "      <td>R</td>\n",
              "    </tr>\n",
              "  </tbody>\n",
              "</table>\n",
              "<p>5 rows × 61 columns</p>\n",
              "</div>\n",
              "      <button class=\"colab-df-convert\" onclick=\"convertToInteractive('df-df3d6375-7e16-4036-95e2-d3131ee74442')\"\n",
              "              title=\"Convert this dataframe to an interactive table.\"\n",
              "              style=\"display:none;\">\n",
              "        \n",
              "  <svg xmlns=\"http://www.w3.org/2000/svg\" height=\"24px\"viewBox=\"0 0 24 24\"\n",
              "       width=\"24px\">\n",
              "    <path d=\"M0 0h24v24H0V0z\" fill=\"none\"/>\n",
              "    <path d=\"M18.56 5.44l.94 2.06.94-2.06 2.06-.94-2.06-.94-.94-2.06-.94 2.06-2.06.94zm-11 1L8.5 8.5l.94-2.06 2.06-.94-2.06-.94L8.5 2.5l-.94 2.06-2.06.94zm10 10l.94 2.06.94-2.06 2.06-.94-2.06-.94-.94-2.06-.94 2.06-2.06.94z\"/><path d=\"M17.41 7.96l-1.37-1.37c-.4-.4-.92-.59-1.43-.59-.52 0-1.04.2-1.43.59L10.3 9.45l-7.72 7.72c-.78.78-.78 2.05 0 2.83L4 21.41c.39.39.9.59 1.41.59.51 0 1.02-.2 1.41-.59l7.78-7.78 2.81-2.81c.8-.78.8-2.07 0-2.86zM5.41 20L4 18.59l7.72-7.72 1.47 1.35L5.41 20z\"/>\n",
              "  </svg>\n",
              "      </button>\n",
              "      \n",
              "  <style>\n",
              "    .colab-df-container {\n",
              "      display:flex;\n",
              "      flex-wrap:wrap;\n",
              "      gap: 12px;\n",
              "    }\n",
              "\n",
              "    .colab-df-convert {\n",
              "      background-color: #E8F0FE;\n",
              "      border: none;\n",
              "      border-radius: 50%;\n",
              "      cursor: pointer;\n",
              "      display: none;\n",
              "      fill: #1967D2;\n",
              "      height: 32px;\n",
              "      padding: 0 0 0 0;\n",
              "      width: 32px;\n",
              "    }\n",
              "\n",
              "    .colab-df-convert:hover {\n",
              "      background-color: #E2EBFA;\n",
              "      box-shadow: 0px 1px 2px rgba(60, 64, 67, 0.3), 0px 1px 3px 1px rgba(60, 64, 67, 0.15);\n",
              "      fill: #174EA6;\n",
              "    }\n",
              "\n",
              "    [theme=dark] .colab-df-convert {\n",
              "      background-color: #3B4455;\n",
              "      fill: #D2E3FC;\n",
              "    }\n",
              "\n",
              "    [theme=dark] .colab-df-convert:hover {\n",
              "      background-color: #434B5C;\n",
              "      box-shadow: 0px 1px 3px 1px rgba(0, 0, 0, 0.15);\n",
              "      filter: drop-shadow(0px 1px 2px rgba(0, 0, 0, 0.3));\n",
              "      fill: #FFFFFF;\n",
              "    }\n",
              "  </style>\n",
              "\n",
              "      <script>\n",
              "        const buttonEl =\n",
              "          document.querySelector('#df-df3d6375-7e16-4036-95e2-d3131ee74442 button.colab-df-convert');\n",
              "        buttonEl.style.display =\n",
              "          google.colab.kernel.accessAllowed ? 'block' : 'none';\n",
              "\n",
              "        async function convertToInteractive(key) {\n",
              "          const element = document.querySelector('#df-df3d6375-7e16-4036-95e2-d3131ee74442');\n",
              "          const dataTable =\n",
              "            await google.colab.kernel.invokeFunction('convertToInteractive',\n",
              "                                                     [key], {});\n",
              "          if (!dataTable) return;\n",
              "\n",
              "          const docLinkHtml = 'Like what you see? Visit the ' +\n",
              "            '<a target=\"_blank\" href=https://colab.research.google.com/notebooks/data_table.ipynb>data table notebook</a>'\n",
              "            + ' to learn more about interactive tables.';\n",
              "          element.innerHTML = '';\n",
              "          dataTable['output_type'] = 'display_data';\n",
              "          await google.colab.output.renderOutput(dataTable, element);\n",
              "          const docLink = document.createElement('div');\n",
              "          docLink.innerHTML = docLinkHtml;\n",
              "          element.appendChild(docLink);\n",
              "        }\n",
              "      </script>\n",
              "    </div>\n",
              "  </div>\n",
              "  "
            ]
          },
          "metadata": {},
          "execution_count": 3
        }
      ]
    },
    {
      "cell_type": "code",
      "source": [
        "df.isna().sum()"
      ],
      "metadata": {
        "id": "cypvAAMb85r0",
        "colab": {
          "base_uri": "https://localhost:8080/"
        },
        "outputId": "76994558-8c34-46ca-aa59-8255e3fea874"
      },
      "execution_count": 4,
      "outputs": [
        {
          "output_type": "execute_result",
          "data": {
            "text/plain": [
              "0     0\n",
              "1     0\n",
              "2     0\n",
              "3     0\n",
              "4     0\n",
              "     ..\n",
              "56    0\n",
              "57    0\n",
              "58    0\n",
              "59    0\n",
              "60    0\n",
              "Length: 61, dtype: int64"
            ]
          },
          "metadata": {},
          "execution_count": 4
        }
      ]
    },
    {
      "cell_type": "code",
      "source": [
        "df[60].unique()"
      ],
      "metadata": {
        "id": "mKrjGQuQ85XQ",
        "colab": {
          "base_uri": "https://localhost:8080/"
        },
        "outputId": "7606b1b8-e81a-44a4-e34f-af200cb58d6a"
      },
      "execution_count": 5,
      "outputs": [
        {
          "output_type": "execute_result",
          "data": {
            "text/plain": [
              "array(['R', 'M'], dtype=object)"
            ]
          },
          "metadata": {},
          "execution_count": 5
        }
      ]
    },
    {
      "cell_type": "code",
      "source": [
        "df= pd.get_dummies(df, columns=[60,],drop_first=True)\n",
        "\n",
        "df.head()"
      ],
      "metadata": {
        "id": "vYaJcfh785Ba",
        "colab": {
          "base_uri": "https://localhost:8080/",
          "height": 299
        },
        "outputId": "e261d874-d814-453b-9ee4-c7936f740cf9"
      },
      "execution_count": 6,
      "outputs": [
        {
          "output_type": "execute_result",
          "data": {
            "text/plain": [
              "        0       1       2       3       4       5       6       7       8  \\\n",
              "0  0.0200  0.0371  0.0428  0.0207  0.0954  0.0986  0.1539  0.1601  0.3109   \n",
              "1  0.0453  0.0523  0.0843  0.0689  0.1183  0.2583  0.2156  0.3481  0.3337   \n",
              "2  0.0262  0.0582  0.1099  0.1083  0.0974  0.2280  0.2431  0.3771  0.5598   \n",
              "3  0.0100  0.0171  0.0623  0.0205  0.0205  0.0368  0.1098  0.1276  0.0598   \n",
              "4  0.0762  0.0666  0.0481  0.0394  0.0590  0.0649  0.1209  0.2467  0.3564   \n",
              "\n",
              "        9  ...      51      52      53      54      55      56      57  \\\n",
              "0  0.2111  ...  0.0027  0.0065  0.0159  0.0072  0.0167  0.0180  0.0084   \n",
              "1  0.2872  ...  0.0084  0.0089  0.0048  0.0094  0.0191  0.0140  0.0049   \n",
              "2  0.6194  ...  0.0232  0.0166  0.0095  0.0180  0.0244  0.0316  0.0164   \n",
              "3  0.1264  ...  0.0121  0.0036  0.0150  0.0085  0.0073  0.0050  0.0044   \n",
              "4  0.4459  ...  0.0031  0.0054  0.0105  0.0110  0.0015  0.0072  0.0048   \n",
              "\n",
              "       58      59  60_R  \n",
              "0  0.0090  0.0032     1  \n",
              "1  0.0052  0.0044     1  \n",
              "2  0.0095  0.0078     1  \n",
              "3  0.0040  0.0117     1  \n",
              "4  0.0107  0.0094     1  \n",
              "\n",
              "[5 rows x 61 columns]"
            ],
            "text/html": [
              "\n",
              "  <div id=\"df-d0a534c1-29e3-4811-856e-fce7c8ac9895\">\n",
              "    <div class=\"colab-df-container\">\n",
              "      <div>\n",
              "<style scoped>\n",
              "    .dataframe tbody tr th:only-of-type {\n",
              "        vertical-align: middle;\n",
              "    }\n",
              "\n",
              "    .dataframe tbody tr th {\n",
              "        vertical-align: top;\n",
              "    }\n",
              "\n",
              "    .dataframe thead th {\n",
              "        text-align: right;\n",
              "    }\n",
              "</style>\n",
              "<table border=\"1\" class=\"dataframe\">\n",
              "  <thead>\n",
              "    <tr style=\"text-align: right;\">\n",
              "      <th></th>\n",
              "      <th>0</th>\n",
              "      <th>1</th>\n",
              "      <th>2</th>\n",
              "      <th>3</th>\n",
              "      <th>4</th>\n",
              "      <th>5</th>\n",
              "      <th>6</th>\n",
              "      <th>7</th>\n",
              "      <th>8</th>\n",
              "      <th>9</th>\n",
              "      <th>...</th>\n",
              "      <th>51</th>\n",
              "      <th>52</th>\n",
              "      <th>53</th>\n",
              "      <th>54</th>\n",
              "      <th>55</th>\n",
              "      <th>56</th>\n",
              "      <th>57</th>\n",
              "      <th>58</th>\n",
              "      <th>59</th>\n",
              "      <th>60_R</th>\n",
              "    </tr>\n",
              "  </thead>\n",
              "  <tbody>\n",
              "    <tr>\n",
              "      <th>0</th>\n",
              "      <td>0.0200</td>\n",
              "      <td>0.0371</td>\n",
              "      <td>0.0428</td>\n",
              "      <td>0.0207</td>\n",
              "      <td>0.0954</td>\n",
              "      <td>0.0986</td>\n",
              "      <td>0.1539</td>\n",
              "      <td>0.1601</td>\n",
              "      <td>0.3109</td>\n",
              "      <td>0.2111</td>\n",
              "      <td>...</td>\n",
              "      <td>0.0027</td>\n",
              "      <td>0.0065</td>\n",
              "      <td>0.0159</td>\n",
              "      <td>0.0072</td>\n",
              "      <td>0.0167</td>\n",
              "      <td>0.0180</td>\n",
              "      <td>0.0084</td>\n",
              "      <td>0.0090</td>\n",
              "      <td>0.0032</td>\n",
              "      <td>1</td>\n",
              "    </tr>\n",
              "    <tr>\n",
              "      <th>1</th>\n",
              "      <td>0.0453</td>\n",
              "      <td>0.0523</td>\n",
              "      <td>0.0843</td>\n",
              "      <td>0.0689</td>\n",
              "      <td>0.1183</td>\n",
              "      <td>0.2583</td>\n",
              "      <td>0.2156</td>\n",
              "      <td>0.3481</td>\n",
              "      <td>0.3337</td>\n",
              "      <td>0.2872</td>\n",
              "      <td>...</td>\n",
              "      <td>0.0084</td>\n",
              "      <td>0.0089</td>\n",
              "      <td>0.0048</td>\n",
              "      <td>0.0094</td>\n",
              "      <td>0.0191</td>\n",
              "      <td>0.0140</td>\n",
              "      <td>0.0049</td>\n",
              "      <td>0.0052</td>\n",
              "      <td>0.0044</td>\n",
              "      <td>1</td>\n",
              "    </tr>\n",
              "    <tr>\n",
              "      <th>2</th>\n",
              "      <td>0.0262</td>\n",
              "      <td>0.0582</td>\n",
              "      <td>0.1099</td>\n",
              "      <td>0.1083</td>\n",
              "      <td>0.0974</td>\n",
              "      <td>0.2280</td>\n",
              "      <td>0.2431</td>\n",
              "      <td>0.3771</td>\n",
              "      <td>0.5598</td>\n",
              "      <td>0.6194</td>\n",
              "      <td>...</td>\n",
              "      <td>0.0232</td>\n",
              "      <td>0.0166</td>\n",
              "      <td>0.0095</td>\n",
              "      <td>0.0180</td>\n",
              "      <td>0.0244</td>\n",
              "      <td>0.0316</td>\n",
              "      <td>0.0164</td>\n",
              "      <td>0.0095</td>\n",
              "      <td>0.0078</td>\n",
              "      <td>1</td>\n",
              "    </tr>\n",
              "    <tr>\n",
              "      <th>3</th>\n",
              "      <td>0.0100</td>\n",
              "      <td>0.0171</td>\n",
              "      <td>0.0623</td>\n",
              "      <td>0.0205</td>\n",
              "      <td>0.0205</td>\n",
              "      <td>0.0368</td>\n",
              "      <td>0.1098</td>\n",
              "      <td>0.1276</td>\n",
              "      <td>0.0598</td>\n",
              "      <td>0.1264</td>\n",
              "      <td>...</td>\n",
              "      <td>0.0121</td>\n",
              "      <td>0.0036</td>\n",
              "      <td>0.0150</td>\n",
              "      <td>0.0085</td>\n",
              "      <td>0.0073</td>\n",
              "      <td>0.0050</td>\n",
              "      <td>0.0044</td>\n",
              "      <td>0.0040</td>\n",
              "      <td>0.0117</td>\n",
              "      <td>1</td>\n",
              "    </tr>\n",
              "    <tr>\n",
              "      <th>4</th>\n",
              "      <td>0.0762</td>\n",
              "      <td>0.0666</td>\n",
              "      <td>0.0481</td>\n",
              "      <td>0.0394</td>\n",
              "      <td>0.0590</td>\n",
              "      <td>0.0649</td>\n",
              "      <td>0.1209</td>\n",
              "      <td>0.2467</td>\n",
              "      <td>0.3564</td>\n",
              "      <td>0.4459</td>\n",
              "      <td>...</td>\n",
              "      <td>0.0031</td>\n",
              "      <td>0.0054</td>\n",
              "      <td>0.0105</td>\n",
              "      <td>0.0110</td>\n",
              "      <td>0.0015</td>\n",
              "      <td>0.0072</td>\n",
              "      <td>0.0048</td>\n",
              "      <td>0.0107</td>\n",
              "      <td>0.0094</td>\n",
              "      <td>1</td>\n",
              "    </tr>\n",
              "  </tbody>\n",
              "</table>\n",
              "<p>5 rows × 61 columns</p>\n",
              "</div>\n",
              "      <button class=\"colab-df-convert\" onclick=\"convertToInteractive('df-d0a534c1-29e3-4811-856e-fce7c8ac9895')\"\n",
              "              title=\"Convert this dataframe to an interactive table.\"\n",
              "              style=\"display:none;\">\n",
              "        \n",
              "  <svg xmlns=\"http://www.w3.org/2000/svg\" height=\"24px\"viewBox=\"0 0 24 24\"\n",
              "       width=\"24px\">\n",
              "    <path d=\"M0 0h24v24H0V0z\" fill=\"none\"/>\n",
              "    <path d=\"M18.56 5.44l.94 2.06.94-2.06 2.06-.94-2.06-.94-.94-2.06-.94 2.06-2.06.94zm-11 1L8.5 8.5l.94-2.06 2.06-.94-2.06-.94L8.5 2.5l-.94 2.06-2.06.94zm10 10l.94 2.06.94-2.06 2.06-.94-2.06-.94-.94-2.06-.94 2.06-2.06.94z\"/><path d=\"M17.41 7.96l-1.37-1.37c-.4-.4-.92-.59-1.43-.59-.52 0-1.04.2-1.43.59L10.3 9.45l-7.72 7.72c-.78.78-.78 2.05 0 2.83L4 21.41c.39.39.9.59 1.41.59.51 0 1.02-.2 1.41-.59l7.78-7.78 2.81-2.81c.8-.78.8-2.07 0-2.86zM5.41 20L4 18.59l7.72-7.72 1.47 1.35L5.41 20z\"/>\n",
              "  </svg>\n",
              "      </button>\n",
              "      \n",
              "  <style>\n",
              "    .colab-df-container {\n",
              "      display:flex;\n",
              "      flex-wrap:wrap;\n",
              "      gap: 12px;\n",
              "    }\n",
              "\n",
              "    .colab-df-convert {\n",
              "      background-color: #E8F0FE;\n",
              "      border: none;\n",
              "      border-radius: 50%;\n",
              "      cursor: pointer;\n",
              "      display: none;\n",
              "      fill: #1967D2;\n",
              "      height: 32px;\n",
              "      padding: 0 0 0 0;\n",
              "      width: 32px;\n",
              "    }\n",
              "\n",
              "    .colab-df-convert:hover {\n",
              "      background-color: #E2EBFA;\n",
              "      box-shadow: 0px 1px 2px rgba(60, 64, 67, 0.3), 0px 1px 3px 1px rgba(60, 64, 67, 0.15);\n",
              "      fill: #174EA6;\n",
              "    }\n",
              "\n",
              "    [theme=dark] .colab-df-convert {\n",
              "      background-color: #3B4455;\n",
              "      fill: #D2E3FC;\n",
              "    }\n",
              "\n",
              "    [theme=dark] .colab-df-convert:hover {\n",
              "      background-color: #434B5C;\n",
              "      box-shadow: 0px 1px 3px 1px rgba(0, 0, 0, 0.15);\n",
              "      filter: drop-shadow(0px 1px 2px rgba(0, 0, 0, 0.3));\n",
              "      fill: #FFFFFF;\n",
              "    }\n",
              "  </style>\n",
              "\n",
              "      <script>\n",
              "        const buttonEl =\n",
              "          document.querySelector('#df-d0a534c1-29e3-4811-856e-fce7c8ac9895 button.colab-df-convert');\n",
              "        buttonEl.style.display =\n",
              "          google.colab.kernel.accessAllowed ? 'block' : 'none';\n",
              "\n",
              "        async function convertToInteractive(key) {\n",
              "          const element = document.querySelector('#df-d0a534c1-29e3-4811-856e-fce7c8ac9895');\n",
              "          const dataTable =\n",
              "            await google.colab.kernel.invokeFunction('convertToInteractive',\n",
              "                                                     [key], {});\n",
              "          if (!dataTable) return;\n",
              "\n",
              "          const docLinkHtml = 'Like what you see? Visit the ' +\n",
              "            '<a target=\"_blank\" href=https://colab.research.google.com/notebooks/data_table.ipynb>data table notebook</a>'\n",
              "            + ' to learn more about interactive tables.';\n",
              "          element.innerHTML = '';\n",
              "          dataTable['output_type'] = 'display_data';\n",
              "          await google.colab.output.renderOutput(dataTable, element);\n",
              "          const docLink = document.createElement('div');\n",
              "          docLink.innerHTML = docLinkHtml;\n",
              "          element.appendChild(docLink);\n",
              "        }\n",
              "      </script>\n",
              "    </div>\n",
              "  </div>\n",
              "  "
            ]
          },
          "metadata": {},
          "execution_count": 6
        }
      ]
    },
    {
      "cell_type": "code",
      "source": [
        "df.describe()"
      ],
      "metadata": {
        "colab": {
          "base_uri": "https://localhost:8080/",
          "height": 393
        },
        "id": "p3qJBHafgrKC",
        "outputId": "633adcf6-476c-4c14-b6c9-3042f413edee"
      },
      "execution_count": 7,
      "outputs": [
        {
          "output_type": "execute_result",
          "data": {
            "text/plain": [
              "                0           1           2           3           4           5  \\\n",
              "count  208.000000  208.000000  208.000000  208.000000  208.000000  208.000000   \n",
              "mean     0.029164    0.038437    0.043832    0.053892    0.075202    0.104570   \n",
              "std      0.022991    0.032960    0.038428    0.046528    0.055552    0.059105   \n",
              "min      0.001500    0.000600    0.001500    0.005800    0.006700    0.010200   \n",
              "25%      0.013350    0.016450    0.018950    0.024375    0.038050    0.067025   \n",
              "50%      0.022800    0.030800    0.034300    0.044050    0.062500    0.092150   \n",
              "75%      0.035550    0.047950    0.057950    0.064500    0.100275    0.134125   \n",
              "max      0.137100    0.233900    0.305900    0.426400    0.401000    0.382300   \n",
              "\n",
              "                6           7           8           9  ...          51  \\\n",
              "count  208.000000  208.000000  208.000000  208.000000  ...  208.000000   \n",
              "mean     0.121747    0.134799    0.178003    0.208259  ...    0.013420   \n",
              "std      0.061788    0.085152    0.118387    0.134416  ...    0.009634   \n",
              "min      0.003300    0.005500    0.007500    0.011300  ...    0.000800   \n",
              "25%      0.080900    0.080425    0.097025    0.111275  ...    0.007275   \n",
              "50%      0.106950    0.112100    0.152250    0.182400  ...    0.011400   \n",
              "75%      0.154000    0.169600    0.233425    0.268700  ...    0.016725   \n",
              "max      0.372900    0.459000    0.682800    0.710600  ...    0.070900   \n",
              "\n",
              "               52          53          54          55          56          57  \\\n",
              "count  208.000000  208.000000  208.000000  208.000000  208.000000  208.000000   \n",
              "mean     0.010709    0.010941    0.009290    0.008222    0.007820    0.007949   \n",
              "std      0.007060    0.007301    0.007088    0.005736    0.005785    0.006470   \n",
              "min      0.000500    0.001000    0.000600    0.000400    0.000300    0.000300   \n",
              "25%      0.005075    0.005375    0.004150    0.004400    0.003700    0.003600   \n",
              "50%      0.009550    0.009300    0.007500    0.006850    0.005950    0.005800   \n",
              "75%      0.014900    0.014500    0.012100    0.010575    0.010425    0.010350   \n",
              "max      0.039000    0.035200    0.044700    0.039400    0.035500    0.044000   \n",
              "\n",
              "               58          59        60_R  \n",
              "count  208.000000  208.000000  208.000000  \n",
              "mean     0.007941    0.006507    0.466346  \n",
              "std      0.006181    0.005031    0.500070  \n",
              "min      0.000100    0.000600    0.000000  \n",
              "25%      0.003675    0.003100    0.000000  \n",
              "50%      0.006400    0.005300    0.000000  \n",
              "75%      0.010325    0.008525    1.000000  \n",
              "max      0.036400    0.043900    1.000000  \n",
              "\n",
              "[8 rows x 61 columns]"
            ],
            "text/html": [
              "\n",
              "  <div id=\"df-1a1b13f2-aad0-435e-a553-7b1203d62302\">\n",
              "    <div class=\"colab-df-container\">\n",
              "      <div>\n",
              "<style scoped>\n",
              "    .dataframe tbody tr th:only-of-type {\n",
              "        vertical-align: middle;\n",
              "    }\n",
              "\n",
              "    .dataframe tbody tr th {\n",
              "        vertical-align: top;\n",
              "    }\n",
              "\n",
              "    .dataframe thead th {\n",
              "        text-align: right;\n",
              "    }\n",
              "</style>\n",
              "<table border=\"1\" class=\"dataframe\">\n",
              "  <thead>\n",
              "    <tr style=\"text-align: right;\">\n",
              "      <th></th>\n",
              "      <th>0</th>\n",
              "      <th>1</th>\n",
              "      <th>2</th>\n",
              "      <th>3</th>\n",
              "      <th>4</th>\n",
              "      <th>5</th>\n",
              "      <th>6</th>\n",
              "      <th>7</th>\n",
              "      <th>8</th>\n",
              "      <th>9</th>\n",
              "      <th>...</th>\n",
              "      <th>51</th>\n",
              "      <th>52</th>\n",
              "      <th>53</th>\n",
              "      <th>54</th>\n",
              "      <th>55</th>\n",
              "      <th>56</th>\n",
              "      <th>57</th>\n",
              "      <th>58</th>\n",
              "      <th>59</th>\n",
              "      <th>60_R</th>\n",
              "    </tr>\n",
              "  </thead>\n",
              "  <tbody>\n",
              "    <tr>\n",
              "      <th>count</th>\n",
              "      <td>208.000000</td>\n",
              "      <td>208.000000</td>\n",
              "      <td>208.000000</td>\n",
              "      <td>208.000000</td>\n",
              "      <td>208.000000</td>\n",
              "      <td>208.000000</td>\n",
              "      <td>208.000000</td>\n",
              "      <td>208.000000</td>\n",
              "      <td>208.000000</td>\n",
              "      <td>208.000000</td>\n",
              "      <td>...</td>\n",
              "      <td>208.000000</td>\n",
              "      <td>208.000000</td>\n",
              "      <td>208.000000</td>\n",
              "      <td>208.000000</td>\n",
              "      <td>208.000000</td>\n",
              "      <td>208.000000</td>\n",
              "      <td>208.000000</td>\n",
              "      <td>208.000000</td>\n",
              "      <td>208.000000</td>\n",
              "      <td>208.000000</td>\n",
              "    </tr>\n",
              "    <tr>\n",
              "      <th>mean</th>\n",
              "      <td>0.029164</td>\n",
              "      <td>0.038437</td>\n",
              "      <td>0.043832</td>\n",
              "      <td>0.053892</td>\n",
              "      <td>0.075202</td>\n",
              "      <td>0.104570</td>\n",
              "      <td>0.121747</td>\n",
              "      <td>0.134799</td>\n",
              "      <td>0.178003</td>\n",
              "      <td>0.208259</td>\n",
              "      <td>...</td>\n",
              "      <td>0.013420</td>\n",
              "      <td>0.010709</td>\n",
              "      <td>0.010941</td>\n",
              "      <td>0.009290</td>\n",
              "      <td>0.008222</td>\n",
              "      <td>0.007820</td>\n",
              "      <td>0.007949</td>\n",
              "      <td>0.007941</td>\n",
              "      <td>0.006507</td>\n",
              "      <td>0.466346</td>\n",
              "    </tr>\n",
              "    <tr>\n",
              "      <th>std</th>\n",
              "      <td>0.022991</td>\n",
              "      <td>0.032960</td>\n",
              "      <td>0.038428</td>\n",
              "      <td>0.046528</td>\n",
              "      <td>0.055552</td>\n",
              "      <td>0.059105</td>\n",
              "      <td>0.061788</td>\n",
              "      <td>0.085152</td>\n",
              "      <td>0.118387</td>\n",
              "      <td>0.134416</td>\n",
              "      <td>...</td>\n",
              "      <td>0.009634</td>\n",
              "      <td>0.007060</td>\n",
              "      <td>0.007301</td>\n",
              "      <td>0.007088</td>\n",
              "      <td>0.005736</td>\n",
              "      <td>0.005785</td>\n",
              "      <td>0.006470</td>\n",
              "      <td>0.006181</td>\n",
              "      <td>0.005031</td>\n",
              "      <td>0.500070</td>\n",
              "    </tr>\n",
              "    <tr>\n",
              "      <th>min</th>\n",
              "      <td>0.001500</td>\n",
              "      <td>0.000600</td>\n",
              "      <td>0.001500</td>\n",
              "      <td>0.005800</td>\n",
              "      <td>0.006700</td>\n",
              "      <td>0.010200</td>\n",
              "      <td>0.003300</td>\n",
              "      <td>0.005500</td>\n",
              "      <td>0.007500</td>\n",
              "      <td>0.011300</td>\n",
              "      <td>...</td>\n",
              "      <td>0.000800</td>\n",
              "      <td>0.000500</td>\n",
              "      <td>0.001000</td>\n",
              "      <td>0.000600</td>\n",
              "      <td>0.000400</td>\n",
              "      <td>0.000300</td>\n",
              "      <td>0.000300</td>\n",
              "      <td>0.000100</td>\n",
              "      <td>0.000600</td>\n",
              "      <td>0.000000</td>\n",
              "    </tr>\n",
              "    <tr>\n",
              "      <th>25%</th>\n",
              "      <td>0.013350</td>\n",
              "      <td>0.016450</td>\n",
              "      <td>0.018950</td>\n",
              "      <td>0.024375</td>\n",
              "      <td>0.038050</td>\n",
              "      <td>0.067025</td>\n",
              "      <td>0.080900</td>\n",
              "      <td>0.080425</td>\n",
              "      <td>0.097025</td>\n",
              "      <td>0.111275</td>\n",
              "      <td>...</td>\n",
              "      <td>0.007275</td>\n",
              "      <td>0.005075</td>\n",
              "      <td>0.005375</td>\n",
              "      <td>0.004150</td>\n",
              "      <td>0.004400</td>\n",
              "      <td>0.003700</td>\n",
              "      <td>0.003600</td>\n",
              "      <td>0.003675</td>\n",
              "      <td>0.003100</td>\n",
              "      <td>0.000000</td>\n",
              "    </tr>\n",
              "    <tr>\n",
              "      <th>50%</th>\n",
              "      <td>0.022800</td>\n",
              "      <td>0.030800</td>\n",
              "      <td>0.034300</td>\n",
              "      <td>0.044050</td>\n",
              "      <td>0.062500</td>\n",
              "      <td>0.092150</td>\n",
              "      <td>0.106950</td>\n",
              "      <td>0.112100</td>\n",
              "      <td>0.152250</td>\n",
              "      <td>0.182400</td>\n",
              "      <td>...</td>\n",
              "      <td>0.011400</td>\n",
              "      <td>0.009550</td>\n",
              "      <td>0.009300</td>\n",
              "      <td>0.007500</td>\n",
              "      <td>0.006850</td>\n",
              "      <td>0.005950</td>\n",
              "      <td>0.005800</td>\n",
              "      <td>0.006400</td>\n",
              "      <td>0.005300</td>\n",
              "      <td>0.000000</td>\n",
              "    </tr>\n",
              "    <tr>\n",
              "      <th>75%</th>\n",
              "      <td>0.035550</td>\n",
              "      <td>0.047950</td>\n",
              "      <td>0.057950</td>\n",
              "      <td>0.064500</td>\n",
              "      <td>0.100275</td>\n",
              "      <td>0.134125</td>\n",
              "      <td>0.154000</td>\n",
              "      <td>0.169600</td>\n",
              "      <td>0.233425</td>\n",
              "      <td>0.268700</td>\n",
              "      <td>...</td>\n",
              "      <td>0.016725</td>\n",
              "      <td>0.014900</td>\n",
              "      <td>0.014500</td>\n",
              "      <td>0.012100</td>\n",
              "      <td>0.010575</td>\n",
              "      <td>0.010425</td>\n",
              "      <td>0.010350</td>\n",
              "      <td>0.010325</td>\n",
              "      <td>0.008525</td>\n",
              "      <td>1.000000</td>\n",
              "    </tr>\n",
              "    <tr>\n",
              "      <th>max</th>\n",
              "      <td>0.137100</td>\n",
              "      <td>0.233900</td>\n",
              "      <td>0.305900</td>\n",
              "      <td>0.426400</td>\n",
              "      <td>0.401000</td>\n",
              "      <td>0.382300</td>\n",
              "      <td>0.372900</td>\n",
              "      <td>0.459000</td>\n",
              "      <td>0.682800</td>\n",
              "      <td>0.710600</td>\n",
              "      <td>...</td>\n",
              "      <td>0.070900</td>\n",
              "      <td>0.039000</td>\n",
              "      <td>0.035200</td>\n",
              "      <td>0.044700</td>\n",
              "      <td>0.039400</td>\n",
              "      <td>0.035500</td>\n",
              "      <td>0.044000</td>\n",
              "      <td>0.036400</td>\n",
              "      <td>0.043900</td>\n",
              "      <td>1.000000</td>\n",
              "    </tr>\n",
              "  </tbody>\n",
              "</table>\n",
              "<p>8 rows × 61 columns</p>\n",
              "</div>\n",
              "      <button class=\"colab-df-convert\" onclick=\"convertToInteractive('df-1a1b13f2-aad0-435e-a553-7b1203d62302')\"\n",
              "              title=\"Convert this dataframe to an interactive table.\"\n",
              "              style=\"display:none;\">\n",
              "        \n",
              "  <svg xmlns=\"http://www.w3.org/2000/svg\" height=\"24px\"viewBox=\"0 0 24 24\"\n",
              "       width=\"24px\">\n",
              "    <path d=\"M0 0h24v24H0V0z\" fill=\"none\"/>\n",
              "    <path d=\"M18.56 5.44l.94 2.06.94-2.06 2.06-.94-2.06-.94-.94-2.06-.94 2.06-2.06.94zm-11 1L8.5 8.5l.94-2.06 2.06-.94-2.06-.94L8.5 2.5l-.94 2.06-2.06.94zm10 10l.94 2.06.94-2.06 2.06-.94-2.06-.94-.94-2.06-.94 2.06-2.06.94z\"/><path d=\"M17.41 7.96l-1.37-1.37c-.4-.4-.92-.59-1.43-.59-.52 0-1.04.2-1.43.59L10.3 9.45l-7.72 7.72c-.78.78-.78 2.05 0 2.83L4 21.41c.39.39.9.59 1.41.59.51 0 1.02-.2 1.41-.59l7.78-7.78 2.81-2.81c.8-.78.8-2.07 0-2.86zM5.41 20L4 18.59l7.72-7.72 1.47 1.35L5.41 20z\"/>\n",
              "  </svg>\n",
              "      </button>\n",
              "      \n",
              "  <style>\n",
              "    .colab-df-container {\n",
              "      display:flex;\n",
              "      flex-wrap:wrap;\n",
              "      gap: 12px;\n",
              "    }\n",
              "\n",
              "    .colab-df-convert {\n",
              "      background-color: #E8F0FE;\n",
              "      border: none;\n",
              "      border-radius: 50%;\n",
              "      cursor: pointer;\n",
              "      display: none;\n",
              "      fill: #1967D2;\n",
              "      height: 32px;\n",
              "      padding: 0 0 0 0;\n",
              "      width: 32px;\n",
              "    }\n",
              "\n",
              "    .colab-df-convert:hover {\n",
              "      background-color: #E2EBFA;\n",
              "      box-shadow: 0px 1px 2px rgba(60, 64, 67, 0.3), 0px 1px 3px 1px rgba(60, 64, 67, 0.15);\n",
              "      fill: #174EA6;\n",
              "    }\n",
              "\n",
              "    [theme=dark] .colab-df-convert {\n",
              "      background-color: #3B4455;\n",
              "      fill: #D2E3FC;\n",
              "    }\n",
              "\n",
              "    [theme=dark] .colab-df-convert:hover {\n",
              "      background-color: #434B5C;\n",
              "      box-shadow: 0px 1px 3px 1px rgba(0, 0, 0, 0.15);\n",
              "      filter: drop-shadow(0px 1px 2px rgba(0, 0, 0, 0.3));\n",
              "      fill: #FFFFFF;\n",
              "    }\n",
              "  </style>\n",
              "\n",
              "      <script>\n",
              "        const buttonEl =\n",
              "          document.querySelector('#df-1a1b13f2-aad0-435e-a553-7b1203d62302 button.colab-df-convert');\n",
              "        buttonEl.style.display =\n",
              "          google.colab.kernel.accessAllowed ? 'block' : 'none';\n",
              "\n",
              "        async function convertToInteractive(key) {\n",
              "          const element = document.querySelector('#df-1a1b13f2-aad0-435e-a553-7b1203d62302');\n",
              "          const dataTable =\n",
              "            await google.colab.kernel.invokeFunction('convertToInteractive',\n",
              "                                                     [key], {});\n",
              "          if (!dataTable) return;\n",
              "\n",
              "          const docLinkHtml = 'Like what you see? Visit the ' +\n",
              "            '<a target=\"_blank\" href=https://colab.research.google.com/notebooks/data_table.ipynb>data table notebook</a>'\n",
              "            + ' to learn more about interactive tables.';\n",
              "          element.innerHTML = '';\n",
              "          dataTable['output_type'] = 'display_data';\n",
              "          await google.colab.output.renderOutput(dataTable, element);\n",
              "          const docLink = document.createElement('div');\n",
              "          docLink.innerHTML = docLinkHtml;\n",
              "          element.appendChild(docLink);\n",
              "        }\n",
              "      </script>\n",
              "    </div>\n",
              "  </div>\n",
              "  "
            ]
          },
          "metadata": {},
          "execution_count": 7
        }
      ]
    },
    {
      "cell_type": "code",
      "source": [
        "from sklearn.model_selection import train_test_split\n",
        "import seaborn as sn\n",
        "from sklearn.metrics import confusion_matrix , classification_report"
      ],
      "metadata": {
        "id": "VOJ9t4N7c_hS"
      },
      "execution_count": 8,
      "outputs": []
    },
    {
      "cell_type": "code",
      "source": [
        "x = df.drop(columns=['60_R',])\n",
        "y = df['60_R']\n",
        "\n",
        "x.shape, y.shape"
      ],
      "metadata": {
        "colab": {
          "base_uri": "https://localhost:8080/"
        },
        "id": "YYe8CrfBfI2I",
        "outputId": "b648e37f-5cd4-4a17-8228-3d588661871d"
      },
      "execution_count": 9,
      "outputs": [
        {
          "output_type": "execute_result",
          "data": {
            "text/plain": [
              "((208, 60), (208,))"
            ]
          },
          "metadata": {},
          "execution_count": 9
        }
      ]
    },
    {
      "cell_type": "markdown",
      "source": [
        "without dropout"
      ],
      "metadata": {
        "id": "b_yDJWFgc0rb"
      }
    },
    {
      "cell_type": "code",
      "source": [
        "def ANN(X,y):\n",
        "  x_train, x_test, y_train,y_test = train_test_split(X,y,test_size=0.25, random_state=1, stratify= y)\n",
        "\n",
        "  model = keras.Sequential([\n",
        "      keras.layers.Dense(60, input_dim=60, activation='relu'),\n",
        "      keras.layers.Dense(30, activation='relu'),\n",
        "      keras.layers.Dense(15, activation='relu'),\n",
        "      keras.layers.Dense(1, activation='sigmoid')\n",
        "  ])\n",
        "\n",
        "  model.compile(loss='binary_crossentropy', optimizer='adam', metrics=['accuracy'])\n",
        "\n",
        "  model.fit(x_train, y_train, epochs=100, batch_size=8)\n",
        "\n",
        "  print(model.evaluate(x_test, y_test))\n",
        "\n",
        "  y_preds = model.predict(x_test)\n",
        "  y_preds = np.round(y_preds)\n",
        "\n",
        "  print(\"Classification Report: \\n\", classification_report(y_test, y_preds))\n",
        "\n",
        "  cm = tf.math.confusion_matrix(labels=y_test,predictions=y_preds)\n",
        "  plt.figure(figsize = (10,7))\n",
        "  sn.heatmap(cm, annot=True, fmt='d')\n",
        "  plt.xlabel('Predicted')\n",
        "  plt.ylabel('Truth')"
      ],
      "metadata": {
        "id": "GtfNfcMT849s"
      },
      "execution_count": 10,
      "outputs": []
    },
    {
      "cell_type": "markdown",
      "source": [
        "WITH DROPOUT"
      ],
      "metadata": {
        "id": "DJG9oZf7nBmt"
      }
    },
    {
      "cell_type": "code",
      "source": [
        "def ANN_dropout(X,y, dropout):\n",
        "  x_train, x_test, y_train,y_test = train_test_split(X,y,test_size=0.3, random_state=42, stratify= y)\n",
        "\n",
        "  model = keras.Sequential([\n",
        "      keras.layers.Dense(60, input_dim=60, activation='relu'),\n",
        "      keras.layers.Dropout(0.5),\n",
        "      keras.layers.Dense(30, activation='relu'),\n",
        "      keras.layers.Dropout(0.5),\n",
        "      keras.layers.Dense(15, activation='relu'),\n",
        "      keras.layers.Dropout(0.5),\n",
        "      keras.layers.Dense(1, activation='sigmoid')\n",
        "  ])\n",
        "\n",
        "  model.compile(loss='binary_crossentropy', optimizer='adam', metrics=['accuracy'])\n",
        "\n",
        "  model.fit(x_train, y_train, epochs=100, batch_size=8)\n",
        "\n",
        "  print(model.evaluate(x_test, y_test))\n",
        "\n",
        "  y_preds = model.predict(x_test)\n",
        "  y_preds = np.round(y_preds)\n",
        "\n",
        "  print(\"Classification Report: \\n\", classification_report(y_test, y_preds))\n",
        "\n",
        "  cm = confusion_matrix(y_test,y_preds)\n",
        "  plt.figure(figsize = (10,7))\n",
        "  sn.heatmap(cm, annot=True, fmt='d')\n",
        "  plt.xlabel('Predicted')\n",
        "  plt.ylabel('Truth')\n"
      ],
      "metadata": {
        "id": "CZQsxxoBkFOc"
      },
      "execution_count": 11,
      "outputs": []
    },
    {
      "cell_type": "code",
      "source": [
        "ANN(x,y)"
      ],
      "metadata": {
        "id": "_tXi6P2o84zF",
        "colab": {
          "base_uri": "https://localhost:8080/",
          "height": 1000
        },
        "outputId": "bc02b82d-1274-4b04-8dbf-467168746218"
      },
      "execution_count": 12,
      "outputs": [
        {
          "output_type": "stream",
          "name": "stdout",
          "text": [
            "Epoch 1/100\n",
            "20/20 [==============================] - 1s 3ms/step - loss: 0.6794 - accuracy: 0.5385\n",
            "Epoch 2/100\n",
            "20/20 [==============================] - 0s 3ms/step - loss: 0.6660 - accuracy: 0.7051\n",
            "Epoch 3/100\n",
            "20/20 [==============================] - 0s 3ms/step - loss: 0.6484 - accuracy: 0.5705\n",
            "Epoch 4/100\n",
            "20/20 [==============================] - 0s 3ms/step - loss: 0.6328 - accuracy: 0.7500\n",
            "Epoch 5/100\n",
            "20/20 [==============================] - 0s 3ms/step - loss: 0.5893 - accuracy: 0.7051\n",
            "Epoch 6/100\n",
            "20/20 [==============================] - 0s 3ms/step - loss: 0.5470 - accuracy: 0.7372\n",
            "Epoch 7/100\n",
            "20/20 [==============================] - 0s 3ms/step - loss: 0.5161 - accuracy: 0.7692\n",
            "Epoch 8/100\n",
            "20/20 [==============================] - 0s 3ms/step - loss: 0.4773 - accuracy: 0.8077\n",
            "Epoch 9/100\n",
            "20/20 [==============================] - 0s 3ms/step - loss: 0.4630 - accuracy: 0.8013\n",
            "Epoch 10/100\n",
            "20/20 [==============================] - 0s 3ms/step - loss: 0.4065 - accuracy: 0.8205\n",
            "Epoch 11/100\n",
            "20/20 [==============================] - 0s 3ms/step - loss: 0.4530 - accuracy: 0.7949\n",
            "Epoch 12/100\n",
            "20/20 [==============================] - 0s 3ms/step - loss: 0.4091 - accuracy: 0.8141\n",
            "Epoch 13/100\n",
            "20/20 [==============================] - 0s 3ms/step - loss: 0.3902 - accuracy: 0.8205\n",
            "Epoch 14/100\n",
            "20/20 [==============================] - 0s 3ms/step - loss: 0.3728 - accuracy: 0.8397\n",
            "Epoch 15/100\n",
            "20/20 [==============================] - 0s 3ms/step - loss: 0.3830 - accuracy: 0.8141\n",
            "Epoch 16/100\n",
            "20/20 [==============================] - 0s 3ms/step - loss: 0.4029 - accuracy: 0.8205\n",
            "Epoch 17/100\n",
            "20/20 [==============================] - 0s 3ms/step - loss: 0.3573 - accuracy: 0.8397\n",
            "Epoch 18/100\n",
            "20/20 [==============================] - 0s 3ms/step - loss: 0.3446 - accuracy: 0.8269\n",
            "Epoch 19/100\n",
            "20/20 [==============================] - 0s 3ms/step - loss: 0.3164 - accuracy: 0.8654\n",
            "Epoch 20/100\n",
            "20/20 [==============================] - 0s 3ms/step - loss: 0.3245 - accuracy: 0.8462\n",
            "Epoch 21/100\n",
            "20/20 [==============================] - 0s 3ms/step - loss: 0.3066 - accuracy: 0.8782\n",
            "Epoch 22/100\n",
            "20/20 [==============================] - 0s 3ms/step - loss: 0.3761 - accuracy: 0.7756\n",
            "Epoch 23/100\n",
            "20/20 [==============================] - 0s 3ms/step - loss: 0.3245 - accuracy: 0.8782\n",
            "Epoch 24/100\n",
            "20/20 [==============================] - 0s 3ms/step - loss: 0.3055 - accuracy: 0.8718\n",
            "Epoch 25/100\n",
            "20/20 [==============================] - 0s 3ms/step - loss: 0.2799 - accuracy: 0.9038\n",
            "Epoch 26/100\n",
            "20/20 [==============================] - 0s 4ms/step - loss: 0.2755 - accuracy: 0.8974\n",
            "Epoch 27/100\n",
            "20/20 [==============================] - 0s 3ms/step - loss: 0.2626 - accuracy: 0.9231\n",
            "Epoch 28/100\n",
            "20/20 [==============================] - 0s 3ms/step - loss: 0.2491 - accuracy: 0.9359\n",
            "Epoch 29/100\n",
            "20/20 [==============================] - 0s 5ms/step - loss: 0.2334 - accuracy: 0.9295\n",
            "Epoch 30/100\n",
            "20/20 [==============================] - 0s 4ms/step - loss: 0.2296 - accuracy: 0.9359\n",
            "Epoch 31/100\n",
            "20/20 [==============================] - 0s 4ms/step - loss: 0.2198 - accuracy: 0.9231\n",
            "Epoch 32/100\n",
            "20/20 [==============================] - 0s 4ms/step - loss: 0.2049 - accuracy: 0.9487\n",
            "Epoch 33/100\n",
            "20/20 [==============================] - 0s 3ms/step - loss: 0.2048 - accuracy: 0.9551\n",
            "Epoch 34/100\n",
            "20/20 [==============================] - 0s 3ms/step - loss: 0.1933 - accuracy: 0.9359\n",
            "Epoch 35/100\n",
            "20/20 [==============================] - 0s 3ms/step - loss: 0.1833 - accuracy: 0.9551\n",
            "Epoch 36/100\n",
            "20/20 [==============================] - 0s 3ms/step - loss: 0.1772 - accuracy: 0.9423\n",
            "Epoch 37/100\n",
            "20/20 [==============================] - 0s 4ms/step - loss: 0.1757 - accuracy: 0.9359\n",
            "Epoch 38/100\n",
            "20/20 [==============================] - 0s 3ms/step - loss: 0.1739 - accuracy: 0.9423\n",
            "Epoch 39/100\n",
            "20/20 [==============================] - 0s 3ms/step - loss: 0.1636 - accuracy: 0.9423\n",
            "Epoch 40/100\n",
            "20/20 [==============================] - 0s 3ms/step - loss: 0.1448 - accuracy: 0.9679\n",
            "Epoch 41/100\n",
            "20/20 [==============================] - 0s 3ms/step - loss: 0.1397 - accuracy: 0.9679\n",
            "Epoch 42/100\n",
            "20/20 [==============================] - 0s 3ms/step - loss: 0.1383 - accuracy: 0.9615\n",
            "Epoch 43/100\n",
            "20/20 [==============================] - 0s 3ms/step - loss: 0.1205 - accuracy: 0.9808\n",
            "Epoch 44/100\n",
            "20/20 [==============================] - 0s 3ms/step - loss: 0.1263 - accuracy: 0.9615\n",
            "Epoch 45/100\n",
            "20/20 [==============================] - 0s 4ms/step - loss: 0.1063 - accuracy: 0.9808\n",
            "Epoch 46/100\n",
            "20/20 [==============================] - 0s 3ms/step - loss: 0.1044 - accuracy: 0.9744\n",
            "Epoch 47/100\n",
            "20/20 [==============================] - 0s 3ms/step - loss: 0.0972 - accuracy: 0.9744\n",
            "Epoch 48/100\n",
            "20/20 [==============================] - 0s 3ms/step - loss: 0.0935 - accuracy: 0.9744\n",
            "Epoch 49/100\n",
            "20/20 [==============================] - 0s 4ms/step - loss: 0.0900 - accuracy: 0.9872\n",
            "Epoch 50/100\n",
            "20/20 [==============================] - 0s 3ms/step - loss: 0.0833 - accuracy: 0.9808\n",
            "Epoch 51/100\n",
            "20/20 [==============================] - 0s 3ms/step - loss: 0.0801 - accuracy: 0.9872\n",
            "Epoch 52/100\n",
            "20/20 [==============================] - 0s 4ms/step - loss: 0.0699 - accuracy: 0.9872\n",
            "Epoch 53/100\n",
            "20/20 [==============================] - 0s 3ms/step - loss: 0.0915 - accuracy: 0.9615\n",
            "Epoch 54/100\n",
            "20/20 [==============================] - 0s 3ms/step - loss: 0.0726 - accuracy: 0.9744\n",
            "Epoch 55/100\n",
            "20/20 [==============================] - 0s 3ms/step - loss: 0.0717 - accuracy: 0.9872\n",
            "Epoch 56/100\n",
            "20/20 [==============================] - 0s 3ms/step - loss: 0.0628 - accuracy: 0.9936\n",
            "Epoch 57/100\n",
            "20/20 [==============================] - 0s 3ms/step - loss: 0.0602 - accuracy: 0.9872\n",
            "Epoch 58/100\n",
            "20/20 [==============================] - 0s 3ms/step - loss: 0.0430 - accuracy: 1.0000\n",
            "Epoch 59/100\n",
            "20/20 [==============================] - 0s 3ms/step - loss: 0.0517 - accuracy: 0.9872\n",
            "Epoch 60/100\n",
            "20/20 [==============================] - 0s 3ms/step - loss: 0.0476 - accuracy: 0.9936\n",
            "Epoch 61/100\n",
            "20/20 [==============================] - 0s 3ms/step - loss: 0.0353 - accuracy: 1.0000\n",
            "Epoch 62/100\n",
            "20/20 [==============================] - 0s 4ms/step - loss: 0.0417 - accuracy: 0.9872\n",
            "Epoch 63/100\n",
            "20/20 [==============================] - 0s 3ms/step - loss: 0.0323 - accuracy: 0.9936\n",
            "Epoch 64/100\n",
            "20/20 [==============================] - 0s 4ms/step - loss: 0.0375 - accuracy: 0.9936\n",
            "Epoch 65/100\n",
            "20/20 [==============================] - 0s 3ms/step - loss: 0.0440 - accuracy: 0.9872\n",
            "Epoch 66/100\n",
            "20/20 [==============================] - 0s 3ms/step - loss: 0.0277 - accuracy: 1.0000\n",
            "Epoch 67/100\n",
            "20/20 [==============================] - 0s 3ms/step - loss: 0.0295 - accuracy: 0.9936\n",
            "Epoch 68/100\n",
            "20/20 [==============================] - 0s 3ms/step - loss: 0.0278 - accuracy: 0.9936\n",
            "Epoch 69/100\n",
            "20/20 [==============================] - 0s 3ms/step - loss: 0.0181 - accuracy: 1.0000\n",
            "Epoch 70/100\n",
            "20/20 [==============================] - 0s 3ms/step - loss: 0.0174 - accuracy: 1.0000\n",
            "Epoch 71/100\n",
            "20/20 [==============================] - 0s 3ms/step - loss: 0.0148 - accuracy: 1.0000\n",
            "Epoch 72/100\n",
            "20/20 [==============================] - 0s 3ms/step - loss: 0.0153 - accuracy: 1.0000\n",
            "Epoch 73/100\n",
            "20/20 [==============================] - 0s 4ms/step - loss: 0.0139 - accuracy: 1.0000\n",
            "Epoch 74/100\n",
            "20/20 [==============================] - 0s 3ms/step - loss: 0.0128 - accuracy: 1.0000\n",
            "Epoch 75/100\n",
            "20/20 [==============================] - 0s 3ms/step - loss: 0.0118 - accuracy: 1.0000\n",
            "Epoch 76/100\n",
            "20/20 [==============================] - 0s 3ms/step - loss: 0.0115 - accuracy: 1.0000\n",
            "Epoch 77/100\n",
            "20/20 [==============================] - 0s 3ms/step - loss: 0.0163 - accuracy: 1.0000\n",
            "Epoch 78/100\n",
            "20/20 [==============================] - 0s 3ms/step - loss: 0.0222 - accuracy: 0.9936\n",
            "Epoch 79/100\n",
            "20/20 [==============================] - 0s 3ms/step - loss: 0.0098 - accuracy: 1.0000\n",
            "Epoch 80/100\n",
            "20/20 [==============================] - 0s 3ms/step - loss: 0.0081 - accuracy: 1.0000\n",
            "Epoch 81/100\n",
            "20/20 [==============================] - 0s 4ms/step - loss: 0.0081 - accuracy: 1.0000\n",
            "Epoch 82/100\n",
            "20/20 [==============================] - 0s 3ms/step - loss: 0.0077 - accuracy: 1.0000\n",
            "Epoch 83/100\n",
            "20/20 [==============================] - 0s 3ms/step - loss: 0.0088 - accuracy: 1.0000\n",
            "Epoch 84/100\n",
            "20/20 [==============================] - 0s 3ms/step - loss: 0.0085 - accuracy: 1.0000\n",
            "Epoch 85/100\n",
            "20/20 [==============================] - 0s 3ms/step - loss: 0.0061 - accuracy: 1.0000\n",
            "Epoch 86/100\n",
            "20/20 [==============================] - 0s 3ms/step - loss: 0.0058 - accuracy: 1.0000\n",
            "Epoch 87/100\n",
            "20/20 [==============================] - 0s 3ms/step - loss: 0.0054 - accuracy: 1.0000\n",
            "Epoch 88/100\n",
            "20/20 [==============================] - 0s 3ms/step - loss: 0.0053 - accuracy: 1.0000\n",
            "Epoch 89/100\n",
            "20/20 [==============================] - 0s 3ms/step - loss: 0.0050 - accuracy: 1.0000\n",
            "Epoch 90/100\n",
            "20/20 [==============================] - 0s 3ms/step - loss: 0.0041 - accuracy: 1.0000\n",
            "Epoch 91/100\n",
            "20/20 [==============================] - 0s 3ms/step - loss: 0.0039 - accuracy: 1.0000\n",
            "Epoch 92/100\n",
            "20/20 [==============================] - 0s 3ms/step - loss: 0.0043 - accuracy: 1.0000\n",
            "Epoch 93/100\n",
            "20/20 [==============================] - 0s 4ms/step - loss: 0.0035 - accuracy: 1.0000\n",
            "Epoch 94/100\n",
            "20/20 [==============================] - 0s 3ms/step - loss: 0.0032 - accuracy: 1.0000\n",
            "Epoch 95/100\n",
            "20/20 [==============================] - 0s 4ms/step - loss: 0.0033 - accuracy: 1.0000\n",
            "Epoch 96/100\n",
            "20/20 [==============================] - 0s 3ms/step - loss: 0.0038 - accuracy: 1.0000\n",
            "Epoch 97/100\n",
            "20/20 [==============================] - 0s 3ms/step - loss: 0.0030 - accuracy: 1.0000\n",
            "Epoch 98/100\n",
            "20/20 [==============================] - 0s 3ms/step - loss: 0.0029 - accuracy: 1.0000\n",
            "Epoch 99/100\n",
            "20/20 [==============================] - 0s 3ms/step - loss: 0.0028 - accuracy: 1.0000\n",
            "Epoch 100/100\n",
            "20/20 [==============================] - 0s 3ms/step - loss: 0.0024 - accuracy: 1.0000\n",
            "2/2 [==============================] - 0s 13ms/step - loss: 0.9773 - accuracy: 0.7500\n",
            "[0.9773067831993103, 0.75]\n",
            "2/2 [==============================] - 0s 16ms/step\n",
            "Classification Report: \n",
            "               precision    recall  f1-score   support\n",
            "\n",
            "           0       0.83      0.68      0.75        28\n",
            "           1       0.69      0.83      0.75        24\n",
            "\n",
            "    accuracy                           0.75        52\n",
            "   macro avg       0.76      0.76      0.75        52\n",
            "weighted avg       0.76      0.75      0.75        52\n",
            "\n"
          ]
        },
        {
          "output_type": "display_data",
          "data": {
            "text/plain": [
              "<Figure size 720x504 with 2 Axes>"
            ],
            "image/png": "[encoded data removed]"
          },
          "metadata": {
            "needs_background": "light"
          }
        }
      ]
    },
    {
      "cell_type": "code",
      "source": [
        "ANN_dropout(x,y, 0.5)"
      ],
      "metadata": {
        "id": "ADISzYoc84qx",
        "colab": {
          "base_uri": "https://localhost:8080/",
          "height": 1000
        },
        "outputId": "48930ddf-75ad-4648-d939-32d0be015f07"
      },
      "execution_count": 13,
      "outputs": [
        {
          "output_type": "stream",
          "name": "stdout",
          "text": [
            "Epoch 1/100\n",
            "19/19 [==============================] - 1s 7ms/step - loss: 0.6936 - accuracy: 0.5586\n",
            "Epoch 2/100\n",
            "19/19 [==============================] - 0s 6ms/step - loss: 0.7104 - accuracy: 0.5034\n",
            "Epoch 3/100\n",
            "19/19 [==============================] - 0s 6ms/step - loss: 0.6831 - accuracy: 0.5379\n",
            "Epoch 4/100\n",
            "19/19 [==============================] - 0s 8ms/step - loss: 0.7173 - accuracy: 0.5241\n",
            "Epoch 5/100\n",
            "19/19 [==============================] - 0s 6ms/step - loss: 0.7066 - accuracy: 0.5241\n",
            "Epoch 6/100\n",
            "19/19 [==============================] - 0s 7ms/step - loss: 0.6905 - accuracy: 0.5655\n",
            "Epoch 7/100\n",
            "19/19 [==============================] - 0s 6ms/step - loss: 0.6864 - accuracy: 0.5862\n",
            "Epoch 8/100\n",
            "19/19 [==============================] - 0s 7ms/step - loss: 0.6783 - accuracy: 0.5793\n",
            "Epoch 9/100\n",
            "19/19 [==============================] - 0s 5ms/step - loss: 0.6821 - accuracy: 0.5862\n",
            "Epoch 10/100\n",
            "19/19 [==============================] - 0s 5ms/step - loss: 0.6598 - accuracy: 0.5724\n",
            "Epoch 11/100\n",
            "19/19 [==============================] - 0s 5ms/step - loss: 0.6460 - accuracy: 0.6414\n",
            "Epoch 12/100\n",
            "19/19 [==============================] - 0s 8ms/step - loss: 0.6504 - accuracy: 0.6828\n",
            "Epoch 13/100\n",
            "19/19 [==============================] - 0s 9ms/step - loss: 0.6827 - accuracy: 0.5517\n",
            "Epoch 14/100\n",
            "19/19 [==============================] - 0s 5ms/step - loss: 0.6574 - accuracy: 0.5862\n",
            "Epoch 15/100\n",
            "19/19 [==============================] - 0s 7ms/step - loss: 0.6923 - accuracy: 0.5034\n",
            "Epoch 16/100\n",
            "19/19 [==============================] - 0s 5ms/step - loss: 0.6798 - accuracy: 0.5655\n",
            "Epoch 17/100\n",
            "19/19 [==============================] - 0s 6ms/step - loss: 0.7007 - accuracy: 0.5379\n",
            "Epoch 18/100\n",
            "19/19 [==============================] - 0s 6ms/step - loss: 0.6930 - accuracy: 0.5724\n",
            "Epoch 19/100\n",
            "19/19 [==============================] - 0s 5ms/step - loss: 0.6884 - accuracy: 0.5586\n",
            "Epoch 20/100\n",
            "19/19 [==============================] - 0s 9ms/step - loss: 0.6652 - accuracy: 0.5586\n",
            "Epoch 21/100\n",
            "19/19 [==============================] - 0s 6ms/step - loss: 0.6537 - accuracy: 0.5793\n",
            "Epoch 22/100\n",
            "19/19 [==============================] - 0s 6ms/step - loss: 0.6497 - accuracy: 0.5931\n",
            "Epoch 23/100\n",
            "19/19 [==============================] - 0s 6ms/step - loss: 0.6489 - accuracy: 0.6483\n",
            "Epoch 24/100\n",
            "19/19 [==============================] - 0s 6ms/step - loss: 0.6377 - accuracy: 0.6345\n",
            "Epoch 25/100\n",
            "19/19 [==============================] - 0s 5ms/step - loss: 0.6554 - accuracy: 0.6276\n",
            "Epoch 26/100\n",
            "19/19 [==============================] - 0s 6ms/step - loss: 0.6439 - accuracy: 0.5724\n",
            "Epoch 27/100\n",
            "19/19 [==============================] - 0s 5ms/step - loss: 0.5858 - accuracy: 0.6621\n",
            "Epoch 28/100\n",
            "19/19 [==============================] - 0s 7ms/step - loss: 0.6247 - accuracy: 0.6414\n",
            "Epoch 29/100\n",
            "19/19 [==============================] - 0s 6ms/step - loss: 0.6235 - accuracy: 0.6276\n",
            "Epoch 30/100\n",
            "19/19 [==============================] - 0s 8ms/step - loss: 0.6025 - accuracy: 0.6759\n",
            "Epoch 31/100\n",
            "19/19 [==============================] - 0s 8ms/step - loss: 0.6252 - accuracy: 0.6690\n",
            "Epoch 32/100\n",
            "19/19 [==============================] - 0s 6ms/step - loss: 0.6141 - accuracy: 0.6690\n",
            "Epoch 33/100\n",
            "19/19 [==============================] - 0s 7ms/step - loss: 0.6087 - accuracy: 0.6828\n",
            "Epoch 34/100\n",
            "19/19 [==============================] - 0s 5ms/step - loss: 0.5588 - accuracy: 0.7586\n",
            "Epoch 35/100\n",
            "19/19 [==============================] - 0s 6ms/step - loss: 0.6208 - accuracy: 0.6483\n",
            "Epoch 36/100\n",
            "19/19 [==============================] - 0s 6ms/step - loss: 0.5860 - accuracy: 0.7172\n",
            "Epoch 37/100\n",
            "19/19 [==============================] - 0s 5ms/step - loss: 0.5382 - accuracy: 0.7034\n",
            "Epoch 38/100\n",
            "19/19 [==============================] - 0s 6ms/step - loss: 0.6021 - accuracy: 0.7034\n",
            "Epoch 39/100\n",
            "19/19 [==============================] - 0s 6ms/step - loss: 0.5815 - accuracy: 0.6621\n",
            "Epoch 40/100\n",
            "19/19 [==============================] - 0s 7ms/step - loss: 0.5751 - accuracy: 0.7241\n",
            "Epoch 41/100\n",
            "19/19 [==============================] - 0s 5ms/step - loss: 0.6140 - accuracy: 0.6690\n",
            "Epoch 42/100\n",
            "19/19 [==============================] - 0s 6ms/step - loss: 0.5681 - accuracy: 0.7034\n",
            "Epoch 43/100\n",
            "19/19 [==============================] - 0s 5ms/step - loss: 0.5705 - accuracy: 0.7241\n",
            "Epoch 44/100\n",
            "19/19 [==============================] - 0s 6ms/step - loss: 0.5454 - accuracy: 0.7241\n",
            "Epoch 45/100\n",
            "19/19 [==============================] - 0s 7ms/step - loss: 0.5590 - accuracy: 0.7517\n",
            "Epoch 46/100\n",
            "19/19 [==============================] - 0s 9ms/step - loss: 0.5023 - accuracy: 0.7310\n",
            "Epoch 47/100\n",
            "19/19 [==============================] - 0s 9ms/step - loss: 0.5433 - accuracy: 0.7724\n",
            "Epoch 48/100\n",
            "19/19 [==============================] - 0s 6ms/step - loss: 0.4674 - accuracy: 0.8138\n",
            "Epoch 49/100\n",
            "19/19 [==============================] - 0s 6ms/step - loss: 0.5731 - accuracy: 0.7310\n",
            "Epoch 50/100\n",
            "19/19 [==============================] - 0s 6ms/step - loss: 0.4958 - accuracy: 0.7517\n",
            "Epoch 51/100\n",
            "19/19 [==============================] - 0s 7ms/step - loss: 0.5169 - accuracy: 0.7310\n",
            "Epoch 52/100\n",
            "19/19 [==============================] - 0s 9ms/step - loss: 0.5117 - accuracy: 0.7586\n",
            "Epoch 53/100\n",
            "19/19 [==============================] - 0s 7ms/step - loss: 0.4320 - accuracy: 0.8207\n",
            "Epoch 54/100\n",
            "19/19 [==============================] - 0s 7ms/step - loss: 0.5671 - accuracy: 0.6759\n",
            "Epoch 55/100\n",
            "19/19 [==============================] - 0s 6ms/step - loss: 0.4801 - accuracy: 0.7310\n",
            "Epoch 56/100\n",
            "19/19 [==============================] - 0s 5ms/step - loss: 0.4597 - accuracy: 0.8000\n",
            "Epoch 57/100\n",
            "19/19 [==============================] - 0s 5ms/step - loss: 0.4357 - accuracy: 0.8276\n",
            "Epoch 58/100\n",
            "19/19 [==============================] - 0s 5ms/step - loss: 0.4852 - accuracy: 0.8138\n",
            "Epoch 59/100\n",
            "19/19 [==============================] - 0s 6ms/step - loss: 0.4381 - accuracy: 0.8345\n",
            "Epoch 60/100\n",
            "19/19 [==============================] - 0s 7ms/step - loss: 0.4665 - accuracy: 0.8000\n",
            "Epoch 61/100\n",
            "19/19 [==============================] - 0s 6ms/step - loss: 0.5051 - accuracy: 0.7586\n",
            "Epoch 62/100\n",
            "19/19 [==============================] - 0s 7ms/step - loss: 0.4647 - accuracy: 0.8207\n",
            "Epoch 63/100\n",
            "19/19 [==============================] - 0s 7ms/step - loss: 0.4618 - accuracy: 0.8276\n",
            "Epoch 64/100\n",
            "19/19 [==============================] - 0s 7ms/step - loss: 0.5159 - accuracy: 0.7724\n",
            "Epoch 65/100\n",
            "19/19 [==============================] - 0s 6ms/step - loss: 0.4633 - accuracy: 0.8069\n",
            "Epoch 66/100\n",
            "19/19 [==============================] - 0s 6ms/step - loss: 0.3916 - accuracy: 0.8414\n",
            "Epoch 67/100\n",
            "19/19 [==============================] - 0s 6ms/step - loss: 0.4343 - accuracy: 0.8345\n",
            "Epoch 68/100\n",
            "19/19 [==============================] - 0s 6ms/step - loss: 0.4651 - accuracy: 0.8000\n",
            "Epoch 69/100\n",
            "19/19 [==============================] - 0s 6ms/step - loss: 0.3979 - accuracy: 0.8552\n",
            "Epoch 70/100\n",
            "19/19 [==============================] - 0s 6ms/step - loss: 0.3999 - accuracy: 0.8483\n",
            "Epoch 71/100\n",
            "19/19 [==============================] - 0s 5ms/step - loss: 0.4385 - accuracy: 0.8000\n",
            "Epoch 72/100\n",
            "19/19 [==============================] - 0s 5ms/step - loss: 0.3933 - accuracy: 0.8621\n",
            "Epoch 73/100\n",
            "19/19 [==============================] - 0s 6ms/step - loss: 0.3928 - accuracy: 0.8138\n",
            "Epoch 74/100\n",
            "19/19 [==============================] - 0s 6ms/step - loss: 0.3868 - accuracy: 0.8552\n",
            "Epoch 75/100\n",
            "19/19 [==============================] - 0s 6ms/step - loss: 0.3684 - accuracy: 0.8552\n",
            "Epoch 76/100\n",
            "19/19 [==============================] - 0s 6ms/step - loss: 0.3866 - accuracy: 0.8069\n",
            "Epoch 77/100\n",
            "19/19 [==============================] - 0s 7ms/step - loss: 0.3519 - accuracy: 0.8621\n",
            "Epoch 78/100\n",
            "19/19 [==============================] - 0s 5ms/step - loss: 0.3421 - accuracy: 0.8621\n",
            "Epoch 79/100\n",
            "19/19 [==============================] - 0s 5ms/step - loss: 0.3866 - accuracy: 0.8414\n",
            "Epoch 80/100\n",
            "19/19 [==============================] - 0s 5ms/step - loss: 0.4131 - accuracy: 0.8069\n",
            "Epoch 81/100\n",
            "19/19 [==============================] - 0s 6ms/step - loss: 0.3354 - accuracy: 0.8621\n",
            "Epoch 82/100\n",
            "19/19 [==============================] - 0s 7ms/step - loss: 0.3160 - accuracy: 0.8759\n",
            "Epoch 83/100\n",
            "19/19 [==============================] - 0s 5ms/step - loss: 0.3516 - accuracy: 0.8759\n",
            "Epoch 84/100\n",
            "19/19 [==============================] - 0s 5ms/step - loss: 0.3397 - accuracy: 0.8621\n",
            "Epoch 85/100\n",
            "19/19 [==============================] - 0s 5ms/step - loss: 0.3860 - accuracy: 0.8414\n",
            "Epoch 86/100\n",
            "19/19 [==============================] - 0s 5ms/step - loss: 0.3539 - accuracy: 0.8690\n",
            "Epoch 87/100\n",
            "19/19 [==============================] - 0s 7ms/step - loss: 0.3215 - accuracy: 0.8759\n",
            "Epoch 88/100\n",
            "19/19 [==============================] - 0s 5ms/step - loss: 0.3164 - accuracy: 0.8759\n",
            "Epoch 89/100\n",
            "19/19 [==============================] - 0s 5ms/step - loss: 0.3429 - accuracy: 0.8414\n",
            "Epoch 90/100\n",
            "19/19 [==============================] - 0s 5ms/step - loss: 0.3633 - accuracy: 0.8759\n",
            "Epoch 91/100\n",
            "19/19 [==============================] - 0s 7ms/step - loss: 0.4346 - accuracy: 0.8138\n",
            "Epoch 92/100\n",
            "19/19 [==============================] - 0s 7ms/step - loss: 0.3699 - accuracy: 0.8483\n",
            "Epoch 93/100\n",
            "19/19 [==============================] - 0s 8ms/step - loss: 0.3467 - accuracy: 0.8828\n",
            "Epoch 94/100\n",
            "19/19 [==============================] - 0s 6ms/step - loss: 0.3533 - accuracy: 0.8345\n",
            "Epoch 95/100\n",
            "19/19 [==============================] - 0s 5ms/step - loss: 0.3023 - accuracy: 0.9034\n",
            "Epoch 96/100\n",
            "19/19 [==============================] - 0s 5ms/step - loss: 0.3349 - accuracy: 0.8483\n",
            "Epoch 97/100\n",
            "19/19 [==============================] - 0s 5ms/step - loss: 0.3006 - accuracy: 0.9034\n",
            "Epoch 98/100\n",
            "19/19 [==============================] - 0s 6ms/step - loss: 0.2791 - accuracy: 0.9034\n",
            "Epoch 99/100\n",
            "19/19 [==============================] - 0s 5ms/step - loss: 0.2904 - accuracy: 0.8966\n",
            "Epoch 100/100\n",
            "19/19 [==============================] - 0s 5ms/step - loss: 0.2857 - accuracy: 0.9103\n",
            "2/2 [==============================] - 0s 10ms/step - loss: 0.4453 - accuracy: 0.7460\n",
            "[0.4453426003456116, 0.7460317611694336]\n",
            "2/2 [==============================] - 0s 8ms/step\n",
            "Classification Report: \n",
            "               precision    recall  f1-score   support\n",
            "\n",
            "           0       0.75      0.79      0.77        34\n",
            "           1       0.74      0.69      0.71        29\n",
            "\n",
            "    accuracy                           0.75        63\n",
            "   macro avg       0.75      0.74      0.74        63\n",
            "weighted avg       0.75      0.75      0.75        63\n",
            "\n"
          ]
        },
        {
          "output_type": "display_data",
          "data": {
            "text/plain": [
              "<Figure size 720x504 with 2 Axes>"
            ],
            "image/png": "[encoded data removed]"
          },
          "metadata": {
            "needs_background": "light"
          }
        }
      ]
    },
    {
      "cell_type": "markdown",
      "source": [
        "### churn prediction"
      ],
      "metadata": {
        "id": "SXVLshZ78oUy"
      }
    },
    {
      "cell_type": "markdown",
      "source": [
        "#### telephone company"
      ],
      "metadata": {
        "id": "58WN0ev76QRU"
      }
    },
    {
      "cell_type": "code",
      "source": [
        "url =\"https://raw.githubusercontent.com/codebasics/deep-learning-keras-tf-tutorial/master/11_chrun_prediction/customer_churn.csv\""
      ],
      "metadata": {
        "id": "XM4CZqj3kAfL"
      },
      "execution_count": null,
      "outputs": []
    },
    {
      "cell_type": "code",
      "source": [
        "import pandas as pd \n",
        "import numpy as np"
      ],
      "metadata": {
        "id": "R5ybWtImYNNN"
      },
      "execution_count": null,
      "outputs": []
    },
    {
      "cell_type": "code",
      "source": [
        "df = pd.read_csv(url)"
      ],
      "metadata": {
        "id": "itKiF9HZYf8Z"
      },
      "execution_count": null,
      "outputs": []
    },
    {
      "cell_type": "code",
      "source": [
        "df.head()"
      ],
      "metadata": {
        "colab": {
          "base_uri": "https://localhost:8080/",
          "height": 386
        },
        "id": "tdERf__QYs1l",
        "outputId": "79544ba2-d6be-4f7e-8a91-b1c8f5d484a4"
      },
      "execution_count": null,
      "outputs": [
        {
          "output_type": "execute_result",
          "data": {
            "text/plain": [
              "   customerID  gender  SeniorCitizen Partner Dependents  tenure PhoneService  \\\n",
              "0  7590-VHVEG  Female              0     Yes         No       1           No   \n",
              "1  5575-GNVDE    Male              0      No         No      34          Yes   \n",
              "2  3668-QPYBK    Male              0      No         No       2          Yes   \n",
              "3  7795-CFOCW    Male              0      No         No      45           No   \n",
              "4  9237-HQITU  Female              0      No         No       2          Yes   \n",
              "\n",
              "      MultipleLines InternetService OnlineSecurity  ... DeviceProtection  \\\n",
              "0  No phone service             DSL             No  ...               No   \n",
              "1                No             DSL            Yes  ...              Yes   \n",
              "2                No             DSL            Yes  ...               No   \n",
              "3  No phone service             DSL            Yes  ...              Yes   \n",
              "4                No     Fiber optic             No  ...               No   \n",
              "\n",
              "  TechSupport StreamingTV StreamingMovies        Contract PaperlessBilling  \\\n",
              "0          No          No              No  Month-to-month              Yes   \n",
              "1          No          No              No        One year               No   \n",
              "2          No          No              No  Month-to-month              Yes   \n",
              "3         Yes          No              No        One year               No   \n",
              "4          No          No              No  Month-to-month              Yes   \n",
              "\n",
              "               PaymentMethod MonthlyCharges  TotalCharges Churn  \n",
              "0           Electronic check          29.85         29.85    No  \n",
              "1               Mailed check          56.95        1889.5    No  \n",
              "2               Mailed check          53.85        108.15   Yes  \n",
              "3  Bank transfer (automatic)          42.30       1840.75    No  \n",
              "4           Electronic check          70.70        151.65   Yes  \n",
              "\n",
              "[5 rows x 21 columns]"
            ],
            "text/html": [
              "\n",
              "  <div id=\"df-2786aa18-e953-4d19-99cf-ec195965bfe8\">\n",
              "    <div class=\"colab-df-container\">\n",
              "      <div>\n",
              "<style scoped>\n",
              "    .dataframe tbody tr th:only-of-type {\n",
              "        vertical-align: middle;\n",
              "    }\n",
              "\n",
              "    .dataframe tbody tr th {\n",
              "        vertical-align: top;\n",
              "    }\n",
              "\n",
              "    .dataframe thead th {\n",
              "        text-align: right;\n",
              "    }\n",
              "</style>\n",
              "<table border=\"1\" class=\"dataframe\">\n",
              "  <thead>\n",
              "    <tr style=\"text-align: right;\">\n",
              "      <th></th>\n",
              "      <th>customerID</th>\n",
              "      <th>gender</th>\n",
              "      <th>SeniorCitizen</th>\n",
              "      <th>Partner</th>\n",
              "      <th>Dependents</th>\n",
              "      <th>tenure</th>\n",
              "      <th>PhoneService</th>\n",
              "      <th>MultipleLines</th>\n",
              "      <th>InternetService</th>\n",
              "      <th>OnlineSecurity</th>\n",
              "      <th>...</th>\n",
              "      <th>DeviceProtection</th>\n",
              "      <th>TechSupport</th>\n",
              "      <th>StreamingTV</th>\n",
              "      <th>StreamingMovies</th>\n",
              "      <th>Contract</th>\n",
              "      <th>PaperlessBilling</th>\n",
              "      <th>PaymentMethod</th>\n",
              "      <th>MonthlyCharges</th>\n",
              "      <th>TotalCharges</th>\n",
              "      <th>Churn</th>\n",
              "    </tr>\n",
              "  </thead>\n",
              "  <tbody>\n",
              "    <tr>\n",
              "      <th>0</th>\n",
              "      <td>7590-VHVEG</td>\n",
              "      <td>Female</td>\n",
              "      <td>0</td>\n",
              "      <td>Yes</td>\n",
              "      <td>No</td>\n",
              "      <td>1</td>\n",
              "      <td>No</td>\n",
              "      <td>No phone service</td>\n",
              "      <td>DSL</td>\n",
              "      <td>No</td>\n",
              "      <td>...</td>\n",
              "      <td>No</td>\n",
              "      <td>No</td>\n",
              "      <td>No</td>\n",
              "      <td>No</td>\n",
              "      <td>Month-to-month</td>\n",
              "      <td>Yes</td>\n",
              "      <td>Electronic check</td>\n",
              "      <td>29.85</td>\n",
              "      <td>29.85</td>\n",
              "      <td>No</td>\n",
              "    </tr>\n",
              "    <tr>\n",
              "      <th>1</th>\n",
              "      <td>5575-GNVDE</td>\n",
              "      <td>Male</td>\n",
              "      <td>0</td>\n",
              "      <td>No</td>\n",
              "      <td>No</td>\n",
              "      <td>34</td>\n",
              "      <td>Yes</td>\n",
              "      <td>No</td>\n",
              "      <td>DSL</td>\n",
              "      <td>Yes</td>\n",
              "      <td>...</td>\n",
              "      <td>Yes</td>\n",
              "      <td>No</td>\n",
              "      <td>No</td>\n",
              "      <td>No</td>\n",
              "      <td>One year</td>\n",
              "      <td>No</td>\n",
              "      <td>Mailed check</td>\n",
              "      <td>56.95</td>\n",
              "      <td>1889.5</td>\n",
              "      <td>No</td>\n",
              "    </tr>\n",
              "    <tr>\n",
              "      <th>2</th>\n",
              "      <td>3668-QPYBK</td>\n",
              "      <td>Male</td>\n",
              "      <td>0</td>\n",
              "      <td>No</td>\n",
              "      <td>No</td>\n",
              "      <td>2</td>\n",
              "      <td>Yes</td>\n",
              "      <td>No</td>\n",
              "      <td>DSL</td>\n",
              "      <td>Yes</td>\n",
              "      <td>...</td>\n",
              "      <td>No</td>\n",
              "      <td>No</td>\n",
              "      <td>No</td>\n",
              "      <td>No</td>\n",
              "      <td>Month-to-month</td>\n",
              "      <td>Yes</td>\n",
              "      <td>Mailed check</td>\n",
              "      <td>53.85</td>\n",
              "      <td>108.15</td>\n",
              "      <td>Yes</td>\n",
              "    </tr>\n",
              "    <tr>\n",
              "      <th>3</th>\n",
              "      <td>7795-CFOCW</td>\n",
              "      <td>Male</td>\n",
              "      <td>0</td>\n",
              "      <td>No</td>\n",
              "      <td>No</td>\n",
              "      <td>45</td>\n",
              "      <td>No</td>\n",
              "      <td>No phone service</td>\n",
              "      <td>DSL</td>\n",
              "      <td>Yes</td>\n",
              "      <td>...</td>\n",
              "      <td>Yes</td>\n",
              "      <td>Yes</td>\n",
              "      <td>No</td>\n",
              "      <td>No</td>\n",
              "      <td>One year</td>\n",
              "      <td>No</td>\n",
              "      <td>Bank transfer (automatic)</td>\n",
              "      <td>42.30</td>\n",
              "      <td>1840.75</td>\n",
              "      <td>No</td>\n",
              "    </tr>\n",
              "    <tr>\n",
              "      <th>4</th>\n",
              "      <td>9237-HQITU</td>\n",
              "      <td>Female</td>\n",
              "      <td>0</td>\n",
              "      <td>No</td>\n",
              "      <td>No</td>\n",
              "      <td>2</td>\n",
              "      <td>Yes</td>\n",
              "      <td>No</td>\n",
              "      <td>Fiber optic</td>\n",
              "      <td>No</td>\n",
              "      <td>...</td>\n",
              "      <td>No</td>\n",
              "      <td>No</td>\n",
              "      <td>No</td>\n",
              "      <td>No</td>\n",
              "      <td>Month-to-month</td>\n",
              "      <td>Yes</td>\n",
              "      <td>Electronic check</td>\n",
              "      <td>70.70</td>\n",
              "      <td>151.65</td>\n",
              "      <td>Yes</td>\n",
              "    </tr>\n",
              "  </tbody>\n",
              "</table>\n",
              "<p>5 rows × 21 columns</p>\n",
              "</div>\n",
              "      <button class=\"colab-df-convert\" onclick=\"convertToInteractive('df-2786aa18-e953-4d19-99cf-ec195965bfe8')\"\n",
              "              title=\"Convert this dataframe to an interactive table.\"\n",
              "              style=\"display:none;\">\n",
              "        \n",
              "  <svg xmlns=\"http://www.w3.org/2000/svg\" height=\"24px\"viewBox=\"0 0 24 24\"\n",
              "       width=\"24px\">\n",
              "    <path d=\"M0 0h24v24H0V0z\" fill=\"none\"/>\n",
              "    <path d=\"M18.56 5.44l.94 2.06.94-2.06 2.06-.94-2.06-.94-.94-2.06-.94 2.06-2.06.94zm-11 1L8.5 8.5l.94-2.06 2.06-.94-2.06-.94L8.5 2.5l-.94 2.06-2.06.94zm10 10l.94 2.06.94-2.06 2.06-.94-2.06-.94-.94-2.06-.94 2.06-2.06.94z\"/><path d=\"M17.41 7.96l-1.37-1.37c-.4-.4-.92-.59-1.43-.59-.52 0-1.04.2-1.43.59L10.3 9.45l-7.72 7.72c-.78.78-.78 2.05 0 2.83L4 21.41c.39.39.9.59 1.41.59.51 0 1.02-.2 1.41-.59l7.78-7.78 2.81-2.81c.8-.78.8-2.07 0-2.86zM5.41 20L4 18.59l7.72-7.72 1.47 1.35L5.41 20z\"/>\n",
              "  </svg>\n",
              "      </button>\n",
              "      \n",
              "  <style>\n",
              "    .colab-df-container {\n",
              "      display:flex;\n",
              "      flex-wrap:wrap;\n",
              "      gap: 12px;\n",
              "    }\n",
              "\n",
              "    .colab-df-convert {\n",
              "      background-color: #E8F0FE;\n",
              "      border: none;\n",
              "      border-radius: 50%;\n",
              "      cursor: pointer;\n",
              "      display: none;\n",
              "      fill: #1967D2;\n",
              "      height: 32px;\n",
              "      padding: 0 0 0 0;\n",
              "      width: 32px;\n",
              "    }\n",
              "\n",
              "    .colab-df-convert:hover {\n",
              "      background-color: #E2EBFA;\n",
              "      box-shadow: 0px 1px 2px rgba(60, 64, 67, 0.3), 0px 1px 3px 1px rgba(60, 64, 67, 0.15);\n",
              "      fill: #174EA6;\n",
              "    }\n",
              "\n",
              "    [theme=dark] .colab-df-convert {\n",
              "      background-color: #3B4455;\n",
              "      fill: #D2E3FC;\n",
              "    }\n",
              "\n",
              "    [theme=dark] .colab-df-convert:hover {\n",
              "      background-color: #434B5C;\n",
              "      box-shadow: 0px 1px 3px 1px rgba(0, 0, 0, 0.15);\n",
              "      filter: drop-shadow(0px 1px 2px rgba(0, 0, 0, 0.3));\n",
              "      fill: #FFFFFF;\n",
              "    }\n",
              "  </style>\n",
              "\n",
              "      <script>\n",
              "        const buttonEl =\n",
              "          document.querySelector('#df-2786aa18-e953-4d19-99cf-ec195965bfe8 button.colab-df-convert');\n",
              "        buttonEl.style.display =\n",
              "          google.colab.kernel.accessAllowed ? 'block' : 'none';\n",
              "\n",
              "        async function convertToInteractive(key) {\n",
              "          const element = document.querySelector('#df-2786aa18-e953-4d19-99cf-ec195965bfe8');\n",
              "          const dataTable =\n",
              "            await google.colab.kernel.invokeFunction('convertToInteractive',\n",
              "                                                     [key], {});\n",
              "          if (!dataTable) return;\n",
              "\n",
              "          const docLinkHtml = 'Like what you see? Visit the ' +\n",
              "            '<a target=\"_blank\" href=https://colab.research.google.com/notebooks/data_table.ipynb>data table notebook</a>'\n",
              "            + ' to learn more about interactive tables.';\n",
              "          element.innerHTML = '';\n",
              "          dataTable['output_type'] = 'display_data';\n",
              "          await google.colab.output.renderOutput(dataTable, element);\n",
              "          const docLink = document.createElement('div');\n",
              "          docLink.innerHTML = docLinkHtml;\n",
              "          element.appendChild(docLink);\n",
              "        }\n",
              "      </script>\n",
              "    </div>\n",
              "  </div>\n",
              "  "
            ]
          },
          "metadata": {},
          "execution_count": 4
        }
      ]
    },
    {
      "cell_type": "code",
      "source": [
        "df.Churn.value_counts()"
      ],
      "metadata": {
        "colab": {
          "base_uri": "https://localhost:8080/"
        },
        "id": "T7vpS93RYvW-",
        "outputId": "bb648cca-c57f-4fc9-bc8f-ec8bb78b21ea"
      },
      "execution_count": null,
      "outputs": [
        {
          "output_type": "execute_result",
          "data": {
            "text/plain": [
              "No     5174\n",
              "Yes    1869\n",
              "Name: Churn, dtype: int64"
            ]
          },
          "metadata": {},
          "execution_count": 5
        }
      ]
    },
    {
      "cell_type": "markdown",
      "source": [
        "data is skewed but we donot care about that for now\n",
        "\n",
        "we can drop customerID as it doesnt provide any useful information"
      ],
      "metadata": {
        "id": "jR8lPwfUaiwG"
      }
    },
    {
      "cell_type": "code",
      "source": [
        "df.drop(columns = ['customerID',], inplace= True )"
      ],
      "metadata": {
        "id": "yRyD-xwrbaWx"
      },
      "execution_count": null,
      "outputs": []
    },
    {
      "cell_type": "code",
      "source": [
        "df.isna().sum()"
      ],
      "metadata": {
        "colab": {
          "base_uri": "https://localhost:8080/"
        },
        "id": "OqwLbej3aAop",
        "outputId": "87d5ab6a-9e69-48a1-dbc4-fb2841c8eacd"
      },
      "execution_count": null,
      "outputs": [
        {
          "output_type": "execute_result",
          "data": {
            "text/plain": [
              "gender              0\n",
              "SeniorCitizen       0\n",
              "Partner             0\n",
              "Dependents          0\n",
              "tenure              0\n",
              "PhoneService        0\n",
              "MultipleLines       0\n",
              "InternetService     0\n",
              "OnlineSecurity      0\n",
              "OnlineBackup        0\n",
              "DeviceProtection    0\n",
              "TechSupport         0\n",
              "StreamingTV         0\n",
              "StreamingMovies     0\n",
              "Contract            0\n",
              "PaperlessBilling    0\n",
              "PaymentMethod       0\n",
              "MonthlyCharges      0\n",
              "TotalCharges        0\n",
              "Churn               0\n",
              "dtype: int64"
            ]
          },
          "metadata": {},
          "execution_count": 7
        }
      ]
    },
    {
      "cell_type": "code",
      "source": [
        "df2 = pd.get_dummies(data = df,columns=['gender'], drop_first =True )\n",
        "\n",
        "\n",
        "df2.head()"
      ],
      "metadata": {
        "colab": {
          "base_uri": "https://localhost:8080/",
          "height": 340
        },
        "id": "gHSYYNoYbEXb",
        "outputId": "13f4f15f-a2fb-413e-b68c-263f6462833e"
      },
      "execution_count": null,
      "outputs": [
        {
          "output_type": "execute_result",
          "data": {
            "text/plain": [
              "   SeniorCitizen Partner Dependents  tenure PhoneService     MultipleLines  \\\n",
              "0              0     Yes         No       1           No  No phone service   \n",
              "1              0      No         No      34          Yes                No   \n",
              "2              0      No         No       2          Yes                No   \n",
              "3              0      No         No      45           No  No phone service   \n",
              "4              0      No         No       2          Yes                No   \n",
              "\n",
              "  InternetService OnlineSecurity OnlineBackup DeviceProtection TechSupport  \\\n",
              "0             DSL             No          Yes               No          No   \n",
              "1             DSL            Yes           No              Yes          No   \n",
              "2             DSL            Yes          Yes               No          No   \n",
              "3             DSL            Yes           No              Yes         Yes   \n",
              "4     Fiber optic             No           No               No          No   \n",
              "\n",
              "  StreamingTV StreamingMovies        Contract PaperlessBilling  \\\n",
              "0          No              No  Month-to-month              Yes   \n",
              "1          No              No        One year               No   \n",
              "2          No              No  Month-to-month              Yes   \n",
              "3          No              No        One year               No   \n",
              "4          No              No  Month-to-month              Yes   \n",
              "\n",
              "               PaymentMethod  MonthlyCharges TotalCharges Churn  gender_Male  \n",
              "0           Electronic check           29.85        29.85    No            0  \n",
              "1               Mailed check           56.95       1889.5    No            1  \n",
              "2               Mailed check           53.85       108.15   Yes            1  \n",
              "3  Bank transfer (automatic)           42.30      1840.75    No            1  \n",
              "4           Electronic check           70.70       151.65   Yes            0  "
            ],
            "text/html": [
              "\n",
              "  <div id=\"df-4bf98aeb-6f84-4e30-a701-b72f0a2ecbd1\">\n",
              "    <div class=\"colab-df-container\">\n",
              "      <div>\n",
              "<style scoped>\n",
              "    .dataframe tbody tr th:only-of-type {\n",
              "        vertical-align: middle;\n",
              "    }\n",
              "\n",
              "    .dataframe tbody tr th {\n",
              "        vertical-align: top;\n",
              "    }\n",
              "\n",
              "    .dataframe thead th {\n",
              "        text-align: right;\n",
              "    }\n",
              "</style>\n",
              "<table border=\"1\" class=\"dataframe\">\n",
              "  <thead>\n",
              "    <tr style=\"text-align: right;\">\n",
              "      <th></th>\n",
              "      <th>SeniorCitizen</th>\n",
              "      <th>Partner</th>\n",
              "      <th>Dependents</th>\n",
              "      <th>tenure</th>\n",
              "      <th>PhoneService</th>\n",
              "      <th>MultipleLines</th>\n",
              "      <th>InternetService</th>\n",
              "      <th>OnlineSecurity</th>\n",
              "      <th>OnlineBackup</th>\n",
              "      <th>DeviceProtection</th>\n",
              "      <th>TechSupport</th>\n",
              "      <th>StreamingTV</th>\n",
              "      <th>StreamingMovies</th>\n",
              "      <th>Contract</th>\n",
              "      <th>PaperlessBilling</th>\n",
              "      <th>PaymentMethod</th>\n",
              "      <th>MonthlyCharges</th>\n",
              "      <th>TotalCharges</th>\n",
              "      <th>Churn</th>\n",
              "      <th>gender_Male</th>\n",
              "    </tr>\n",
              "  </thead>\n",
              "  <tbody>\n",
              "    <tr>\n",
              "      <th>0</th>\n",
              "      <td>0</td>\n",
              "      <td>Yes</td>\n",
              "      <td>No</td>\n",
              "      <td>1</td>\n",
              "      <td>No</td>\n",
              "      <td>No phone service</td>\n",
              "      <td>DSL</td>\n",
              "      <td>No</td>\n",
              "      <td>Yes</td>\n",
              "      <td>No</td>\n",
              "      <td>No</td>\n",
              "      <td>No</td>\n",
              "      <td>No</td>\n",
              "      <td>Month-to-month</td>\n",
              "      <td>Yes</td>\n",
              "      <td>Electronic check</td>\n",
              "      <td>29.85</td>\n",
              "      <td>29.85</td>\n",
              "      <td>No</td>\n",
              "      <td>0</td>\n",
              "    </tr>\n",
              "    <tr>\n",
              "      <th>1</th>\n",
              "      <td>0</td>\n",
              "      <td>No</td>\n",
              "      <td>No</td>\n",
              "      <td>34</td>\n",
              "      <td>Yes</td>\n",
              "      <td>No</td>\n",
              "      <td>DSL</td>\n",
              "      <td>Yes</td>\n",
              "      <td>No</td>\n",
              "      <td>Yes</td>\n",
              "      <td>No</td>\n",
              "      <td>No</td>\n",
              "      <td>No</td>\n",
              "      <td>One year</td>\n",
              "      <td>No</td>\n",
              "      <td>Mailed check</td>\n",
              "      <td>56.95</td>\n",
              "      <td>1889.5</td>\n",
              "      <td>No</td>\n",
              "      <td>1</td>\n",
              "    </tr>\n",
              "    <tr>\n",
              "      <th>2</th>\n",
              "      <td>0</td>\n",
              "      <td>No</td>\n",
              "      <td>No</td>\n",
              "      <td>2</td>\n",
              "      <td>Yes</td>\n",
              "      <td>No</td>\n",
              "      <td>DSL</td>\n",
              "      <td>Yes</td>\n",
              "      <td>Yes</td>\n",
              "      <td>No</td>\n",
              "      <td>No</td>\n",
              "      <td>No</td>\n",
              "      <td>No</td>\n",
              "      <td>Month-to-month</td>\n",
              "      <td>Yes</td>\n",
              "      <td>Mailed check</td>\n",
              "      <td>53.85</td>\n",
              "      <td>108.15</td>\n",
              "      <td>Yes</td>\n",
              "      <td>1</td>\n",
              "    </tr>\n",
              "    <tr>\n",
              "      <th>3</th>\n",
              "      <td>0</td>\n",
              "      <td>No</td>\n",
              "      <td>No</td>\n",
              "      <td>45</td>\n",
              "      <td>No</td>\n",
              "      <td>No phone service</td>\n",
              "      <td>DSL</td>\n",
              "      <td>Yes</td>\n",
              "      <td>No</td>\n",
              "      <td>Yes</td>\n",
              "      <td>Yes</td>\n",
              "      <td>No</td>\n",
              "      <td>No</td>\n",
              "      <td>One year</td>\n",
              "      <td>No</td>\n",
              "      <td>Bank transfer (automatic)</td>\n",
              "      <td>42.30</td>\n",
              "      <td>1840.75</td>\n",
              "      <td>No</td>\n",
              "      <td>1</td>\n",
              "    </tr>\n",
              "    <tr>\n",
              "      <th>4</th>\n",
              "      <td>0</td>\n",
              "      <td>No</td>\n",
              "      <td>No</td>\n",
              "      <td>2</td>\n",
              "      <td>Yes</td>\n",
              "      <td>No</td>\n",
              "      <td>Fiber optic</td>\n",
              "      <td>No</td>\n",
              "      <td>No</td>\n",
              "      <td>No</td>\n",
              "      <td>No</td>\n",
              "      <td>No</td>\n",
              "      <td>No</td>\n",
              "      <td>Month-to-month</td>\n",
              "      <td>Yes</td>\n",
              "      <td>Electronic check</td>\n",
              "      <td>70.70</td>\n",
              "      <td>151.65</td>\n",
              "      <td>Yes</td>\n",
              "      <td>0</td>\n",
              "    </tr>\n",
              "  </tbody>\n",
              "</table>\n",
              "</div>\n",
              "      <button class=\"colab-df-convert\" onclick=\"convertToInteractive('df-4bf98aeb-6f84-4e30-a701-b72f0a2ecbd1')\"\n",
              "              title=\"Convert this dataframe to an interactive table.\"\n",
              "              style=\"display:none;\">\n",
              "        \n",
              "  <svg xmlns=\"http://www.w3.org/2000/svg\" height=\"24px\"viewBox=\"0 0 24 24\"\n",
              "       width=\"24px\">\n",
              "    <path d=\"M0 0h24v24H0V0z\" fill=\"none\"/>\n",
              "    <path d=\"M18.56 5.44l.94 2.06.94-2.06 2.06-.94-2.06-.94-.94-2.06-.94 2.06-2.06.94zm-11 1L8.5 8.5l.94-2.06 2.06-.94-2.06-.94L8.5 2.5l-.94 2.06-2.06.94zm10 10l.94 2.06.94-2.06 2.06-.94-2.06-.94-.94-2.06-.94 2.06-2.06.94z\"/><path d=\"M17.41 7.96l-1.37-1.37c-.4-.4-.92-.59-1.43-.59-.52 0-1.04.2-1.43.59L10.3 9.45l-7.72 7.72c-.78.78-.78 2.05 0 2.83L4 21.41c.39.39.9.59 1.41.59.51 0 1.02-.2 1.41-.59l7.78-7.78 2.81-2.81c.8-.78.8-2.07 0-2.86zM5.41 20L4 18.59l7.72-7.72 1.47 1.35L5.41 20z\"/>\n",
              "  </svg>\n",
              "      </button>\n",
              "      \n",
              "  <style>\n",
              "    .colab-df-container {\n",
              "      display:flex;\n",
              "      flex-wrap:wrap;\n",
              "      gap: 12px;\n",
              "    }\n",
              "\n",
              "    .colab-df-convert {\n",
              "      background-color: #E8F0FE;\n",
              "      border: none;\n",
              "      border-radius: 50%;\n",
              "      cursor: pointer;\n",
              "      display: none;\n",
              "      fill: #1967D2;\n",
              "      height: 32px;\n",
              "      padding: 0 0 0 0;\n",
              "      width: 32px;\n",
              "    }\n",
              "\n",
              "    .colab-df-convert:hover {\n",
              "      background-color: #E2EBFA;\n",
              "      box-shadow: 0px 1px 2px rgba(60, 64, 67, 0.3), 0px 1px 3px 1px rgba(60, 64, 67, 0.15);\n",
              "      fill: #174EA6;\n",
              "    }\n",
              "\n",
              "    [theme=dark] .colab-df-convert {\n",
              "      background-color: #3B4455;\n",
              "      fill: #D2E3FC;\n",
              "    }\n",
              "\n",
              "    [theme=dark] .colab-df-convert:hover {\n",
              "      background-color: #434B5C;\n",
              "      box-shadow: 0px 1px 3px 1px rgba(0, 0, 0, 0.15);\n",
              "      filter: drop-shadow(0px 1px 2px rgba(0, 0, 0, 0.3));\n",
              "      fill: #FFFFFF;\n",
              "    }\n",
              "  </style>\n",
              "\n",
              "      <script>\n",
              "        const buttonEl =\n",
              "          document.querySelector('#df-4bf98aeb-6f84-4e30-a701-b72f0a2ecbd1 button.colab-df-convert');\n",
              "        buttonEl.style.display =\n",
              "          google.colab.kernel.accessAllowed ? 'block' : 'none';\n",
              "\n",
              "        async function convertToInteractive(key) {\n",
              "          const element = document.querySelector('#df-4bf98aeb-6f84-4e30-a701-b72f0a2ecbd1');\n",
              "          const dataTable =\n",
              "            await google.colab.kernel.invokeFunction('convertToInteractive',\n",
              "                                                     [key], {});\n",
              "          if (!dataTable) return;\n",
              "\n",
              "          const docLinkHtml = 'Like what you see? Visit the ' +\n",
              "            '<a target=\"_blank\" href=https://colab.research.google.com/notebooks/data_table.ipynb>data table notebook</a>'\n",
              "            + ' to learn more about interactive tables.';\n",
              "          element.innerHTML = '';\n",
              "          dataTable['output_type'] = 'display_data';\n",
              "          await google.colab.output.renderOutput(dataTable, element);\n",
              "          const docLink = document.createElement('div');\n",
              "          docLink.innerHTML = docLinkHtml;\n",
              "          element.appendChild(docLink);\n",
              "        }\n",
              "      </script>\n",
              "    </div>\n",
              "  </div>\n",
              "  "
            ]
          },
          "metadata": {},
          "execution_count": 8
        }
      ]
    },
    {
      "cell_type": "code",
      "source": [
        "df2.dtypes"
      ],
      "metadata": {
        "colab": {
          "base_uri": "https://localhost:8080/"
        },
        "id": "eYnO0q5Fb5cv",
        "outputId": "f8a261e1-1b82-43c7-e536-59c10d2e0fcc"
      },
      "execution_count": null,
      "outputs": [
        {
          "output_type": "execute_result",
          "data": {
            "text/plain": [
              "SeniorCitizen         int64\n",
              "Partner              object\n",
              "Dependents           object\n",
              "tenure                int64\n",
              "PhoneService         object\n",
              "MultipleLines        object\n",
              "InternetService      object\n",
              "OnlineSecurity       object\n",
              "OnlineBackup         object\n",
              "DeviceProtection     object\n",
              "TechSupport          object\n",
              "StreamingTV          object\n",
              "StreamingMovies      object\n",
              "Contract             object\n",
              "PaperlessBilling     object\n",
              "PaymentMethod        object\n",
              "MonthlyCharges      float64\n",
              "TotalCharges         object\n",
              "Churn                object\n",
              "gender_Male           uint8\n",
              "dtype: object"
            ]
          },
          "metadata": {},
          "execution_count": 9
        }
      ]
    },
    {
      "cell_type": "code",
      "source": [
        "objeType = []\n",
        "\n",
        "for col in df2.columns:\n",
        "  if df2[col].dtypes == object:\n",
        "    objeType.append(col)\n",
        "\n",
        "objeType"
      ],
      "metadata": {
        "colab": {
          "base_uri": "https://localhost:8080/"
        },
        "id": "C-K-DA0Ietzc",
        "outputId": "e66339ca-7d51-4cea-e037-b0c2d9c33d64"
      },
      "execution_count": null,
      "outputs": [
        {
          "output_type": "execute_result",
          "data": {
            "text/plain": [
              "['Partner',\n",
              " 'Dependents',\n",
              " 'PhoneService',\n",
              " 'MultipleLines',\n",
              " 'InternetService',\n",
              " 'OnlineSecurity',\n",
              " 'OnlineBackup',\n",
              " 'DeviceProtection',\n",
              " 'TechSupport',\n",
              " 'StreamingTV',\n",
              " 'StreamingMovies',\n",
              " 'Contract',\n",
              " 'PaperlessBilling',\n",
              " 'PaymentMethod',\n",
              " 'TotalCharges',\n",
              " 'Churn']"
            ]
          },
          "metadata": {},
          "execution_count": 10
        }
      ]
    },
    {
      "cell_type": "code",
      "source": [
        "for col in objeType:\n",
        "  print(col, ':', df2[col].unique())"
      ],
      "metadata": {
        "colab": {
          "base_uri": "https://localhost:8080/"
        },
        "id": "NlcPP9nKfd3o",
        "outputId": "3decf504-b802-4a97-d608-c8d66f311987"
      },
      "execution_count": null,
      "outputs": [
        {
          "output_type": "stream",
          "name": "stdout",
          "text": [
            "Partner : ['Yes' 'No']\n",
            "Dependents : ['No' 'Yes']\n",
            "PhoneService : ['No' 'Yes']\n",
            "MultipleLines : ['No phone service' 'No' 'Yes']\n",
            "InternetService : ['DSL' 'Fiber optic' 'No']\n",
            "OnlineSecurity : ['No' 'Yes' 'No internet service']\n",
            "OnlineBackup : ['Yes' 'No' 'No internet service']\n",
            "DeviceProtection : ['No' 'Yes' 'No internet service']\n",
            "TechSupport : ['No' 'Yes' 'No internet service']\n",
            "StreamingTV : ['No' 'Yes' 'No internet service']\n",
            "StreamingMovies : ['No' 'Yes' 'No internet service']\n",
            "Contract : ['Month-to-month' 'One year' 'Two year']\n",
            "PaperlessBilling : ['Yes' 'No']\n",
            "PaymentMethod : ['Electronic check' 'Mailed check' 'Bank transfer (automatic)'\n",
            " 'Credit card (automatic)']\n",
            "TotalCharges : ['29.85' '1889.5' '108.15' ... '346.45' '306.6' '6844.5']\n",
            "Churn : ['No' 'Yes']\n"
          ]
        }
      ]
    },
    {
      "cell_type": "markdown",
      "source": [
        "lets turn all no................. into no"
      ],
      "metadata": {
        "id": "sKZ3Pym0g0u3"
      }
    },
    {
      "cell_type": "code",
      "source": [
        "def fun(word):\n",
        "  word = word.lower()\n",
        "  if 'no' in word:\n",
        "    return 0\n",
        "  elif 'yes' in word:\n",
        "    return 1\n",
        "  else:\n",
        "    return word"
      ],
      "metadata": {
        "id": "fUpx2JZlgmos"
      },
      "execution_count": null,
      "outputs": []
    },
    {
      "cell_type": "code",
      "source": [
        "for col in objeType:\n",
        "  df2[col] = df2[col].apply(fun)\n",
        "\n",
        "df2.head()"
      ],
      "metadata": {
        "colab": {
          "base_uri": "https://localhost:8080/",
          "height": 340
        },
        "id": "NPh2em6Dh15Z",
        "outputId": "2c819c3f-a4ef-4d0f-88df-1b98391f24d4"
      },
      "execution_count": null,
      "outputs": [
        {
          "output_type": "execute_result",
          "data": {
            "text/plain": [
              "   SeniorCitizen  Partner  Dependents  tenure  PhoneService  MultipleLines  \\\n",
              "0              0        1           0       1             0              0   \n",
              "1              0        0           0      34             1              0   \n",
              "2              0        0           0       2             1              0   \n",
              "3              0        0           0      45             0              0   \n",
              "4              0        0           0       2             1              0   \n",
              "\n",
              "  InternetService  OnlineSecurity  OnlineBackup  DeviceProtection  \\\n",
              "0             dsl               0             1                 0   \n",
              "1             dsl               1             0                 1   \n",
              "2             dsl               1             1                 0   \n",
              "3             dsl               1             0                 1   \n",
              "4     fiber optic               0             0                 0   \n",
              "\n",
              "   TechSupport  StreamingTV  StreamingMovies        Contract  \\\n",
              "0            0            0                0  month-to-month   \n",
              "1            0            0                0        one year   \n",
              "2            0            0                0  month-to-month   \n",
              "3            1            0                0        one year   \n",
              "4            0            0                0  month-to-month   \n",
              "\n",
              "   PaperlessBilling              PaymentMethod  MonthlyCharges TotalCharges  \\\n",
              "0                 1           electronic check           29.85        29.85   \n",
              "1                 0               mailed check           56.95       1889.5   \n",
              "2                 1               mailed check           53.85       108.15   \n",
              "3                 0  bank transfer (automatic)           42.30      1840.75   \n",
              "4                 1           electronic check           70.70       151.65   \n",
              "\n",
              "   Churn  gender_Male  \n",
              "0      0            0  \n",
              "1      0            1  \n",
              "2      1            1  \n",
              "3      0            1  \n",
              "4      1            0  "
            ],
            "text/html": [
              "\n",
              "  <div id=\"df-524de1ea-bb6f-4138-ad23-9496c32a0670\">\n",
              "    <div class=\"colab-df-container\">\n",
              "      <div>\n",
              "<style scoped>\n",
              "    .dataframe tbody tr th:only-of-type {\n",
              "        vertical-align: middle;\n",
              "    }\n",
              "\n",
              "    .dataframe tbody tr th {\n",
              "        vertical-align: top;\n",
              "    }\n",
              "\n",
              "    .dataframe thead th {\n",
              "        text-align: right;\n",
              "    }\n",
              "</style>\n",
              "<table border=\"1\" class=\"dataframe\">\n",
              "  <thead>\n",
              "    <tr style=\"text-align: right;\">\n",
              "      <th></th>\n",
              "      <th>SeniorCitizen</th>\n",
              "      <th>Partner</th>\n",
              "      <th>Dependents</th>\n",
              "      <th>tenure</th>\n",
              "      <th>PhoneService</th>\n",
              "      <th>MultipleLines</th>\n",
              "      <th>InternetService</th>\n",
              "      <th>OnlineSecurity</th>\n",
              "      <th>OnlineBackup</th>\n",
              "      <th>DeviceProtection</th>\n",
              "      <th>TechSupport</th>\n",
              "      <th>StreamingTV</th>\n",
              "      <th>StreamingMovies</th>\n",
              "      <th>Contract</th>\n",
              "      <th>PaperlessBilling</th>\n",
              "      <th>PaymentMethod</th>\n",
              "      <th>MonthlyCharges</th>\n",
              "      <th>TotalCharges</th>\n",
              "      <th>Churn</th>\n",
              "      <th>gender_Male</th>\n",
              "    </tr>\n",
              "  </thead>\n",
              "  <tbody>\n",
              "    <tr>\n",
              "      <th>0</th>\n",
              "      <td>0</td>\n",
              "      <td>1</td>\n",
              "      <td>0</td>\n",
              "      <td>1</td>\n",
              "      <td>0</td>\n",
              "      <td>0</td>\n",
              "      <td>dsl</td>\n",
              "      <td>0</td>\n",
              "      <td>1</td>\n",
              "      <td>0</td>\n",
              "      <td>0</td>\n",
              "      <td>0</td>\n",
              "      <td>0</td>\n",
              "      <td>month-to-month</td>\n",
              "      <td>1</td>\n",
              "      <td>electronic check</td>\n",
              "      <td>29.85</td>\n",
              "      <td>29.85</td>\n",
              "      <td>0</td>\n",
              "      <td>0</td>\n",
              "    </tr>\n",
              "    <tr>\n",
              "      <th>1</th>\n",
              "      <td>0</td>\n",
              "      <td>0</td>\n",
              "      <td>0</td>\n",
              "      <td>34</td>\n",
              "      <td>1</td>\n",
              "      <td>0</td>\n",
              "      <td>dsl</td>\n",
              "      <td>1</td>\n",
              "      <td>0</td>\n",
              "      <td>1</td>\n",
              "      <td>0</td>\n",
              "      <td>0</td>\n",
              "      <td>0</td>\n",
              "      <td>one year</td>\n",
              "      <td>0</td>\n",
              "      <td>mailed check</td>\n",
              "      <td>56.95</td>\n",
              "      <td>1889.5</td>\n",
              "      <td>0</td>\n",
              "      <td>1</td>\n",
              "    </tr>\n",
              "    <tr>\n",
              "      <th>2</th>\n",
              "      <td>0</td>\n",
              "      <td>0</td>\n",
              "      <td>0</td>\n",
              "      <td>2</td>\n",
              "      <td>1</td>\n",
              "      <td>0</td>\n",
              "      <td>dsl</td>\n",
              "      <td>1</td>\n",
              "      <td>1</td>\n",
              "      <td>0</td>\n",
              "      <td>0</td>\n",
              "      <td>0</td>\n",
              "      <td>0</td>\n",
              "      <td>month-to-month</td>\n",
              "      <td>1</td>\n",
              "      <td>mailed check</td>\n",
              "      <td>53.85</td>\n",
              "      <td>108.15</td>\n",
              "      <td>1</td>\n",
              "      <td>1</td>\n",
              "    </tr>\n",
              "    <tr>\n",
              "      <th>3</th>\n",
              "      <td>0</td>\n",
              "      <td>0</td>\n",
              "      <td>0</td>\n",
              "      <td>45</td>\n",
              "      <td>0</td>\n",
              "      <td>0</td>\n",
              "      <td>dsl</td>\n",
              "      <td>1</td>\n",
              "      <td>0</td>\n",
              "      <td>1</td>\n",
              "      <td>1</td>\n",
              "      <td>0</td>\n",
              "      <td>0</td>\n",
              "      <td>one year</td>\n",
              "      <td>0</td>\n",
              "      <td>bank transfer (automatic)</td>\n",
              "      <td>42.30</td>\n",
              "      <td>1840.75</td>\n",
              "      <td>0</td>\n",
              "      <td>1</td>\n",
              "    </tr>\n",
              "    <tr>\n",
              "      <th>4</th>\n",
              "      <td>0</td>\n",
              "      <td>0</td>\n",
              "      <td>0</td>\n",
              "      <td>2</td>\n",
              "      <td>1</td>\n",
              "      <td>0</td>\n",
              "      <td>fiber optic</td>\n",
              "      <td>0</td>\n",
              "      <td>0</td>\n",
              "      <td>0</td>\n",
              "      <td>0</td>\n",
              "      <td>0</td>\n",
              "      <td>0</td>\n",
              "      <td>month-to-month</td>\n",
              "      <td>1</td>\n",
              "      <td>electronic check</td>\n",
              "      <td>70.70</td>\n",
              "      <td>151.65</td>\n",
              "      <td>1</td>\n",
              "      <td>0</td>\n",
              "    </tr>\n",
              "  </tbody>\n",
              "</table>\n",
              "</div>\n",
              "      <button class=\"colab-df-convert\" onclick=\"convertToInteractive('df-524de1ea-bb6f-4138-ad23-9496c32a0670')\"\n",
              "              title=\"Convert this dataframe to an interactive table.\"\n",
              "              style=\"display:none;\">\n",
              "        \n",
              "  <svg xmlns=\"http://www.w3.org/2000/svg\" height=\"24px\"viewBox=\"0 0 24 24\"\n",
              "       width=\"24px\">\n",
              "    <path d=\"M0 0h24v24H0V0z\" fill=\"none\"/>\n",
              "    <path d=\"M18.56 5.44l.94 2.06.94-2.06 2.06-.94-2.06-.94-.94-2.06-.94 2.06-2.06.94zm-11 1L8.5 8.5l.94-2.06 2.06-.94-2.06-.94L8.5 2.5l-.94 2.06-2.06.94zm10 10l.94 2.06.94-2.06 2.06-.94-2.06-.94-.94-2.06-.94 2.06-2.06.94z\"/><path d=\"M17.41 7.96l-1.37-1.37c-.4-.4-.92-.59-1.43-.59-.52 0-1.04.2-1.43.59L10.3 9.45l-7.72 7.72c-.78.78-.78 2.05 0 2.83L4 21.41c.39.39.9.59 1.41.59.51 0 1.02-.2 1.41-.59l7.78-7.78 2.81-2.81c.8-.78.8-2.07 0-2.86zM5.41 20L4 18.59l7.72-7.72 1.47 1.35L5.41 20z\"/>\n",
              "  </svg>\n",
              "      </button>\n",
              "      \n",
              "  <style>\n",
              "    .colab-df-container {\n",
              "      display:flex;\n",
              "      flex-wrap:wrap;\n",
              "      gap: 12px;\n",
              "    }\n",
              "\n",
              "    .colab-df-convert {\n",
              "      background-color: #E8F0FE;\n",
              "      border: none;\n",
              "      border-radius: 50%;\n",
              "      cursor: pointer;\n",
              "      display: none;\n",
              "      fill: #1967D2;\n",
              "      height: 32px;\n",
              "      padding: 0 0 0 0;\n",
              "      width: 32px;\n",
              "    }\n",
              "\n",
              "    .colab-df-convert:hover {\n",
              "      background-color: #E2EBFA;\n",
              "      box-shadow: 0px 1px 2px rgba(60, 64, 67, 0.3), 0px 1px 3px 1px rgba(60, 64, 67, 0.15);\n",
              "      fill: #174EA6;\n",
              "    }\n",
              "\n",
              "    [theme=dark] .colab-df-convert {\n",
              "      background-color: #3B4455;\n",
              "      fill: #D2E3FC;\n",
              "    }\n",
              "\n",
              "    [theme=dark] .colab-df-convert:hover {\n",
              "      background-color: #434B5C;\n",
              "      box-shadow: 0px 1px 3px 1px rgba(0, 0, 0, 0.15);\n",
              "      filter: drop-shadow(0px 1px 2px rgba(0, 0, 0, 0.3));\n",
              "      fill: #FFFFFF;\n",
              "    }\n",
              "  </style>\n",
              "\n",
              "      <script>\n",
              "        const buttonEl =\n",
              "          document.querySelector('#df-524de1ea-bb6f-4138-ad23-9496c32a0670 button.colab-df-convert');\n",
              "        buttonEl.style.display =\n",
              "          google.colab.kernel.accessAllowed ? 'block' : 'none';\n",
              "\n",
              "        async function convertToInteractive(key) {\n",
              "          const element = document.querySelector('#df-524de1ea-bb6f-4138-ad23-9496c32a0670');\n",
              "          const dataTable =\n",
              "            await google.colab.kernel.invokeFunction('convertToInteractive',\n",
              "                                                     [key], {});\n",
              "          if (!dataTable) return;\n",
              "\n",
              "          const docLinkHtml = 'Like what you see? Visit the ' +\n",
              "            '<a target=\"_blank\" href=https://colab.research.google.com/notebooks/data_table.ipynb>data table notebook</a>'\n",
              "            + ' to learn more about interactive tables.';\n",
              "          element.innerHTML = '';\n",
              "          dataTable['output_type'] = 'display_data';\n",
              "          await google.colab.output.renderOutput(dataTable, element);\n",
              "          const docLink = document.createElement('div');\n",
              "          docLink.innerHTML = docLinkHtml;\n",
              "          element.appendChild(docLink);\n",
              "        }\n",
              "      </script>\n",
              "    </div>\n",
              "  </div>\n",
              "  "
            ]
          },
          "metadata": {},
          "execution_count": 13
        }
      ]
    },
    {
      "cell_type": "markdown",
      "source": [
        "update objeType"
      ],
      "metadata": {
        "id": "c4ifIR1xjK1v"
      }
    },
    {
      "cell_type": "code",
      "source": [
        "objeType = []\n",
        "\n",
        "for col in df2.columns:\n",
        "  if df2[col].dtypes == object:\n",
        "    objeType.append(col)\n",
        "\n",
        "objeType"
      ],
      "metadata": {
        "colab": {
          "base_uri": "https://localhost:8080/"
        },
        "id": "hV_OWaBjiEA0",
        "outputId": "92db5be0-7f58-46e6-c71a-90bde577e775"
      },
      "execution_count": null,
      "outputs": [
        {
          "output_type": "execute_result",
          "data": {
            "text/plain": [
              "['InternetService', 'Contract', 'PaymentMethod', 'TotalCharges']"
            ]
          },
          "metadata": {},
          "execution_count": 14
        }
      ]
    },
    {
      "cell_type": "markdown",
      "source": [
        "we can change total charge to number as it is present as string"
      ],
      "metadata": {
        "id": "Orm-zkQulBy1"
      }
    },
    {
      "cell_type": "code",
      "source": [
        "#pd.to_numeric(df2['TotalCharges'])"
      ],
      "metadata": {
        "id": "yD6EtV6jlKKU"
      },
      "execution_count": null,
      "outputs": []
    },
    {
      "cell_type": "markdown",
      "source": [
        "there are some empty string that cannot be changed into number.\n",
        "we can remove them or replace it it zero/null and later replace it avg value or any other missing values handaling method."
      ],
      "metadata": {
        "id": "XPJTVp2Plziy"
      }
    },
    {
      "cell_type": "code",
      "source": [
        "df2[df2['TotalCharges']== \" \"].shape, df2.shape"
      ],
      "metadata": {
        "colab": {
          "base_uri": "https://localhost:8080/"
        },
        "id": "NPQ9g82ZlzKu",
        "outputId": "d9d21b52-8bfa-4615-c74a-4b4b579fbab9"
      },
      "execution_count": null,
      "outputs": [
        {
          "output_type": "execute_result",
          "data": {
            "text/plain": [
              "((11, 20), (7043, 20))"
            ]
          },
          "metadata": {},
          "execution_count": 16
        }
      ]
    },
    {
      "cell_type": "markdown",
      "source": [
        "we can easily drop the empty total charges rows"
      ],
      "metadata": {
        "id": "5LTVJG58nAO8"
      }
    },
    {
      "cell_type": "code",
      "source": [
        "df3 = df2[df2['TotalCharges']!= \" \"]"
      ],
      "metadata": {
        "id": "ZMl_Os87lups"
      },
      "execution_count": null,
      "outputs": []
    },
    {
      "cell_type": "code",
      "source": [
        "objeType = []\n",
        "\n",
        "for col in df3.columns:\n",
        "  if df3[col].dtypes == object:\n",
        "    objeType.append(col)\n",
        "\n",
        "objeType"
      ],
      "metadata": {
        "colab": {
          "base_uri": "https://localhost:8080/"
        },
        "id": "i-p3dH15nO_I",
        "outputId": "3fbbbc96-d9c1-4b1c-f667-29fc3c6a14e7"
      },
      "execution_count": null,
      "outputs": [
        {
          "output_type": "execute_result",
          "data": {
            "text/plain": [
              "['InternetService', 'Contract', 'PaymentMethod', 'TotalCharges']"
            ]
          },
          "metadata": {},
          "execution_count": 18
        }
      ]
    },
    {
      "cell_type": "code",
      "source": [
        "df3['TotalCharges'] = pd.to_numeric(df3['TotalCharges'])"
      ],
      "metadata": {
        "colab": {
          "base_uri": "https://localhost:8080/"
        },
        "id": "fwzepN8voAUX",
        "outputId": "a55e9f6c-405c-48e7-c6e0-09714e82c63b"
      },
      "execution_count": null,
      "outputs": [
        {
          "output_type": "stream",
          "name": "stderr",
          "text": [
            "<ipython-input-19-c7215ee5a425>:1: SettingWithCopyWarning: \n",
            "A value is trying to be set on a copy of a slice from a DataFrame.\n",
            "Try using .loc[row_indexer,col_indexer] = value instead\n",
            "\n",
            "See the caveats in the documentation: https://pandas.pydata.org/pandas-docs/stable/user_guide/indexing.html#returning-a-view-versus-a-copy\n",
            "  df3['TotalCharges'] = pd.to_numeric(df3['TotalCharges'])\n"
          ]
        }
      ]
    },
    {
      "cell_type": "code",
      "source": [
        "objeType = []\n",
        "\n",
        "for col in df3.columns:\n",
        "  if df3[col].dtypes == object:\n",
        "    objeType.append(col)\n",
        "\n",
        "objeType"
      ],
      "metadata": {
        "colab": {
          "base_uri": "https://localhost:8080/"
        },
        "id": "XXJ3Eeo3oKmU",
        "outputId": "383145b3-bc18-457a-e89a-00b1e63e5bdf"
      },
      "execution_count": null,
      "outputs": [
        {
          "output_type": "execute_result",
          "data": {
            "text/plain": [
              "['InternetService', 'Contract', 'PaymentMethod']"
            ]
          },
          "metadata": {},
          "execution_count": 20
        }
      ]
    },
    {
      "cell_type": "code",
      "source": [
        "for col in objeType:\n",
        "  print(col, ':', df3[col].unique())"
      ],
      "metadata": {
        "colab": {
          "base_uri": "https://localhost:8080/"
        },
        "outputId": "be1d42da-ba84-4614-e1c9-af7fc147bde7",
        "id": "Ggsfe3E1o0pm"
      },
      "execution_count": null,
      "outputs": [
        {
          "output_type": "stream",
          "name": "stdout",
          "text": [
            "InternetService : ['dsl' 'fiber optic' 0]\n",
            "Contract : ['month-to-month' 'one year' 'two year']\n",
            "PaymentMethod : ['electronic check' 'mailed check' 'bank transfer (automatic)'\n",
            " 'credit card (automatic)']\n"
          ]
        }
      ]
    },
    {
      "cell_type": "code",
      "source": [
        "df4 = pd.get_dummies(data= df3, columns=objeType)\n",
        "\n"
      ],
      "metadata": {
        "id": "JFcPJ-lPoQWc"
      },
      "execution_count": null,
      "outputs": []
    },
    {
      "cell_type": "code",
      "source": [
        "df4.dtypes"
      ],
      "metadata": {
        "colab": {
          "base_uri": "https://localhost:8080/"
        },
        "id": "xLFZ2cnsseLC",
        "outputId": "15db4dea-bf17-406f-d77d-7ca23a9dd09c"
      },
      "execution_count": null,
      "outputs": [
        {
          "output_type": "execute_result",
          "data": {
            "text/plain": [
              "SeniorCitizen                                int64\n",
              "Partner                                      int64\n",
              "Dependents                                   int64\n",
              "tenure                                       int64\n",
              "PhoneService                                 int64\n",
              "MultipleLines                                int64\n",
              "OnlineSecurity                               int64\n",
              "OnlineBackup                                 int64\n",
              "DeviceProtection                             int64\n",
              "TechSupport                                  int64\n",
              "StreamingTV                                  int64\n",
              "StreamingMovies                              int64\n",
              "PaperlessBilling                             int64\n",
              "MonthlyCharges                             float64\n",
              "TotalCharges                               float64\n",
              "Churn                                        int64\n",
              "gender_Male                                  uint8\n",
              "InternetService_0                            uint8\n",
              "InternetService_dsl                          uint8\n",
              "InternetService_fiber optic                  uint8\n",
              "Contract_month-to-month                      uint8\n",
              "Contract_one year                            uint8\n",
              "Contract_two year                            uint8\n",
              "PaymentMethod_bank transfer (automatic)      uint8\n",
              "PaymentMethod_credit card (automatic)        uint8\n",
              "PaymentMethod_electronic check               uint8\n",
              "PaymentMethod_mailed check                   uint8\n",
              "dtype: object"
            ]
          },
          "metadata": {},
          "execution_count": 23
        }
      ]
    },
    {
      "cell_type": "code",
      "source": [
        "x = df4.drop(columns=['Churn',])\n",
        "y = df4['Churn']"
      ],
      "metadata": {
        "id": "lxNdllcWswii"
      },
      "execution_count": null,
      "outputs": []
    },
    {
      "cell_type": "code",
      "source": [
        "import matplotlib.pyplot as plt"
      ],
      "metadata": {
        "id": "tedqJxfIqwFA"
      },
      "execution_count": null,
      "outputs": []
    },
    {
      "cell_type": "code",
      "source": [
        "tenure_churn_no = df4[df4.Churn==0].tenure\n",
        "tenure_churn_yes = df4[df4.Churn==1].tenure\n",
        "plt.xlabel(\"tenure\")\n",
        "plt.ylabel(\"Number Of Customers\")\n",
        "plt.title(\"Customer Churn Prediction Visualiztion\")\n",
        "plt.hist([tenure_churn_yes, tenure_churn_no], rwidth=0.95, color=['green','red'],label=['Churn=Yes','Churn=No'])\n",
        "plt.legend()"
      ],
      "metadata": {
        "colab": {
          "base_uri": "https://localhost:8080/",
          "height": 402
        },
        "id": "U2FrwaCbtOc7",
        "outputId": "2219f1fa-fe6d-4fc5-c320-24948c8dd203"
      },
      "execution_count": null,
      "outputs": [
        {
          "output_type": "stream",
          "name": "stderr",
          "text": [
            "/usr/local/lib/python3.8/dist-packages/numpy/core/fromnumeric.py:3208: VisibleDeprecationWarning: Creating an ndarray from ragged nested sequences (which is a list-or-tuple of lists-or-tuples-or ndarrays with different lengths or shapes) is deprecated. If you meant to do this, you must specify 'dtype=object' when creating the ndarray.\n",
            "  return asarray(a).size\n",
            "/usr/local/lib/python3.8/dist-packages/matplotlib/cbook/__init__.py:1376: VisibleDeprecationWarning: Creating an ndarray from ragged nested sequences (which is a list-or-tuple of lists-or-tuples-or ndarrays with different lengths or shapes) is deprecated. If you meant to do this, you must specify 'dtype=object' when creating the ndarray.\n",
            "  X = np.atleast_1d(X.T if isinstance(X, np.ndarray) else np.asarray(X))\n"
          ]
        },
        {
          "output_type": "execute_result",
          "data": {
            "text/plain": [
              "<matplotlib.legend.Legend at 0x7fb48bc4bfd0>"
            ]
          },
          "metadata": {},
          "execution_count": 26
        },
        {
          "output_type": "display_data",
          "data": {
            "text/plain": [
              "<Figure size 432x288 with 1 Axes>"
            ],
            "image/png": "[encoded data removed]"
          },
          "metadata": {
            "needs_background": "light"
          }
        }
      ]
    },
    {
      "cell_type": "code",
      "source": [
        "MonthlyCharges_churn_no = df4[df4.Churn==0].MonthlyCharges\n",
        "MonthlyCharges_churn_yes = df4[df4.Churn==1].MonthlyCharges\n",
        "plt.xlabel(\"MonthlyCharges\")\n",
        "plt.ylabel(\"Number Of Customers\")\n",
        "plt.title(\"Customer Churn Prediction Visualiztion\")\n",
        "plt.hist([MonthlyCharges_churn_yes, MonthlyCharges_churn_no], rwidth=0.95, color=['green','red'],label=['Churn=Yes','Churn=No'])\n",
        "plt.legend()"
      ],
      "metadata": {
        "id": "autoJrN8u7wE",
        "colab": {
          "base_uri": "https://localhost:8080/",
          "height": 312
        },
        "outputId": "b6f816f6-d36c-4391-f938-0c7c1dc2793e"
      },
      "execution_count": null,
      "outputs": [
        {
          "output_type": "execute_result",
          "data": {
            "text/plain": [
              "<matplotlib.legend.Legend at 0x7fb48bb2cd90>"
            ]
          },
          "metadata": {},
          "execution_count": 27
        },
        {
          "output_type": "display_data",
          "data": {
            "text/plain": [
              "<Figure size 432x288 with 1 Axes>"
            ],
            "image/png": "[encoded data removed]"
          },
          "metadata": {
            "needs_background": "light"
          }
        }
      ]
    },
    {
      "cell_type": "markdown",
      "source": [
        "lets build a **ANN** model"
      ],
      "metadata": {
        "id": "bTGxKWHdsNSj"
      }
    },
    {
      "cell_type": "code",
      "source": [
        "import tensorflow as tf\n",
        "from tensorflow import keras"
      ],
      "metadata": {
        "id": "VtZEhWNlsFPT"
      },
      "execution_count": null,
      "outputs": []
    },
    {
      "cell_type": "code",
      "source": [
        "model = keras.Sequential([\n",
        "    keras.layers.Input(shape= (26,)),\n",
        "    keras.layers.Dense(10, activation='relu'),\n",
        "    keras.layers.Dense(5, activation='relu'),\n",
        "    keras.layers.Dense(1, activation= 'sigmoid'),\n",
        "]\n",
        ")"
      ],
      "metadata": {
        "id": "8LICOI5otCYH"
      },
      "execution_count": null,
      "outputs": []
    },
    {
      "cell_type": "code",
      "source": [
        "from sklearn.model_selection import train_test_split\n",
        "\n",
        "x_train,x_test,y_train, y_test = train_test_split(x, y, test_size= 0.3, stratify=y)"
      ],
      "metadata": {
        "id": "PSYY4wg_wBH1"
      },
      "execution_count": null,
      "outputs": []
    },
    {
      "cell_type": "code",
      "source": [
        "model.compile(optimizer='adam',\n",
        "              loss='binary_crossentropy',\n",
        "              metrics=['accuracy'])\n",
        "\n",
        "model.fit(x_train, y_train, epochs=20)"
      ],
      "metadata": {
        "colab": {
          "base_uri": "https://localhost:8080/"
        },
        "id": "1lzlRu8GvaVC",
        "outputId": "37925131-0ec2-487f-8f68-f2dd7682e81e"
      },
      "execution_count": null,
      "outputs": [
        {
          "output_type": "stream",
          "name": "stdout",
          "text": [
            "Epoch 1/20\n",
            "154/154 [==============================] - 1s 1ms/step - loss: 55.6119 - accuracy: 0.5146\n",
            "Epoch 2/20\n",
            "154/154 [==============================] - 0s 1ms/step - loss: 0.7355 - accuracy: 0.6711\n",
            "Epoch 3/20\n",
            "154/154 [==============================] - 0s 1ms/step - loss: 0.5359 - accuracy: 0.7668\n",
            "Epoch 4/20\n",
            "154/154 [==============================] - 0s 1ms/step - loss: 0.5234 - accuracy: 0.7633\n",
            "Epoch 5/20\n",
            "154/154 [==============================] - 0s 1ms/step - loss: 0.5479 - accuracy: 0.7633\n",
            "Epoch 6/20\n",
            "154/154 [==============================] - 0s 1ms/step - loss: 0.6586 - accuracy: 0.7611\n",
            "Epoch 7/20\n",
            "154/154 [==============================] - 0s 1ms/step - loss: 0.5652 - accuracy: 0.7672\n",
            "Epoch 8/20\n",
            "154/154 [==============================] - 0s 1ms/step - loss: 0.5115 - accuracy: 0.7735\n",
            "Epoch 9/20\n",
            "154/154 [==============================] - 0s 1ms/step - loss: 0.6577 - accuracy: 0.7590\n",
            "Epoch 10/20\n",
            "154/154 [==============================] - 0s 2ms/step - loss: 0.5887 - accuracy: 0.7694\n",
            "Epoch 11/20\n",
            "154/154 [==============================] - 0s 2ms/step - loss: 0.5506 - accuracy: 0.7731\n",
            "Epoch 12/20\n",
            "154/154 [==============================] - 0s 3ms/step - loss: 0.5548 - accuracy: 0.7743\n",
            "Epoch 13/20\n",
            "154/154 [==============================] - 0s 3ms/step - loss: 0.6039 - accuracy: 0.7645\n",
            "Epoch 14/20\n",
            "154/154 [==============================] - 0s 3ms/step - loss: 0.5840 - accuracy: 0.7735\n",
            "Epoch 15/20\n",
            "154/154 [==============================] - 0s 2ms/step - loss: 0.5963 - accuracy: 0.7773\n",
            "Epoch 16/20\n",
            "154/154 [==============================] - 0s 3ms/step - loss: 0.7883 - accuracy: 0.7623\n",
            "Epoch 17/20\n",
            "154/154 [==============================] - 0s 2ms/step - loss: 0.5453 - accuracy: 0.7769\n",
            "Epoch 18/20\n",
            "154/154 [==============================] - 0s 2ms/step - loss: 0.5868 - accuracy: 0.7777\n",
            "Epoch 19/20\n",
            "154/154 [==============================] - 0s 3ms/step - loss: 0.6253 - accuracy: 0.7629\n",
            "Epoch 20/20\n",
            "154/154 [==============================] - 0s 3ms/step - loss: 0.5754 - accuracy: 0.7779\n"
          ]
        },
        {
          "output_type": "execute_result",
          "data": {
            "text/plain": [
              "<keras.callbacks.History at 0x7fb428b43520>"
            ]
          },
          "metadata": {},
          "execution_count": 31
        }
      ]
    },
    {
      "cell_type": "code",
      "source": [
        "model.evaluate(x_test, y_test)"
      ],
      "metadata": {
        "colab": {
          "base_uri": "https://localhost:8080/"
        },
        "id": "RIPE3jnxv-dD",
        "outputId": "e745b88e-1876-4293-ae42-9fa48d29d90b"
      },
      "execution_count": null,
      "outputs": [
        {
          "output_type": "stream",
          "name": "stdout",
          "text": [
            "66/66 [==============================] - 0s 3ms/step - loss: 0.4143 - accuracy: 0.8114\n"
          ]
        },
        {
          "output_type": "execute_result",
          "data": {
            "text/plain": [
              "[0.4142691493034363, 0.8113744258880615]"
            ]
          },
          "metadata": {},
          "execution_count": 32
        }
      ]
    },
    {
      "cell_type": "code",
      "source": [
        "yp = model.predict(x_test)\n",
        "y_pred = []\n",
        "for element in yp:\n",
        "    if element > 0.5:\n",
        "        y_pred.append(1)\n",
        "    else:\n",
        "        y_pred.append(0)"
      ],
      "metadata": {
        "colab": {
          "base_uri": "https://localhost:8080/"
        },
        "id": "iiF7_YMxyY0m",
        "outputId": "3e36c1cb-bda3-422f-9110-6835f921882e"
      },
      "execution_count": null,
      "outputs": [
        {
          "output_type": "stream",
          "name": "stdout",
          "text": [
            "66/66 [==============================] - 0s 3ms/step\n"
          ]
        }
      ]
    },
    {
      "cell_type": "code",
      "source": [
        "from sklearn.metrics import confusion_matrix , classification_report\n",
        "\n",
        "print(classification_report(y_test,y_pred))"
      ],
      "metadata": {
        "colab": {
          "base_uri": "https://localhost:8080/"
        },
        "id": "--Whj2yJ4Mer",
        "outputId": "0dda78c6-ce0a-4be7-e250-1504128d5576"
      },
      "execution_count": null,
      "outputs": [
        {
          "output_type": "stream",
          "name": "stdout",
          "text": [
            "              precision    recall  f1-score   support\n",
            "\n",
            "           0       0.86      0.89      0.87      1549\n",
            "           1       0.66      0.59      0.63       561\n",
            "\n",
            "    accuracy                           0.81      2110\n",
            "   macro avg       0.76      0.74      0.75      2110\n",
            "weighted avg       0.81      0.81      0.81      2110\n",
            "\n"
          ]
        }
      ]
    },
    {
      "cell_type": "code",
      "source": [
        "import seaborn as sn\n",
        "cm = tf.math.confusion_matrix(labels=y_test,predictions=y_pred)\n",
        "\n",
        "plt.figure(figsize = (10,7))\n",
        "sn.heatmap(cm, annot=True, fmt='d')\n",
        "plt.xlabel('Predicted')\n",
        "plt.ylabel('Truth')"
      ],
      "metadata": {
        "colab": {
          "base_uri": "https://localhost:8080/",
          "height": 459
        },
        "id": "hKNAaihT4cp1",
        "outputId": "42139cef-8a20-412d-9d27-8e48404ae817"
      },
      "execution_count": null,
      "outputs": [
        {
          "output_type": "execute_result",
          "data": {
            "text/plain": [
              "Text(69.0, 0.5, 'Truth')"
            ]
          },
          "metadata": {},
          "execution_count": 35
        },
        {
          "output_type": "display_data",
          "data": {
            "text/plain": [
              "<Figure size 720x504 with 2 Axes>"
            ],
            "image/png": "[encoded data removed]"
          },
          "metadata": {
            "needs_background": "light"
          }
        }
      ]
    },
    {
      "cell_type": "code",
      "source": [],
      "metadata": {
        "id": "aDx1gBzTRyAJ"
      },
      "execution_count": null,
      "outputs": []
    },
    {
      "cell_type": "markdown",
      "source": [
        "#### bank churn"
      ],
      "metadata": {
        "id": "IWYrMoPS6WSx"
      }
    },
    {
      "cell_type": "code",
      "source": [
        "url = 'https://raw.githubusercontent.com/harsh-kmr/ml_projects/master/Churn_Modelling.csv'"
      ],
      "metadata": {
        "id": "jGj9KXhj4fvW"
      },
      "execution_count": null,
      "outputs": []
    },
    {
      "cell_type": "code",
      "source": [
        "import pandas as pd "
      ],
      "metadata": {
        "id": "Ti0YuXVF-kjn"
      },
      "execution_count": null,
      "outputs": []
    },
    {
      "cell_type": "code",
      "source": [
        "df = pd.read_csv(url)\n",
        "\n",
        "df.head()"
      ],
      "metadata": {
        "colab": {
          "base_uri": "https://localhost:8080/",
          "height": 270
        },
        "id": "DbR6uH4F-yfZ",
        "outputId": "f8a192ce-91bb-4ec2-dc21-cf378bfe338d"
      },
      "execution_count": null,
      "outputs": [
        {
          "output_type": "execute_result",
          "data": {
            "text/plain": [
              "   RowNumber  CustomerId   Surname  CreditScore Geography  Gender  Age  \\\n",
              "0          1    15634602  Hargrave          619    France  Female   42   \n",
              "1          2    15647311      Hill          608     Spain  Female   41   \n",
              "2          3    15619304      Onio          502    France  Female   42   \n",
              "3          4    15701354      Boni          699    France  Female   39   \n",
              "4          5    15737888  Mitchell          850     Spain  Female   43   \n",
              "\n",
              "   Tenure    Balance  NumOfProducts  HasCrCard  IsActiveMember  \\\n",
              "0       2       0.00              1          1               1   \n",
              "1       1   83807.86              1          0               1   \n",
              "2       8  159660.80              3          1               0   \n",
              "3       1       0.00              2          0               0   \n",
              "4       2  125510.82              1          1               1   \n",
              "\n",
              "   EstimatedSalary  Exited  \n",
              "0        101348.88       1  \n",
              "1        112542.58       0  \n",
              "2        113931.57       1  \n",
              "3         93826.63       0  \n",
              "4         79084.10       0  "
            ],
            "text/html": [
              "\n",
              "  <div id=\"df-5d625e98-21e7-4e0b-8324-b315642fd30e\">\n",
              "    <div class=\"colab-df-container\">\n",
              "      <div>\n",
              "<style scoped>\n",
              "    .dataframe tbody tr th:only-of-type {\n",
              "        vertical-align: middle;\n",
              "    }\n",
              "\n",
              "    .dataframe tbody tr th {\n",
              "        vertical-align: top;\n",
              "    }\n",
              "\n",
              "    .dataframe thead th {\n",
              "        text-align: right;\n",
              "    }\n",
              "</style>\n",
              "<table border=\"1\" class=\"dataframe\">\n",
              "  <thead>\n",
              "    <tr style=\"text-align: right;\">\n",
              "      <th></th>\n",
              "      <th>RowNumber</th>\n",
              "      <th>CustomerId</th>\n",
              "      <th>Surname</th>\n",
              "      <th>CreditScore</th>\n",
              "      <th>Geography</th>\n",
              "      <th>Gender</th>\n",
              "      <th>Age</th>\n",
              "      <th>Tenure</th>\n",
              "      <th>Balance</th>\n",
              "      <th>NumOfProducts</th>\n",
              "      <th>HasCrCard</th>\n",
              "      <th>IsActiveMember</th>\n",
              "      <th>EstimatedSalary</th>\n",
              "      <th>Exited</th>\n",
              "    </tr>\n",
              "  </thead>\n",
              "  <tbody>\n",
              "    <tr>\n",
              "      <th>0</th>\n",
              "      <td>1</td>\n",
              "      <td>15634602</td>\n",
              "      <td>Hargrave</td>\n",
              "      <td>619</td>\n",
              "      <td>France</td>\n",
              "      <td>Female</td>\n",
              "      <td>42</td>\n",
              "      <td>2</td>\n",
              "      <td>0.00</td>\n",
              "      <td>1</td>\n",
              "      <td>1</td>\n",
              "      <td>1</td>\n",
              "      <td>101348.88</td>\n",
              "      <td>1</td>\n",
              "    </tr>\n",
              "    <tr>\n",
              "      <th>1</th>\n",
              "      <td>2</td>\n",
              "      <td>15647311</td>\n",
              "      <td>Hill</td>\n",
              "      <td>608</td>\n",
              "      <td>Spain</td>\n",
              "      <td>Female</td>\n",
              "      <td>41</td>\n",
              "      <td>1</td>\n",
              "      <td>83807.86</td>\n",
              "      <td>1</td>\n",
              "      <td>0</td>\n",
              "      <td>1</td>\n",
              "      <td>112542.58</td>\n",
              "      <td>0</td>\n",
              "    </tr>\n",
              "    <tr>\n",
              "      <th>2</th>\n",
              "      <td>3</td>\n",
              "      <td>15619304</td>\n",
              "      <td>Onio</td>\n",
              "      <td>502</td>\n",
              "      <td>France</td>\n",
              "      <td>Female</td>\n",
              "      <td>42</td>\n",
              "      <td>8</td>\n",
              "      <td>159660.80</td>\n",
              "      <td>3</td>\n",
              "      <td>1</td>\n",
              "      <td>0</td>\n",
              "      <td>113931.57</td>\n",
              "      <td>1</td>\n",
              "    </tr>\n",
              "    <tr>\n",
              "      <th>3</th>\n",
              "      <td>4</td>\n",
              "      <td>15701354</td>\n",
              "      <td>Boni</td>\n",
              "      <td>699</td>\n",
              "      <td>France</td>\n",
              "      <td>Female</td>\n",
              "      <td>39</td>\n",
              "      <td>1</td>\n",
              "      <td>0.00</td>\n",
              "      <td>2</td>\n",
              "      <td>0</td>\n",
              "      <td>0</td>\n",
              "      <td>93826.63</td>\n",
              "      <td>0</td>\n",
              "    </tr>\n",
              "    <tr>\n",
              "      <th>4</th>\n",
              "      <td>5</td>\n",
              "      <td>15737888</td>\n",
              "      <td>Mitchell</td>\n",
              "      <td>850</td>\n",
              "      <td>Spain</td>\n",
              "      <td>Female</td>\n",
              "      <td>43</td>\n",
              "      <td>2</td>\n",
              "      <td>125510.82</td>\n",
              "      <td>1</td>\n",
              "      <td>1</td>\n",
              "      <td>1</td>\n",
              "      <td>79084.10</td>\n",
              "      <td>0</td>\n",
              "    </tr>\n",
              "  </tbody>\n",
              "</table>\n",
              "</div>\n",
              "      <button class=\"colab-df-convert\" onclick=\"convertToInteractive('df-5d625e98-21e7-4e0b-8324-b315642fd30e')\"\n",
              "              title=\"Convert this dataframe to an interactive table.\"\n",
              "              style=\"display:none;\">\n",
              "        \n",
              "  <svg xmlns=\"http://www.w3.org/2000/svg\" height=\"24px\"viewBox=\"0 0 24 24\"\n",
              "       width=\"24px\">\n",
              "    <path d=\"M0 0h24v24H0V0z\" fill=\"none\"/>\n",
              "    <path d=\"M18.56 5.44l.94 2.06.94-2.06 2.06-.94-2.06-.94-.94-2.06-.94 2.06-2.06.94zm-11 1L8.5 8.5l.94-2.06 2.06-.94-2.06-.94L8.5 2.5l-.94 2.06-2.06.94zm10 10l.94 2.06.94-2.06 2.06-.94-2.06-.94-.94-2.06-.94 2.06-2.06.94z\"/><path d=\"M17.41 7.96l-1.37-1.37c-.4-.4-.92-.59-1.43-.59-.52 0-1.04.2-1.43.59L10.3 9.45l-7.72 7.72c-.78.78-.78 2.05 0 2.83L4 21.41c.39.39.9.59 1.41.59.51 0 1.02-.2 1.41-.59l7.78-7.78 2.81-2.81c.8-.78.8-2.07 0-2.86zM5.41 20L4 18.59l7.72-7.72 1.47 1.35L5.41 20z\"/>\n",
              "  </svg>\n",
              "      </button>\n",
              "      \n",
              "  <style>\n",
              "    .colab-df-container {\n",
              "      display:flex;\n",
              "      flex-wrap:wrap;\n",
              "      gap: 12px;\n",
              "    }\n",
              "\n",
              "    .colab-df-convert {\n",
              "      background-color: #E8F0FE;\n",
              "      border: none;\n",
              "      border-radius: 50%;\n",
              "      cursor: pointer;\n",
              "      display: none;\n",
              "      fill: #1967D2;\n",
              "      height: 32px;\n",
              "      padding: 0 0 0 0;\n",
              "      width: 32px;\n",
              "    }\n",
              "\n",
              "    .colab-df-convert:hover {\n",
              "      background-color: #E2EBFA;\n",
              "      box-shadow: 0px 1px 2px rgba(60, 64, 67, 0.3), 0px 1px 3px 1px rgba(60, 64, 67, 0.15);\n",
              "      fill: #174EA6;\n",
              "    }\n",
              "\n",
              "    [theme=dark] .colab-df-convert {\n",
              "      background-color: #3B4455;\n",
              "      fill: #D2E3FC;\n",
              "    }\n",
              "\n",
              "    [theme=dark] .colab-df-convert:hover {\n",
              "      background-color: #434B5C;\n",
              "      box-shadow: 0px 1px 3px 1px rgba(0, 0, 0, 0.15);\n",
              "      filter: drop-shadow(0px 1px 2px rgba(0, 0, 0, 0.3));\n",
              "      fill: #FFFFFF;\n",
              "    }\n",
              "  </style>\n",
              "\n",
              "      <script>\n",
              "        const buttonEl =\n",
              "          document.querySelector('#df-5d625e98-21e7-4e0b-8324-b315642fd30e button.colab-df-convert');\n",
              "        buttonEl.style.display =\n",
              "          google.colab.kernel.accessAllowed ? 'block' : 'none';\n",
              "\n",
              "        async function convertToInteractive(key) {\n",
              "          const element = document.querySelector('#df-5d625e98-21e7-4e0b-8324-b315642fd30e');\n",
              "          const dataTable =\n",
              "            await google.colab.kernel.invokeFunction('convertToInteractive',\n",
              "                                                     [key], {});\n",
              "          if (!dataTable) return;\n",
              "\n",
              "          const docLinkHtml = 'Like what you see? Visit the ' +\n",
              "            '<a target=\"_blank\" href=https://colab.research.google.com/notebooks/data_table.ipynb>data table notebook</a>'\n",
              "            + ' to learn more about interactive tables.';\n",
              "          element.innerHTML = '';\n",
              "          dataTable['output_type'] = 'display_data';\n",
              "          await google.colab.output.renderOutput(dataTable, element);\n",
              "          const docLink = document.createElement('div');\n",
              "          docLink.innerHTML = docLinkHtml;\n",
              "          element.appendChild(docLink);\n",
              "        }\n",
              "      </script>\n",
              "    </div>\n",
              "  </div>\n",
              "  "
            ]
          },
          "metadata": {},
          "execution_count": 3
        }
      ]
    },
    {
      "cell_type": "markdown",
      "source": [
        "we can drop the \"RowNumber\tCustomerId\tSurname\" columns"
      ],
      "metadata": {
        "id": "Sbc9hAdO_GPM"
      }
    },
    {
      "cell_type": "code",
      "source": [
        "df.drop(columns=['RowNumber',\t'CustomerId',\t'Surname',], inplace = True)"
      ],
      "metadata": {
        "id": "B0wC4Kwq-9TF"
      },
      "execution_count": null,
      "outputs": []
    },
    {
      "cell_type": "code",
      "source": [
        "df.dtypes"
      ],
      "metadata": {
        "colab": {
          "base_uri": "https://localhost:8080/"
        },
        "id": "QL72l_72_660",
        "outputId": "07beb9a9-a84f-43ab-dc4c-fc38c7975ee3"
      },
      "execution_count": null,
      "outputs": [
        {
          "output_type": "execute_result",
          "data": {
            "text/plain": [
              "CreditScore          int64\n",
              "Geography           object\n",
              "Gender              object\n",
              "Age                  int64\n",
              "Tenure               int64\n",
              "Balance            float64\n",
              "NumOfProducts        int64\n",
              "HasCrCard            int64\n",
              "IsActiveMember       int64\n",
              "EstimatedSalary    float64\n",
              "Exited               int64\n",
              "dtype: object"
            ]
          },
          "metadata": {},
          "execution_count": 5
        }
      ]
    },
    {
      "cell_type": "code",
      "source": [
        "df.Geography.unique()"
      ],
      "metadata": {
        "colab": {
          "base_uri": "https://localhost:8080/"
        },
        "id": "zb1z6zM3B-WD",
        "outputId": "11694542-2ef0-41a1-9aef-7448ebfa2894"
      },
      "execution_count": null,
      "outputs": [
        {
          "output_type": "execute_result",
          "data": {
            "text/plain": [
              "array(['France', 'Spain', 'Germany'], dtype=object)"
            ]
          },
          "metadata": {},
          "execution_count": 6
        }
      ]
    },
    {
      "cell_type": "code",
      "source": [
        "df = pd.get_dummies(data= df, columns=['Gender','Geography', ])"
      ],
      "metadata": {
        "id": "m1BRisZgAb2l"
      },
      "execution_count": null,
      "outputs": []
    },
    {
      "cell_type": "code",
      "source": [
        "df.head()"
      ],
      "metadata": {
        "colab": {
          "base_uri": "https://localhost:8080/",
          "height": 270
        },
        "id": "Ut_joX11CcEi",
        "outputId": "80975a37-8ebb-44ce-c791-e818d1b348e4"
      },
      "execution_count": null,
      "outputs": [
        {
          "output_type": "execute_result",
          "data": {
            "text/plain": [
              "   CreditScore  Age  Tenure    Balance  NumOfProducts  HasCrCard  \\\n",
              "0          619   42       2       0.00              1          1   \n",
              "1          608   41       1   83807.86              1          0   \n",
              "2          502   42       8  159660.80              3          1   \n",
              "3          699   39       1       0.00              2          0   \n",
              "4          850   43       2  125510.82              1          1   \n",
              "\n",
              "   IsActiveMember  EstimatedSalary  Exited  Gender_Female  Gender_Male  \\\n",
              "0               1        101348.88       1              1            0   \n",
              "1               1        112542.58       0              1            0   \n",
              "2               0        113931.57       1              1            0   \n",
              "3               0         93826.63       0              1            0   \n",
              "4               1         79084.10       0              1            0   \n",
              "\n",
              "   Geography_France  Geography_Germany  Geography_Spain  \n",
              "0                 1                  0                0  \n",
              "1                 0                  0                1  \n",
              "2                 1                  0                0  \n",
              "3                 1                  0                0  \n",
              "4                 0                  0                1  "
            ],
            "text/html": [
              "\n",
              "  <div id=\"df-17d6c5f2-3327-4e08-a4e6-6803557b31d5\">\n",
              "    <div class=\"colab-df-container\">\n",
              "      <div>\n",
              "<style scoped>\n",
              "    .dataframe tbody tr th:only-of-type {\n",
              "        vertical-align: middle;\n",
              "    }\n",
              "\n",
              "    .dataframe tbody tr th {\n",
              "        vertical-align: top;\n",
              "    }\n",
              "\n",
              "    .dataframe thead th {\n",
              "        text-align: right;\n",
              "    }\n",
              "</style>\n",
              "<table border=\"1\" class=\"dataframe\">\n",
              "  <thead>\n",
              "    <tr style=\"text-align: right;\">\n",
              "      <th></th>\n",
              "      <th>CreditScore</th>\n",
              "      <th>Age</th>\n",
              "      <th>Tenure</th>\n",
              "      <th>Balance</th>\n",
              "      <th>NumOfProducts</th>\n",
              "      <th>HasCrCard</th>\n",
              "      <th>IsActiveMember</th>\n",
              "      <th>EstimatedSalary</th>\n",
              "      <th>Exited</th>\n",
              "      <th>Gender_Female</th>\n",
              "      <th>Gender_Male</th>\n",
              "      <th>Geography_France</th>\n",
              "      <th>Geography_Germany</th>\n",
              "      <th>Geography_Spain</th>\n",
              "    </tr>\n",
              "  </thead>\n",
              "  <tbody>\n",
              "    <tr>\n",
              "      <th>0</th>\n",
              "      <td>619</td>\n",
              "      <td>42</td>\n",
              "      <td>2</td>\n",
              "      <td>0.00</td>\n",
              "      <td>1</td>\n",
              "      <td>1</td>\n",
              "      <td>1</td>\n",
              "      <td>101348.88</td>\n",
              "      <td>1</td>\n",
              "      <td>1</td>\n",
              "      <td>0</td>\n",
              "      <td>1</td>\n",
              "      <td>0</td>\n",
              "      <td>0</td>\n",
              "    </tr>\n",
              "    <tr>\n",
              "      <th>1</th>\n",
              "      <td>608</td>\n",
              "      <td>41</td>\n",
              "      <td>1</td>\n",
              "      <td>83807.86</td>\n",
              "      <td>1</td>\n",
              "      <td>0</td>\n",
              "      <td>1</td>\n",
              "      <td>112542.58</td>\n",
              "      <td>0</td>\n",
              "      <td>1</td>\n",
              "      <td>0</td>\n",
              "      <td>0</td>\n",
              "      <td>0</td>\n",
              "      <td>1</td>\n",
              "    </tr>\n",
              "    <tr>\n",
              "      <th>2</th>\n",
              "      <td>502</td>\n",
              "      <td>42</td>\n",
              "      <td>8</td>\n",
              "      <td>159660.80</td>\n",
              "      <td>3</td>\n",
              "      <td>1</td>\n",
              "      <td>0</td>\n",
              "      <td>113931.57</td>\n",
              "      <td>1</td>\n",
              "      <td>1</td>\n",
              "      <td>0</td>\n",
              "      <td>1</td>\n",
              "      <td>0</td>\n",
              "      <td>0</td>\n",
              "    </tr>\n",
              "    <tr>\n",
              "      <th>3</th>\n",
              "      <td>699</td>\n",
              "      <td>39</td>\n",
              "      <td>1</td>\n",
              "      <td>0.00</td>\n",
              "      <td>2</td>\n",
              "      <td>0</td>\n",
              "      <td>0</td>\n",
              "      <td>93826.63</td>\n",
              "      <td>0</td>\n",
              "      <td>1</td>\n",
              "      <td>0</td>\n",
              "      <td>1</td>\n",
              "      <td>0</td>\n",
              "      <td>0</td>\n",
              "    </tr>\n",
              "    <tr>\n",
              "      <th>4</th>\n",
              "      <td>850</td>\n",
              "      <td>43</td>\n",
              "      <td>2</td>\n",
              "      <td>125510.82</td>\n",
              "      <td>1</td>\n",
              "      <td>1</td>\n",
              "      <td>1</td>\n",
              "      <td>79084.10</td>\n",
              "      <td>0</td>\n",
              "      <td>1</td>\n",
              "      <td>0</td>\n",
              "      <td>0</td>\n",
              "      <td>0</td>\n",
              "      <td>1</td>\n",
              "    </tr>\n",
              "  </tbody>\n",
              "</table>\n",
              "</div>\n",
              "      <button class=\"colab-df-convert\" onclick=\"convertToInteractive('df-17d6c5f2-3327-4e08-a4e6-6803557b31d5')\"\n",
              "              title=\"Convert this dataframe to an interactive table.\"\n",
              "              style=\"display:none;\">\n",
              "        \n",
              "  <svg xmlns=\"http://www.w3.org/2000/svg\" height=\"24px\"viewBox=\"0 0 24 24\"\n",
              "       width=\"24px\">\n",
              "    <path d=\"M0 0h24v24H0V0z\" fill=\"none\"/>\n",
              "    <path d=\"M18.56 5.44l.94 2.06.94-2.06 2.06-.94-2.06-.94-.94-2.06-.94 2.06-2.06.94zm-11 1L8.5 8.5l.94-2.06 2.06-.94-2.06-.94L8.5 2.5l-.94 2.06-2.06.94zm10 10l.94 2.06.94-2.06 2.06-.94-2.06-.94-.94-2.06-.94 2.06-2.06.94z\"/><path d=\"M17.41 7.96l-1.37-1.37c-.4-.4-.92-.59-1.43-.59-.52 0-1.04.2-1.43.59L10.3 9.45l-7.72 7.72c-.78.78-.78 2.05 0 2.83L4 21.41c.39.39.9.59 1.41.59.51 0 1.02-.2 1.41-.59l7.78-7.78 2.81-2.81c.8-.78.8-2.07 0-2.86zM5.41 20L4 18.59l7.72-7.72 1.47 1.35L5.41 20z\"/>\n",
              "  </svg>\n",
              "      </button>\n",
              "      \n",
              "  <style>\n",
              "    .colab-df-container {\n",
              "      display:flex;\n",
              "      flex-wrap:wrap;\n",
              "      gap: 12px;\n",
              "    }\n",
              "\n",
              "    .colab-df-convert {\n",
              "      background-color: #E8F0FE;\n",
              "      border: none;\n",
              "      border-radius: 50%;\n",
              "      cursor: pointer;\n",
              "      display: none;\n",
              "      fill: #1967D2;\n",
              "      height: 32px;\n",
              "      padding: 0 0 0 0;\n",
              "      width: 32px;\n",
              "    }\n",
              "\n",
              "    .colab-df-convert:hover {\n",
              "      background-color: #E2EBFA;\n",
              "      box-shadow: 0px 1px 2px rgba(60, 64, 67, 0.3), 0px 1px 3px 1px rgba(60, 64, 67, 0.15);\n",
              "      fill: #174EA6;\n",
              "    }\n",
              "\n",
              "    [theme=dark] .colab-df-convert {\n",
              "      background-color: #3B4455;\n",
              "      fill: #D2E3FC;\n",
              "    }\n",
              "\n",
              "    [theme=dark] .colab-df-convert:hover {\n",
              "      background-color: #434B5C;\n",
              "      box-shadow: 0px 1px 3px 1px rgba(0, 0, 0, 0.15);\n",
              "      filter: drop-shadow(0px 1px 2px rgba(0, 0, 0, 0.3));\n",
              "      fill: #FFFFFF;\n",
              "    }\n",
              "  </style>\n",
              "\n",
              "      <script>\n",
              "        const buttonEl =\n",
              "          document.querySelector('#df-17d6c5f2-3327-4e08-a4e6-6803557b31d5 button.colab-df-convert');\n",
              "        buttonEl.style.display =\n",
              "          google.colab.kernel.accessAllowed ? 'block' : 'none';\n",
              "\n",
              "        async function convertToInteractive(key) {\n",
              "          const element = document.querySelector('#df-17d6c5f2-3327-4e08-a4e6-6803557b31d5');\n",
              "          const dataTable =\n",
              "            await google.colab.kernel.invokeFunction('convertToInteractive',\n",
              "                                                     [key], {});\n",
              "          if (!dataTable) return;\n",
              "\n",
              "          const docLinkHtml = 'Like what you see? Visit the ' +\n",
              "            '<a target=\"_blank\" href=https://colab.research.google.com/notebooks/data_table.ipynb>data table notebook</a>'\n",
              "            + ' to learn more about interactive tables.';\n",
              "          element.innerHTML = '';\n",
              "          dataTable['output_type'] = 'display_data';\n",
              "          await google.colab.output.renderOutput(dataTable, element);\n",
              "          const docLink = document.createElement('div');\n",
              "          docLink.innerHTML = docLinkHtml;\n",
              "          element.appendChild(docLink);\n",
              "        }\n",
              "      </script>\n",
              "    </div>\n",
              "  </div>\n",
              "  "
            ]
          },
          "metadata": {},
          "execution_count": 8
        }
      ]
    },
    {
      "cell_type": "code",
      "source": [
        "import matplotlib.pyplot as plt\n",
        "\n",
        "\n",
        "CreditScore_churn_no = df[df.Exited==0].CreditScore\n",
        "CreditScore_churn_yes = df[df.Exited==1].CreditScore\n",
        "plt.xlabel(\"CreditScore\")\n",
        "plt.ylabel(\"Number Of Customers\")\n",
        "plt.title(\"bank Churn Prediction Visualiztion\")\n",
        "plt.hist([CreditScore_churn_yes, CreditScore_churn_no], rwidth=0.95, color=['green','red'],label=['Exited=Yes','Exited=No'])\n",
        "plt.legend()"
      ],
      "metadata": {
        "colab": {
          "base_uri": "https://localhost:8080/",
          "height": 402
        },
        "id": "V0BsGxtlDjuD",
        "outputId": "5f4787dc-f678-47d6-9ec3-fa0a4d087d99"
      },
      "execution_count": null,
      "outputs": [
        {
          "output_type": "stream",
          "name": "stderr",
          "text": [
            "/usr/local/lib/python3.8/dist-packages/numpy/core/fromnumeric.py:3208: VisibleDeprecationWarning: Creating an ndarray from ragged nested sequences (which is a list-or-tuple of lists-or-tuples-or ndarrays with different lengths or shapes) is deprecated. If you meant to do this, you must specify 'dtype=object' when creating the ndarray.\n",
            "  return asarray(a).size\n",
            "/usr/local/lib/python3.8/dist-packages/matplotlib/cbook/__init__.py:1376: VisibleDeprecationWarning: Creating an ndarray from ragged nested sequences (which is a list-or-tuple of lists-or-tuples-or ndarrays with different lengths or shapes) is deprecated. If you meant to do this, you must specify 'dtype=object' when creating the ndarray.\n",
            "  X = np.atleast_1d(X.T if isinstance(X, np.ndarray) else np.asarray(X))\n"
          ]
        },
        {
          "output_type": "execute_result",
          "data": {
            "text/plain": [
              "<matplotlib.legend.Legend at 0x7fc695338af0>"
            ]
          },
          "metadata": {},
          "execution_count": 9
        },
        {
          "output_type": "display_data",
          "data": {
            "text/plain": [
              "<Figure size 432x288 with 1 Axes>"
            ],
            "image/png": "[encoded data removed]"
          },
          "metadata": {
            "needs_background": "light"
          }
        }
      ]
    },
    {
      "cell_type": "code",
      "source": [
        "df.describe()"
      ],
      "metadata": {
        "colab": {
          "base_uri": "https://localhost:8080/",
          "height": 364
        },
        "id": "CEAIAVLtG6Ch",
        "outputId": "cbae06bc-9e0e-4fcb-924b-5a5b3e130034"
      },
      "execution_count": null,
      "outputs": [
        {
          "output_type": "execute_result",
          "data": {
            "text/plain": [
              "        CreditScore           Age        Tenure        Balance  NumOfProducts  \\\n",
              "count  10000.000000  10000.000000  10000.000000   10000.000000   10000.000000   \n",
              "mean     650.528800     38.921800      5.012800   76485.889288       1.530200   \n",
              "std       96.653299     10.487806      2.892174   62397.405202       0.581654   \n",
              "min      350.000000     18.000000      0.000000       0.000000       1.000000   \n",
              "25%      584.000000     32.000000      3.000000       0.000000       1.000000   \n",
              "50%      652.000000     37.000000      5.000000   97198.540000       1.000000   \n",
              "75%      718.000000     44.000000      7.000000  127644.240000       2.000000   \n",
              "max      850.000000     92.000000     10.000000  250898.090000       4.000000   \n",
              "\n",
              "         HasCrCard  IsActiveMember  EstimatedSalary        Exited  \\\n",
              "count  10000.00000    10000.000000     10000.000000  10000.000000   \n",
              "mean       0.70550        0.515100    100090.239881      0.203700   \n",
              "std        0.45584        0.499797     57510.492818      0.402769   \n",
              "min        0.00000        0.000000        11.580000      0.000000   \n",
              "25%        0.00000        0.000000     51002.110000      0.000000   \n",
              "50%        1.00000        1.000000    100193.915000      0.000000   \n",
              "75%        1.00000        1.000000    149388.247500      0.000000   \n",
              "max        1.00000        1.000000    199992.480000      1.000000   \n",
              "\n",
              "       Gender_Female   Gender_Male  Geography_France  Geography_Germany  \\\n",
              "count   10000.000000  10000.000000      10000.000000       10000.000000   \n",
              "mean        0.454300      0.545700          0.501400           0.250900   \n",
              "std         0.497932      0.497932          0.500023           0.433553   \n",
              "min         0.000000      0.000000          0.000000           0.000000   \n",
              "25%         0.000000      0.000000          0.000000           0.000000   \n",
              "50%         0.000000      1.000000          1.000000           0.000000   \n",
              "75%         1.000000      1.000000          1.000000           1.000000   \n",
              "max         1.000000      1.000000          1.000000           1.000000   \n",
              "\n",
              "       Geography_Spain  \n",
              "count     10000.000000  \n",
              "mean          0.247700  \n",
              "std           0.431698  \n",
              "min           0.000000  \n",
              "25%           0.000000  \n",
              "50%           0.000000  \n",
              "75%           0.000000  \n",
              "max           1.000000  "
            ],
            "text/html": [
              "\n",
              "  <div id=\"df-e428f05a-d2e6-4ae0-bbaf-bdd5f3baeefe\">\n",
              "    <div class=\"colab-df-container\">\n",
              "      <div>\n",
              "<style scoped>\n",
              "    .dataframe tbody tr th:only-of-type {\n",
              "        vertical-align: middle;\n",
              "    }\n",
              "\n",
              "    .dataframe tbody tr th {\n",
              "        vertical-align: top;\n",
              "    }\n",
              "\n",
              "    .dataframe thead th {\n",
              "        text-align: right;\n",
              "    }\n",
              "</style>\n",
              "<table border=\"1\" class=\"dataframe\">\n",
              "  <thead>\n",
              "    <tr style=\"text-align: right;\">\n",
              "      <th></th>\n",
              "      <th>CreditScore</th>\n",
              "      <th>Age</th>\n",
              "      <th>Tenure</th>\n",
              "      <th>Balance</th>\n",
              "      <th>NumOfProducts</th>\n",
              "      <th>HasCrCard</th>\n",
              "      <th>IsActiveMember</th>\n",
              "      <th>EstimatedSalary</th>\n",
              "      <th>Exited</th>\n",
              "      <th>Gender_Female</th>\n",
              "      <th>Gender_Male</th>\n",
              "      <th>Geography_France</th>\n",
              "      <th>Geography_Germany</th>\n",
              "      <th>Geography_Spain</th>\n",
              "    </tr>\n",
              "  </thead>\n",
              "  <tbody>\n",
              "    <tr>\n",
              "      <th>count</th>\n",
              "      <td>10000.000000</td>\n",
              "      <td>10000.000000</td>\n",
              "      <td>10000.000000</td>\n",
              "      <td>10000.000000</td>\n",
              "      <td>10000.000000</td>\n",
              "      <td>10000.00000</td>\n",
              "      <td>10000.000000</td>\n",
              "      <td>10000.000000</td>\n",
              "      <td>10000.000000</td>\n",
              "      <td>10000.000000</td>\n",
              "      <td>10000.000000</td>\n",
              "      <td>10000.000000</td>\n",
              "      <td>10000.000000</td>\n",
              "      <td>10000.000000</td>\n",
              "    </tr>\n",
              "    <tr>\n",
              "      <th>mean</th>\n",
              "      <td>650.528800</td>\n",
              "      <td>38.921800</td>\n",
              "      <td>5.012800</td>\n",
              "      <td>76485.889288</td>\n",
              "      <td>1.530200</td>\n",
              "      <td>0.70550</td>\n",
              "      <td>0.515100</td>\n",
              "      <td>100090.239881</td>\n",
              "      <td>0.203700</td>\n",
              "      <td>0.454300</td>\n",
              "      <td>0.545700</td>\n",
              "      <td>0.501400</td>\n",
              "      <td>0.250900</td>\n",
              "      <td>0.247700</td>\n",
              "    </tr>\n",
              "    <tr>\n",
              "      <th>std</th>\n",
              "      <td>96.653299</td>\n",
              "      <td>10.487806</td>\n",
              "      <td>2.892174</td>\n",
              "      <td>62397.405202</td>\n",
              "      <td>0.581654</td>\n",
              "      <td>0.45584</td>\n",
              "      <td>0.499797</td>\n",
              "      <td>57510.492818</td>\n",
              "      <td>0.402769</td>\n",
              "      <td>0.497932</td>\n",
              "      <td>0.497932</td>\n",
              "      <td>0.500023</td>\n",
              "      <td>0.433553</td>\n",
              "      <td>0.431698</td>\n",
              "    </tr>\n",
              "    <tr>\n",
              "      <th>min</th>\n",
              "      <td>350.000000</td>\n",
              "      <td>18.000000</td>\n",
              "      <td>0.000000</td>\n",
              "      <td>0.000000</td>\n",
              "      <td>1.000000</td>\n",
              "      <td>0.00000</td>\n",
              "      <td>0.000000</td>\n",
              "      <td>11.580000</td>\n",
              "      <td>0.000000</td>\n",
              "      <td>0.000000</td>\n",
              "      <td>0.000000</td>\n",
              "      <td>0.000000</td>\n",
              "      <td>0.000000</td>\n",
              "      <td>0.000000</td>\n",
              "    </tr>\n",
              "    <tr>\n",
              "      <th>25%</th>\n",
              "      <td>584.000000</td>\n",
              "      <td>32.000000</td>\n",
              "      <td>3.000000</td>\n",
              "      <td>0.000000</td>\n",
              "      <td>1.000000</td>\n",
              "      <td>0.00000</td>\n",
              "      <td>0.000000</td>\n",
              "      <td>51002.110000</td>\n",
              "      <td>0.000000</td>\n",
              "      <td>0.000000</td>\n",
              "      <td>0.000000</td>\n",
              "      <td>0.000000</td>\n",
              "      <td>0.000000</td>\n",
              "      <td>0.000000</td>\n",
              "    </tr>\n",
              "    <tr>\n",
              "      <th>50%</th>\n",
              "      <td>652.000000</td>\n",
              "      <td>37.000000</td>\n",
              "      <td>5.000000</td>\n",
              "      <td>97198.540000</td>\n",
              "      <td>1.000000</td>\n",
              "      <td>1.00000</td>\n",
              "      <td>1.000000</td>\n",
              "      <td>100193.915000</td>\n",
              "      <td>0.000000</td>\n",
              "      <td>0.000000</td>\n",
              "      <td>1.000000</td>\n",
              "      <td>1.000000</td>\n",
              "      <td>0.000000</td>\n",
              "      <td>0.000000</td>\n",
              "    </tr>\n",
              "    <tr>\n",
              "      <th>75%</th>\n",
              "      <td>718.000000</td>\n",
              "      <td>44.000000</td>\n",
              "      <td>7.000000</td>\n",
              "      <td>127644.240000</td>\n",
              "      <td>2.000000</td>\n",
              "      <td>1.00000</td>\n",
              "      <td>1.000000</td>\n",
              "      <td>149388.247500</td>\n",
              "      <td>0.000000</td>\n",
              "      <td>1.000000</td>\n",
              "      <td>1.000000</td>\n",
              "      <td>1.000000</td>\n",
              "      <td>1.000000</td>\n",
              "      <td>0.000000</td>\n",
              "    </tr>\n",
              "    <tr>\n",
              "      <th>max</th>\n",
              "      <td>850.000000</td>\n",
              "      <td>92.000000</td>\n",
              "      <td>10.000000</td>\n",
              "      <td>250898.090000</td>\n",
              "      <td>4.000000</td>\n",
              "      <td>1.00000</td>\n",
              "      <td>1.000000</td>\n",
              "      <td>199992.480000</td>\n",
              "      <td>1.000000</td>\n",
              "      <td>1.000000</td>\n",
              "      <td>1.000000</td>\n",
              "      <td>1.000000</td>\n",
              "      <td>1.000000</td>\n",
              "      <td>1.000000</td>\n",
              "    </tr>\n",
              "  </tbody>\n",
              "</table>\n",
              "</div>\n",
              "      <button class=\"colab-df-convert\" onclick=\"convertToInteractive('df-e428f05a-d2e6-4ae0-bbaf-bdd5f3baeefe')\"\n",
              "              title=\"Convert this dataframe to an interactive table.\"\n",
              "              style=\"display:none;\">\n",
              "        \n",
              "  <svg xmlns=\"http://www.w3.org/2000/svg\" height=\"24px\"viewBox=\"0 0 24 24\"\n",
              "       width=\"24px\">\n",
              "    <path d=\"M0 0h24v24H0V0z\" fill=\"none\"/>\n",
              "    <path d=\"M18.56 5.44l.94 2.06.94-2.06 2.06-.94-2.06-.94-.94-2.06-.94 2.06-2.06.94zm-11 1L8.5 8.5l.94-2.06 2.06-.94-2.06-.94L8.5 2.5l-.94 2.06-2.06.94zm10 10l.94 2.06.94-2.06 2.06-.94-2.06-.94-.94-2.06-.94 2.06-2.06.94z\"/><path d=\"M17.41 7.96l-1.37-1.37c-.4-.4-.92-.59-1.43-.59-.52 0-1.04.2-1.43.59L10.3 9.45l-7.72 7.72c-.78.78-.78 2.05 0 2.83L4 21.41c.39.39.9.59 1.41.59.51 0 1.02-.2 1.41-.59l7.78-7.78 2.81-2.81c.8-.78.8-2.07 0-2.86zM5.41 20L4 18.59l7.72-7.72 1.47 1.35L5.41 20z\"/>\n",
              "  </svg>\n",
              "      </button>\n",
              "      \n",
              "  <style>\n",
              "    .colab-df-container {\n",
              "      display:flex;\n",
              "      flex-wrap:wrap;\n",
              "      gap: 12px;\n",
              "    }\n",
              "\n",
              "    .colab-df-convert {\n",
              "      background-color: #E8F0FE;\n",
              "      border: none;\n",
              "      border-radius: 50%;\n",
              "      cursor: pointer;\n",
              "      display: none;\n",
              "      fill: #1967D2;\n",
              "      height: 32px;\n",
              "      padding: 0 0 0 0;\n",
              "      width: 32px;\n",
              "    }\n",
              "\n",
              "    .colab-df-convert:hover {\n",
              "      background-color: #E2EBFA;\n",
              "      box-shadow: 0px 1px 2px rgba(60, 64, 67, 0.3), 0px 1px 3px 1px rgba(60, 64, 67, 0.15);\n",
              "      fill: #174EA6;\n",
              "    }\n",
              "\n",
              "    [theme=dark] .colab-df-convert {\n",
              "      background-color: #3B4455;\n",
              "      fill: #D2E3FC;\n",
              "    }\n",
              "\n",
              "    [theme=dark] .colab-df-convert:hover {\n",
              "      background-color: #434B5C;\n",
              "      box-shadow: 0px 1px 3px 1px rgba(0, 0, 0, 0.15);\n",
              "      filter: drop-shadow(0px 1px 2px rgba(0, 0, 0, 0.3));\n",
              "      fill: #FFFFFF;\n",
              "    }\n",
              "  </style>\n",
              "\n",
              "      <script>\n",
              "        const buttonEl =\n",
              "          document.querySelector('#df-e428f05a-d2e6-4ae0-bbaf-bdd5f3baeefe button.colab-df-convert');\n",
              "        buttonEl.style.display =\n",
              "          google.colab.kernel.accessAllowed ? 'block' : 'none';\n",
              "\n",
              "        async function convertToInteractive(key) {\n",
              "          const element = document.querySelector('#df-e428f05a-d2e6-4ae0-bbaf-bdd5f3baeefe');\n",
              "          const dataTable =\n",
              "            await google.colab.kernel.invokeFunction('convertToInteractive',\n",
              "                                                     [key], {});\n",
              "          if (!dataTable) return;\n",
              "\n",
              "          const docLinkHtml = 'Like what you see? Visit the ' +\n",
              "            '<a target=\"_blank\" href=https://colab.research.google.com/notebooks/data_table.ipynb>data table notebook</a>'\n",
              "            + ' to learn more about interactive tables.';\n",
              "          element.innerHTML = '';\n",
              "          dataTable['output_type'] = 'display_data';\n",
              "          await google.colab.output.renderOutput(dataTable, element);\n",
              "          const docLink = document.createElement('div');\n",
              "          docLink.innerHTML = docLinkHtml;\n",
              "          element.appendChild(docLink);\n",
              "        }\n",
              "      </script>\n",
              "    </div>\n",
              "  </div>\n",
              "  "
            ]
          },
          "metadata": {},
          "execution_count": 10
        }
      ]
    },
    {
      "cell_type": "markdown",
      "source": [
        "lets scale the datas"
      ],
      "metadata": {
        "id": "mN5FVZlqnE_Q"
      }
    },
    {
      "cell_type": "code",
      "source": [
        "from sklearn.preprocessing import MinMaxScaler\n",
        "\n",
        "scaler = MinMaxScaler()"
      ],
      "metadata": {
        "id": "g9EV5ayTnIKv"
      },
      "execution_count": null,
      "outputs": []
    },
    {
      "cell_type": "code",
      "source": [
        "df.Exited.value_counts()"
      ],
      "metadata": {
        "colab": {
          "base_uri": "https://localhost:8080/"
        },
        "id": "RejnpBBsHagk",
        "outputId": "cd1ccadc-b61b-40a3-a5fd-a8fb04438fd0"
      },
      "execution_count": null,
      "outputs": [
        {
          "output_type": "execute_result",
          "data": {
            "text/plain": [
              "0    7963\n",
              "1    2037\n",
              "Name: Exited, dtype: int64"
            ]
          },
          "metadata": {},
          "execution_count": 12
        }
      ]
    },
    {
      "cell_type": "markdown",
      "source": [
        "data is skewed but we donot care about that right now\n",
        "\n",
        "25% of balances are zero, so lets do some visualisation"
      ],
      "metadata": {
        "id": "BCDOSs6EHmK7"
      }
    },
    {
      "cell_type": "code",
      "source": [
        "Balance_churn_no = df[df.Exited==0].Balance\t\n",
        "Balance_churn_yes = df[df.Exited==1].Balance\t\n",
        "plt.xlabel(\"Balance\")\n",
        "plt.ylabel(\"Number Of Customers\")\n",
        "plt.title(\"bank Churn Prediction Visualiztion\")\n",
        "plt.hist([Balance_churn_yes, Balance_churn_no], rwidth=0.95, color=['green','red'],label=['Exited=Yes','Exited=No'])\n",
        "plt.legend()"
      ],
      "metadata": {
        "colab": {
          "base_uri": "https://localhost:8080/",
          "height": 402
        },
        "id": "-re249f0FfCk",
        "outputId": "69a4e75d-4a67-48c5-c007-88edbf08a311"
      },
      "execution_count": null,
      "outputs": [
        {
          "output_type": "stream",
          "name": "stderr",
          "text": [
            "/usr/local/lib/python3.8/dist-packages/numpy/core/fromnumeric.py:3208: VisibleDeprecationWarning: Creating an ndarray from ragged nested sequences (which is a list-or-tuple of lists-or-tuples-or ndarrays with different lengths or shapes) is deprecated. If you meant to do this, you must specify 'dtype=object' when creating the ndarray.\n",
            "  return asarray(a).size\n",
            "/usr/local/lib/python3.8/dist-packages/matplotlib/cbook/__init__.py:1376: VisibleDeprecationWarning: Creating an ndarray from ragged nested sequences (which is a list-or-tuple of lists-or-tuples-or ndarrays with different lengths or shapes) is deprecated. If you meant to do this, you must specify 'dtype=object' when creating the ndarray.\n",
            "  X = np.atleast_1d(X.T if isinstance(X, np.ndarray) else np.asarray(X))\n"
          ]
        },
        {
          "output_type": "execute_result",
          "data": {
            "text/plain": [
              "<matplotlib.legend.Legend at 0x7fc68d183520>"
            ]
          },
          "metadata": {},
          "execution_count": 13
        },
        {
          "output_type": "display_data",
          "data": {
            "text/plain": [
              "<Figure size 432x288 with 1 Axes>"
            ],
            "image/png": "[encoded data removed]"
          },
          "metadata": {
            "needs_background": "light"
          }
        }
      ]
    },
    {
      "cell_type": "code",
      "source": [
        "x = df.drop(columns= ['Exited'])\n",
        "y = df['Exited']"
      ],
      "metadata": {
        "id": "s8fJQULVJPKd"
      },
      "execution_count": null,
      "outputs": []
    },
    {
      "cell_type": "markdown",
      "source": [
        "lets build a **ANN** model"
      ],
      "metadata": {
        "id": "IXJTUTwCKaHy"
      }
    },
    {
      "cell_type": "code",
      "source": [
        "import tensorflow as tf\n",
        "from tensorflow import keras\n",
        "from sklearn.model_selection import train_test_split\n",
        "import numpy as np\n",
        "from sklearn.metrics import confusion_matrix , classification_report\n",
        "import seaborn as sn"
      ],
      "metadata": {
        "id": "YM1i0eUCKaHz"
      },
      "execution_count": null,
      "outputs": []
    },
    {
      "cell_type": "code",
      "source": [
        "def ANN(x,y):\n",
        "  model = keras.Sequential([\n",
        "      keras.layers.Input(shape= (13,)),\n",
        "      keras.layers.Dense(10, activation='relu'),\n",
        "      keras.layers.Dense(1, activation= 'sigmoid'),])\n",
        "  x= scaler.fit_transform(x)\n",
        "  x_train,x_test,y_train, y_test = train_test_split(x, y, test_size= 0.3, stratify=y, random_state=42)\n",
        "\n",
        "  model.compile(optimizer='adam',\n",
        "                loss='binary_crossentropy',\n",
        "                metrics=['accuracy'])\n",
        "  \n",
        "  model.fit(x_train, y_train, epochs=20)\n",
        "\n",
        "  print(model.evaluate(x_test, y_test))\n",
        "\n",
        "  y_preds = model.predict(x_test)\n",
        "  y_preds = np.round(y_preds)\n",
        "\n",
        "  print(\"Classification Report: \\n\", classification_report(y_test, y_preds))\n",
        "\n",
        "  cm = tf.math.confusion_matrix(labels=y_test,predictions=y_preds)\n",
        "  plt.figure(figsize = (10,7))\n",
        "  sn.heatmap(cm, annot=True, fmt='d')\n",
        "  plt.xlabel('Predicted')\n",
        "  plt.ylabel('Truth')\n",
        "  return y_preds"
      ],
      "metadata": {
        "id": "BkoVjOpag_uQ"
      },
      "execution_count": null,
      "outputs": []
    },
    {
      "cell_type": "code",
      "source": [
        "ANN(x,y)"
      ],
      "metadata": {
        "colab": {
          "base_uri": "https://localhost:8080/",
          "height": 1000
        },
        "id": "Lk7AYOsfluYp",
        "outputId": "fd00d62e-c1eb-41b1-ea95-da64777855bc"
      },
      "execution_count": null,
      "outputs": [
        {
          "output_type": "stream",
          "name": "stdout",
          "text": [
            "Epoch 1/20\n",
            "219/219 [==============================] - 3s 3ms/step - loss: 0.5858 - accuracy: 0.7051\n",
            "Epoch 2/20\n",
            "219/219 [==============================] - 1s 3ms/step - loss: 0.4885 - accuracy: 0.7963\n",
            "Epoch 3/20\n",
            "219/219 [==============================] - 1s 3ms/step - loss: 0.4702 - accuracy: 0.7967\n",
            "Epoch 4/20\n",
            "219/219 [==============================] - 1s 3ms/step - loss: 0.4606 - accuracy: 0.7997\n",
            "Epoch 5/20\n",
            "219/219 [==============================] - 1s 3ms/step - loss: 0.4537 - accuracy: 0.8016\n",
            "Epoch 6/20\n",
            "219/219 [==============================] - 1s 3ms/step - loss: 0.4482 - accuracy: 0.8041\n",
            "Epoch 7/20\n",
            "219/219 [==============================] - 1s 3ms/step - loss: 0.4436 - accuracy: 0.8069\n",
            "Epoch 8/20\n",
            "219/219 [==============================] - 1s 3ms/step - loss: 0.4393 - accuracy: 0.8089\n",
            "Epoch 9/20\n",
            "219/219 [==============================] - 1s 3ms/step - loss: 0.4362 - accuracy: 0.8129\n",
            "Epoch 10/20\n",
            "219/219 [==============================] - 1s 3ms/step - loss: 0.4324 - accuracy: 0.8111\n",
            "Epoch 11/20\n",
            "219/219 [==============================] - 1s 3ms/step - loss: 0.4290 - accuracy: 0.8134\n",
            "Epoch 12/20\n",
            "219/219 [==============================] - 1s 3ms/step - loss: 0.4260 - accuracy: 0.8130\n",
            "Epoch 13/20\n",
            "219/219 [==============================] - 1s 3ms/step - loss: 0.4225 - accuracy: 0.8144\n",
            "Epoch 14/20\n",
            "219/219 [==============================] - 1s 3ms/step - loss: 0.4180 - accuracy: 0.8187\n",
            "Epoch 15/20\n",
            "219/219 [==============================] - 1s 3ms/step - loss: 0.4142 - accuracy: 0.8216\n",
            "Epoch 16/20\n",
            "219/219 [==============================] - 1s 3ms/step - loss: 0.4073 - accuracy: 0.8251\n",
            "Epoch 17/20\n",
            "219/219 [==============================] - 1s 3ms/step - loss: 0.4013 - accuracy: 0.8294\n",
            "Epoch 18/20\n",
            "219/219 [==============================] - 1s 3ms/step - loss: 0.3965 - accuracy: 0.8303\n",
            "Epoch 19/20\n",
            "219/219 [==============================] - 1s 3ms/step - loss: 0.3920 - accuracy: 0.8337\n",
            "Epoch 20/20\n",
            "219/219 [==============================] - 1s 3ms/step - loss: 0.3881 - accuracy: 0.8360\n",
            "94/94 [==============================] - 0s 2ms/step - loss: 0.3696 - accuracy: 0.8400\n",
            "[0.36957064270973206, 0.8399999737739563]\n",
            "94/94 [==============================] - 0s 2ms/step\n",
            "Classification Report: \n",
            "               precision    recall  f1-score   support\n",
            "\n",
            "           0       0.84      0.98      0.91      2389\n",
            "           1       0.79      0.29      0.43       611\n",
            "\n",
            "    accuracy                           0.84      3000\n",
            "   macro avg       0.82      0.64      0.67      3000\n",
            "weighted avg       0.83      0.84      0.81      3000\n",
            "\n"
          ]
        },
        {
          "output_type": "execute_result",
          "data": {
            "text/plain": [
              "array([[0.],\n",
              "       [0.],\n",
              "       [0.],\n",
              "       ...,\n",
              "       [1.],\n",
              "       [0.],\n",
              "       [0.]], dtype=float32)"
            ]
          },
          "metadata": {},
          "execution_count": 17
        },
        {
          "output_type": "display_data",
          "data": {
            "text/plain": [
              "<Figure size 720x504 with 2 Axes>"
            ],
            "image/png": "[encoded data removed]"
          },
          "metadata": {
            "needs_background": "light"
          }
        }
      ]
    },
    {
      "cell_type": "markdown",
      "source": [
        "for 1 recall is quite low, so this is not a good model. so let try to handle the imbalanced dataset"
      ],
      "metadata": {
        "id": "XyEe3ScNLAek"
      }
    },
    {
      "cell_type": "markdown",
      "source": [
        "1.   undersampling the higher class\n",
        "2.   oversampling the lower class\n",
        "3.   SMOTE\n",
        "4.   Ensemble"
      ],
      "metadata": {
        "id": "LsB8Gx4LMGuO"
      }
    },
    {
      "cell_type": "code",
      "source": [
        "df_1 = df[df['Exited']== 1]\n",
        "df_0 = df[df['Exited']== 0]"
      ],
      "metadata": {
        "id": "lfYW3IJ3Lm4j"
      },
      "execution_count": null,
      "outputs": []
    },
    {
      "cell_type": "code",
      "source": [
        "df_1.shape, df_0.shape"
      ],
      "metadata": {
        "id": "AHMDxq_7NIPe",
        "colab": {
          "base_uri": "https://localhost:8080/"
        },
        "outputId": "feeca17e-4ecc-42e0-8d89-6954be8bb0fb"
      },
      "execution_count": null,
      "outputs": [
        {
          "output_type": "execute_result",
          "data": {
            "text/plain": [
              "((2037, 14), (7963, 14))"
            ]
          },
          "metadata": {},
          "execution_count": 19
        }
      ]
    },
    {
      "cell_type": "code",
      "source": [
        "df_0_under = df_0.sample(2037, random_state= 42)"
      ],
      "metadata": {
        "id": "CYmRQLnENLlX"
      },
      "execution_count": null,
      "outputs": []
    },
    {
      "cell_type": "code",
      "source": [
        "df_1_over = df_1.sample(7963, random_state= 42,replace=True)"
      ],
      "metadata": {
        "id": "SISpGJ-INu88"
      },
      "execution_count": null,
      "outputs": []
    },
    {
      "cell_type": "code",
      "source": [
        "df_under = pd.concat([df_0_under, df_1], axis= 0)"
      ],
      "metadata": {
        "id": "nhUgGeRwOAbg"
      },
      "execution_count": null,
      "outputs": []
    },
    {
      "cell_type": "code",
      "source": [
        "df_over =  pd.concat([df_0, df_1_over], axis= 0)"
      ],
      "metadata": {
        "id": "yYkclUMWPToz"
      },
      "execution_count": null,
      "outputs": []
    },
    {
      "cell_type": "code",
      "source": [
        "x_over = df_over.drop(columns= ['Exited'])\n",
        "y_over = df_over['Exited']"
      ],
      "metadata": {
        "id": "UCs7sP7zQL3d"
      },
      "execution_count": null,
      "outputs": []
    },
    {
      "cell_type": "code",
      "source": [
        "x_under = df_under.drop(columns= ['Exited'])\n",
        "y_under = df_under['Exited']\n"
      ],
      "metadata": {
        "id": "Bo6yWzsoc-lT"
      },
      "execution_count": null,
      "outputs": []
    },
    {
      "cell_type": "markdown",
      "source": [
        "lets build a **ANN** model"
      ],
      "metadata": {
        "id": "xUy70R-xQL3e"
      }
    },
    {
      "cell_type": "code",
      "source": [
        "ANN(x_over, y_over)"
      ],
      "metadata": {
        "id": "oAyanDHSmLrK",
        "colab": {
          "base_uri": "https://localhost:8080/",
          "height": 1000
        },
        "outputId": "1e63cfa2-dbc7-48cd-da9d-a2798dca9f10"
      },
      "execution_count": null,
      "outputs": [
        {
          "output_type": "stream",
          "name": "stdout",
          "text": [
            "Epoch 1/20\n",
            "349/349 [==============================] - 1s 3ms/step - loss: 0.6750 - accuracy: 0.5811\n",
            "Epoch 2/20\n",
            "349/349 [==============================] - 1s 3ms/step - loss: 0.6264 - accuracy: 0.6427\n",
            "Epoch 3/20\n",
            "349/349 [==============================] - 1s 3ms/step - loss: 0.6051 - accuracy: 0.6754\n",
            "Epoch 4/20\n",
            "349/349 [==============================] - 1s 3ms/step - loss: 0.5895 - accuracy: 0.6880\n",
            "Epoch 5/20\n",
            "349/349 [==============================] - 1s 3ms/step - loss: 0.5750 - accuracy: 0.7046\n",
            "Epoch 6/20\n",
            "349/349 [==============================] - 1s 3ms/step - loss: 0.5634 - accuracy: 0.7115\n",
            "Epoch 7/20\n",
            "349/349 [==============================] - 1s 3ms/step - loss: 0.5545 - accuracy: 0.7199\n",
            "Epoch 8/20\n",
            "349/349 [==============================] - 1s 3ms/step - loss: 0.5462 - accuracy: 0.7254\n",
            "Epoch 9/20\n",
            "349/349 [==============================] - 1s 3ms/step - loss: 0.5394 - accuracy: 0.7282\n",
            "Epoch 10/20\n",
            "349/349 [==============================] - 1s 3ms/step - loss: 0.5335 - accuracy: 0.7326\n",
            "Epoch 11/20\n",
            "349/349 [==============================] - 1s 3ms/step - loss: 0.5282 - accuracy: 0.7374\n",
            "Epoch 12/20\n",
            "349/349 [==============================] - 1s 3ms/step - loss: 0.5223 - accuracy: 0.7402\n",
            "Epoch 13/20\n",
            "349/349 [==============================] - 1s 3ms/step - loss: 0.5176 - accuracy: 0.7428\n",
            "Epoch 14/20\n",
            "349/349 [==============================] - 1s 3ms/step - loss: 0.5127 - accuracy: 0.7458\n",
            "Epoch 15/20\n",
            "349/349 [==============================] - 1s 3ms/step - loss: 0.5082 - accuracy: 0.7472\n",
            "Epoch 16/20\n",
            "349/349 [==============================] - 1s 3ms/step - loss: 0.5042 - accuracy: 0.7507\n",
            "Epoch 17/20\n",
            "349/349 [==============================] - 1s 3ms/step - loss: 0.5000 - accuracy: 0.7516\n",
            "Epoch 18/20\n",
            "349/349 [==============================] - 1s 3ms/step - loss: 0.4971 - accuracy: 0.7542\n",
            "Epoch 19/20\n",
            "349/349 [==============================] - 1s 3ms/step - loss: 0.4930 - accuracy: 0.7583\n",
            "Epoch 20/20\n",
            "349/349 [==============================] - 1s 3ms/step - loss: 0.4907 - accuracy: 0.7600\n",
            "150/150 [==============================] - 0s 2ms/step - loss: 0.4845 - accuracy: 0.7673\n",
            "[0.4844922125339508, 0.7672666311264038]\n",
            "150/150 [==============================] - 0s 1ms/step\n",
            "Classification Report: \n",
            "               precision    recall  f1-score   support\n",
            "\n",
            "           0       0.75      0.79      0.77      2389\n",
            "           1       0.78      0.74      0.76      2389\n",
            "\n",
            "    accuracy                           0.77      4778\n",
            "   macro avg       0.77      0.77      0.77      4778\n",
            "weighted avg       0.77      0.77      0.77      4778\n",
            "\n"
          ]
        },
        {
          "output_type": "execute_result",
          "data": {
            "text/plain": [
              "array([[1.],\n",
              "       [0.],\n",
              "       [1.],\n",
              "       ...,\n",
              "       [0.],\n",
              "       [1.],\n",
              "       [0.]], dtype=float32)"
            ]
          },
          "metadata": {},
          "execution_count": 26
        },
        {
          "output_type": "display_data",
          "data": {
            "text/plain": [
              "<Figure size 720x504 with 2 Axes>"
            ],
            "image/png": "[encoded data removed]"
          },
          "metadata": {
            "needs_background": "light"
          }
        }
      ]
    },
    {
      "cell_type": "code",
      "source": [
        "ANN(x_under, y_under)"
      ],
      "metadata": {
        "id": "My_6wGB8mSna",
        "colab": {
          "base_uri": "https://localhost:8080/",
          "height": 1000
        },
        "outputId": "a1af3417-3512-4d71-b809-4bca0aa4f08c"
      },
      "execution_count": null,
      "outputs": [
        {
          "output_type": "stream",
          "name": "stdout",
          "text": [
            "Epoch 1/20\n",
            "90/90 [==============================] - 1s 3ms/step - loss: 0.7287 - accuracy: 0.4304\n",
            "Epoch 2/20\n",
            "90/90 [==============================] - 0s 3ms/step - loss: 0.6948 - accuracy: 0.4946\n",
            "Epoch 3/20\n",
            "90/90 [==============================] - 0s 3ms/step - loss: 0.6797 - accuracy: 0.5668\n",
            "Epoch 4/20\n",
            "90/90 [==============================] - 0s 3ms/step - loss: 0.6651 - accuracy: 0.6075\n",
            "Epoch 5/20\n",
            "90/90 [==============================] - 0s 3ms/step - loss: 0.6512 - accuracy: 0.6289\n",
            "Epoch 6/20\n",
            "90/90 [==============================] - 0s 3ms/step - loss: 0.6378 - accuracy: 0.6461\n",
            "Epoch 7/20\n",
            "90/90 [==============================] - 0s 3ms/step - loss: 0.6269 - accuracy: 0.6591\n",
            "Epoch 8/20\n",
            "90/90 [==============================] - 0s 3ms/step - loss: 0.6183 - accuracy: 0.6692\n",
            "Epoch 9/20\n",
            "90/90 [==============================] - 0s 3ms/step - loss: 0.6113 - accuracy: 0.6805\n",
            "Epoch 10/20\n",
            "90/90 [==============================] - 0s 4ms/step - loss: 0.6058 - accuracy: 0.6822\n",
            "Epoch 11/20\n",
            "90/90 [==============================] - 0s 4ms/step - loss: 0.6019 - accuracy: 0.6833\n",
            "Epoch 12/20\n",
            "90/90 [==============================] - 0s 4ms/step - loss: 0.5973 - accuracy: 0.6854\n",
            "Epoch 13/20\n",
            "90/90 [==============================] - 0s 4ms/step - loss: 0.5942 - accuracy: 0.6892\n",
            "Epoch 14/20\n",
            "90/90 [==============================] - 0s 4ms/step - loss: 0.5906 - accuracy: 0.6899\n",
            "Epoch 15/20\n",
            "90/90 [==============================] - 0s 4ms/step - loss: 0.5878 - accuracy: 0.6906\n",
            "Epoch 16/20\n",
            "90/90 [==============================] - 0s 4ms/step - loss: 0.5852 - accuracy: 0.6941\n",
            "Epoch 17/20\n",
            "90/90 [==============================] - 0s 3ms/step - loss: 0.5825 - accuracy: 0.6931\n",
            "Epoch 18/20\n",
            "90/90 [==============================] - 0s 3ms/step - loss: 0.5800 - accuracy: 0.6945\n",
            "Epoch 19/20\n",
            "90/90 [==============================] - 0s 3ms/step - loss: 0.5776 - accuracy: 0.6959\n",
            "Epoch 20/20\n",
            "90/90 [==============================] - 0s 3ms/step - loss: 0.5759 - accuracy: 0.6924\n",
            "39/39 [==============================] - 0s 2ms/step - loss: 0.5938 - accuracy: 0.6926\n",
            "[0.5937829613685608, 0.6925593018531799]\n",
            "39/39 [==============================] - 0s 1ms/step\n",
            "Classification Report: \n",
            "               precision    recall  f1-score   support\n",
            "\n",
            "           0       0.69      0.69      0.69       612\n",
            "           1       0.69      0.69      0.69       611\n",
            "\n",
            "    accuracy                           0.69      1223\n",
            "   macro avg       0.69      0.69      0.69      1223\n",
            "weighted avg       0.69      0.69      0.69      1223\n",
            "\n"
          ]
        },
        {
          "output_type": "execute_result",
          "data": {
            "text/plain": [
              "array([[0.],\n",
              "       [0.],\n",
              "       [0.],\n",
              "       ...,\n",
              "       [0.],\n",
              "       [1.],\n",
              "       [1.]], dtype=float32)"
            ]
          },
          "metadata": {},
          "execution_count": 27
        },
        {
          "output_type": "display_data",
          "data": {
            "text/plain": [
              "<Figure size 720x504 with 2 Axes>"
            ],
            "image/png": "[encoded data removed]"
          },
          "metadata": {
            "needs_background": "light"
          }
        }
      ]
    },
    {
      "cell_type": "markdown",
      "source": [
        "\n",
        "over and under sampling gives us some good recall and precision \n",
        "\n",
        "lets try SMOTE"
      ],
      "metadata": {
        "id": "kTxxbF-RcGWY"
      }
    },
    {
      "cell_type": "code",
      "source": [
        "x = df.drop(columns= ['Exited'])\n",
        "y = df['Exited']"
      ],
      "metadata": {
        "id": "elnHzV5wQXyJ"
      },
      "execution_count": null,
      "outputs": []
    },
    {
      "cell_type": "code",
      "source": [
        "from imblearn.over_sampling import SMOTE\n",
        "\n",
        "smote = SMOTE(sampling_strategy='minority')\n",
        "x_sm, y_sm = smote.fit_resample(x, y)\n",
        "\n",
        "y_sm.value_counts()"
      ],
      "metadata": {
        "id": "9-EKrW6SfVUS",
        "colab": {
          "base_uri": "https://localhost:8080/"
        },
        "outputId": "3e71c6b0-cada-46cf-9e88-064a40ad7532"
      },
      "execution_count": null,
      "outputs": [
        {
          "output_type": "execute_result",
          "data": {
            "text/plain": [
              "1    7963\n",
              "0    7963\n",
              "Name: Exited, dtype: int64"
            ]
          },
          "metadata": {},
          "execution_count": 29
        }
      ]
    },
    {
      "cell_type": "code",
      "source": [
        "ANN(x_sm, y_sm)"
      ],
      "metadata": {
        "id": "MxUu3MrRgYeG",
        "colab": {
          "base_uri": "https://localhost:8080/",
          "height": 1000
        },
        "outputId": "eca62394-dd90-495c-f9e3-89a2fddc1377"
      },
      "execution_count": null,
      "outputs": [
        {
          "output_type": "stream",
          "name": "stdout",
          "text": [
            "Epoch 1/20\n",
            "349/349 [==============================] - 1s 3ms/step - loss: 0.5894 - accuracy: 0.7170\n",
            "Epoch 2/20\n",
            "349/349 [==============================] - 1s 3ms/step - loss: 0.4686 - accuracy: 0.8036\n",
            "Epoch 3/20\n",
            "349/349 [==============================] - 1s 3ms/step - loss: 0.4172 - accuracy: 0.8159\n",
            "Epoch 4/20\n",
            "349/349 [==============================] - 1s 3ms/step - loss: 0.3929 - accuracy: 0.8253\n",
            "Epoch 5/20\n",
            "349/349 [==============================] - 1s 3ms/step - loss: 0.3798 - accuracy: 0.8280\n",
            "Epoch 6/20\n",
            "349/349 [==============================] - 1s 3ms/step - loss: 0.3686 - accuracy: 0.8333\n",
            "Epoch 7/20\n",
            "349/349 [==============================] - 1s 3ms/step - loss: 0.3592 - accuracy: 0.8377\n",
            "Epoch 8/20\n",
            "349/349 [==============================] - 1s 3ms/step - loss: 0.3512 - accuracy: 0.8407\n",
            "Epoch 9/20\n",
            "349/349 [==============================] - 1s 3ms/step - loss: 0.3451 - accuracy: 0.8435\n",
            "Epoch 10/20\n",
            "349/349 [==============================] - 1s 3ms/step - loss: 0.3383 - accuracy: 0.8487\n",
            "Epoch 11/20\n",
            "349/349 [==============================] - 1s 3ms/step - loss: 0.3323 - accuracy: 0.8511\n",
            "Epoch 12/20\n",
            "349/349 [==============================] - 1s 3ms/step - loss: 0.3279 - accuracy: 0.8532\n",
            "Epoch 13/20\n",
            "349/349 [==============================] - 1s 3ms/step - loss: 0.3229 - accuracy: 0.8545\n",
            "Epoch 14/20\n",
            "349/349 [==============================] - 1s 3ms/step - loss: 0.3190 - accuracy: 0.8593\n",
            "Epoch 15/20\n",
            "349/349 [==============================] - 1s 3ms/step - loss: 0.3161 - accuracy: 0.8602\n",
            "Epoch 16/20\n",
            "349/349 [==============================] - 1s 3ms/step - loss: 0.3126 - accuracy: 0.8607\n",
            "Epoch 17/20\n",
            "349/349 [==============================] - 1s 3ms/step - loss: 0.3104 - accuracy: 0.8614\n",
            "Epoch 18/20\n",
            "349/349 [==============================] - 1s 3ms/step - loss: 0.3084 - accuracy: 0.8618\n",
            "Epoch 19/20\n",
            "349/349 [==============================] - 1s 3ms/step - loss: 0.3060 - accuracy: 0.8632\n",
            "Epoch 20/20\n",
            "349/349 [==============================] - 1s 3ms/step - loss: 0.3047 - accuracy: 0.8631\n",
            "150/150 [==============================] - 0s 2ms/step - loss: 0.2970 - accuracy: 0.8675\n",
            "[0.29703289270401, 0.8675177693367004]\n",
            "150/150 [==============================] - 0s 1ms/step\n",
            "Classification Report: \n",
            "               precision    recall  f1-score   support\n",
            "\n",
            "           0       0.84      0.90      0.87      2389\n",
            "           1       0.90      0.83      0.86      2389\n",
            "\n",
            "    accuracy                           0.87      4778\n",
            "   macro avg       0.87      0.87      0.87      4778\n",
            "weighted avg       0.87      0.87      0.87      4778\n",
            "\n"
          ]
        },
        {
          "output_type": "execute_result",
          "data": {
            "text/plain": [
              "array([[0.],\n",
              "       [1.],\n",
              "       [1.],\n",
              "       ...,\n",
              "       [0.],\n",
              "       [1.],\n",
              "       [0.]], dtype=float32)"
            ]
          },
          "metadata": {},
          "execution_count": 30
        },
        {
          "output_type": "display_data",
          "data": {
            "text/plain": [
              "<Figure size 720x504 with 2 Axes>"
            ],
            "image/png": "[encoded data removed]"
          },
          "metadata": {
            "needs_background": "light"
          }
        }
      ]
    },
    {
      "cell_type": "code",
      "source": [
        "2037*0.8"
      ],
      "metadata": {
        "colab": {
          "base_uri": "https://localhost:8080/"
        },
        "id": "T9B9fbcpu16w",
        "outputId": "2ea40f09-1599-431a-8326-8de2e6b8e384"
      },
      "execution_count": null,
      "outputs": [
        {
          "output_type": "execute_result",
          "data": {
            "text/plain": [
              "1629.6000000000001"
            ]
          },
          "metadata": {},
          "execution_count": 31
        }
      ]
    },
    {
      "cell_type": "code",
      "source": [
        "7963/5"
      ],
      "metadata": {
        "colab": {
          "base_uri": "https://localhost:8080/"
        },
        "id": "IHdzQ4OkyrA4",
        "outputId": "53ebbc4f-983d-43af-bd00-a6ca76cd5015"
      },
      "execution_count": null,
      "outputs": [
        {
          "output_type": "execute_result",
          "data": {
            "text/plain": [
              "1592.6"
            ]
          },
          "metadata": {},
          "execution_count": 32
        }
      ]
    },
    {
      "cell_type": "markdown",
      "source": [
        "Ensenble learning"
      ],
      "metadata": {
        "id": "7kW-AUrHAhfh"
      }
    },
    {
      "cell_type": "code",
      "source": [
        "model = keras.Sequential([\n",
        "    keras.layers.Input(shape= (13,)),\n",
        "    keras.layers.Dense(10, activation='relu'),\n",
        "    keras.layers.Dense(1, activation= 'sigmoid'),])"
      ],
      "metadata": {
        "id": "z0kOuQBb1XR-"
      },
      "execution_count": null,
      "outputs": []
    },
    {
      "cell_type": "code",
      "source": [
        "def ANN(x_train,y_train, x_test, y_test):\n",
        "  model.compile(optimizer='adam',\n",
        "                loss='binary_crossentropy',\n",
        "                metrics=['accuracy'])\n",
        "  \n",
        "  model.fit(x_train, y_train, epochs=20)\n",
        "\n",
        "  print(model.evaluate(x_test, y_test))\n",
        "\n",
        "  y_preds = model.predict(x_test)\n",
        "  y_preds = np.round(y_preds)\n",
        "\n",
        "  print(\"Classification Report: \\n\", classification_report(y_test, y_preds))\n",
        "\n",
        "  cm = tf.math.confusion_matrix(labels=y_test,predictions=y_preds)\n",
        "  plt.figure(figsize = (10,7))\n",
        "  sn.heatmap(cm, annot=True, fmt='d')\n",
        "  plt.xlabel('Predicted')\n",
        "  plt.ylabel('Truth')\n",
        "  return y_preds"
      ],
      "metadata": {
        "id": "vPforP392CaI"
      },
      "execution_count": null,
      "outputs": []
    },
    {
      "cell_type": "code",
      "source": [
        "df_0_0= df_0.iloc[:1592]\n",
        "df_0_1= df_0.iloc[1592:3184]\n",
        "df_0_2= df_0.iloc[3184:4777]\n",
        "df_0_3= df_0.iloc[4777:6370]\n",
        "df_0_4= df_0.iloc[6370:]\n",
        "df_1_0= df_1.iloc[:1611]\n",
        "df_1_1= df_1.iloc[1611:]"
      ],
      "metadata": {
        "id": "8hSTlTH3EsFj"
      },
      "execution_count": null,
      "outputs": []
    },
    {
      "cell_type": "code",
      "source": [
        "def train_data(df_maj, df_min):\n",
        "  df_train = pd.concat([df_maj, df_min], axis= 0 )\n",
        "  x= df_train.drop(columns= ['Exited'])\n",
        "  y = df_train.Exited\n",
        "  x= scaler.fit_transform(x)\n",
        "  return x,y"
      ],
      "metadata": {
        "id": "iyG7r74AJiCE"
      },
      "execution_count": null,
      "outputs": []
    },
    {
      "cell_type": "code",
      "source": [
        "x_test, y_test = train_data(df_0_2,df_1_1)\n",
        "x_train, y_train = train_data(df_0_0, df_1_0)"
      ],
      "metadata": {
        "id": "Qq179d5BKpAb"
      },
      "execution_count": null,
      "outputs": []
    },
    {
      "cell_type": "code",
      "source": [
        "ANN(x_train,y_train, x_test, y_test)"
      ],
      "metadata": {
        "colab": {
          "base_uri": "https://localhost:8080/",
          "height": 1000
        },
        "id": "rQFe6deqLO-E",
        "outputId": "1f60cb0e-d2c7-4034-ba60-b46589b6c878"
      },
      "execution_count": null,
      "outputs": [
        {
          "output_type": "stream",
          "name": "stdout",
          "text": [
            "Epoch 1/20\n",
            "101/101 [==============================] - 1s 3ms/step - loss: 0.7290 - accuracy: 0.4596\n",
            "Epoch 2/20\n",
            "101/101 [==============================] - 0s 3ms/step - loss: 0.6881 - accuracy: 0.5295\n",
            "Epoch 3/20\n",
            "101/101 [==============================] - 0s 3ms/step - loss: 0.6634 - accuracy: 0.6347\n",
            "Epoch 4/20\n",
            "101/101 [==============================] - 0s 4ms/step - loss: 0.6427 - accuracy: 0.6584\n",
            "Epoch 5/20\n",
            "101/101 [==============================] - 1s 6ms/step - loss: 0.6282 - accuracy: 0.6638\n",
            "Epoch 6/20\n",
            "101/101 [==============================] - 0s 4ms/step - loss: 0.6190 - accuracy: 0.6675\n",
            "Epoch 7/20\n",
            "101/101 [==============================] - 0s 3ms/step - loss: 0.6113 - accuracy: 0.6753\n",
            "Epoch 8/20\n",
            "101/101 [==============================] - 1s 6ms/step - loss: 0.6060 - accuracy: 0.6791\n",
            "Epoch 9/20\n",
            "101/101 [==============================] - 0s 5ms/step - loss: 0.6003 - accuracy: 0.6909\n",
            "Epoch 10/20\n",
            "101/101 [==============================] - 0s 3ms/step - loss: 0.5958 - accuracy: 0.6906\n",
            "Epoch 11/20\n",
            "101/101 [==============================] - 0s 5ms/step - loss: 0.5915 - accuracy: 0.6943\n",
            "Epoch 12/20\n",
            "101/101 [==============================] - 1s 6ms/step - loss: 0.5879 - accuracy: 0.6956\n",
            "Epoch 13/20\n",
            "101/101 [==============================] - 0s 3ms/step - loss: 0.5844 - accuracy: 0.6990\n",
            "Epoch 14/20\n",
            "101/101 [==============================] - 0s 3ms/step - loss: 0.5816 - accuracy: 0.6965\n",
            "Epoch 15/20\n",
            "101/101 [==============================] - 0s 3ms/step - loss: 0.5792 - accuracy: 0.7031\n",
            "Epoch 16/20\n",
            "101/101 [==============================] - 0s 3ms/step - loss: 0.5760 - accuracy: 0.7000\n",
            "Epoch 17/20\n",
            "101/101 [==============================] - 0s 3ms/step - loss: 0.5735 - accuracy: 0.7050\n",
            "Epoch 18/20\n",
            "101/101 [==============================] - 0s 3ms/step - loss: 0.5715 - accuracy: 0.7071\n",
            "Epoch 19/20\n",
            "101/101 [==============================] - 0s 3ms/step - loss: 0.5701 - accuracy: 0.7065\n",
            "Epoch 20/20\n",
            "101/101 [==============================] - 0s 3ms/step - loss: 0.5683 - accuracy: 0.7112\n",
            "64/64 [==============================] - 0s 2ms/step - loss: 0.6460 - accuracy: 0.6409\n",
            "[0.6460214853286743, 0.640911340713501]\n",
            "64/64 [==============================] - 0s 1ms/step\n",
            "Classification Report: \n",
            "               precision    recall  f1-score   support\n",
            "\n",
            "           0       0.90      0.61      0.73      1593\n",
            "           1       0.34      0.75      0.47       426\n",
            "\n",
            "    accuracy                           0.64      2019\n",
            "   macro avg       0.62      0.68      0.60      2019\n",
            "weighted avg       0.78      0.64      0.67      2019\n",
            "\n"
          ]
        },
        {
          "output_type": "execute_result",
          "data": {
            "text/plain": [
              "array([[0.],\n",
              "       [0.],\n",
              "       [0.],\n",
              "       ...,\n",
              "       [1.],\n",
              "       [0.],\n",
              "       [1.]], dtype=float32)"
            ]
          },
          "metadata": {},
          "execution_count": 38
        },
        {
          "output_type": "display_data",
          "data": {
            "text/plain": [
              "<Figure size 720x504 with 2 Axes>"
            ],
            "image/png": "[encoded data removed]"
          },
          "metadata": {
            "needs_background": "light"
          }
        }
      ]
    },
    {
      "cell_type": "code",
      "source": [
        "x_train, y_train = train_data(df_0_1, df_1_0)\n",
        "ANN(x_train,y_train, x_test, y_test)"
      ],
      "metadata": {
        "colab": {
          "base_uri": "https://localhost:8080/",
          "height": 1000
        },
        "id": "oiiT3sbiL1CT",
        "outputId": "195a95bd-d537-4944-9a8e-f155a3f58b2f"
      },
      "execution_count": null,
      "outputs": [
        {
          "output_type": "stream",
          "name": "stdout",
          "text": [
            "Epoch 1/20\n",
            "101/101 [==============================] - 1s 3ms/step - loss: 0.5788 - accuracy: 0.6887\n",
            "Epoch 2/20\n",
            "101/101 [==============================] - 0s 3ms/step - loss: 0.5771 - accuracy: 0.6903\n",
            "Epoch 3/20\n",
            "101/101 [==============================] - 0s 3ms/step - loss: 0.5757 - accuracy: 0.6965\n",
            "Epoch 4/20\n",
            "101/101 [==============================] - 0s 3ms/step - loss: 0.5748 - accuracy: 0.7000\n",
            "Epoch 5/20\n",
            "101/101 [==============================] - 0s 3ms/step - loss: 0.5736 - accuracy: 0.7043\n",
            "Epoch 6/20\n",
            "101/101 [==============================] - 0s 3ms/step - loss: 0.5730 - accuracy: 0.7037\n",
            "Epoch 7/20\n",
            "101/101 [==============================] - 0s 3ms/step - loss: 0.5710 - accuracy: 0.7050\n",
            "Epoch 8/20\n",
            "101/101 [==============================] - 0s 3ms/step - loss: 0.5701 - accuracy: 0.7053\n",
            "Epoch 9/20\n",
            "101/101 [==============================] - 0s 3ms/step - loss: 0.5684 - accuracy: 0.7043\n",
            "Epoch 10/20\n",
            "101/101 [==============================] - 0s 3ms/step - loss: 0.5673 - accuracy: 0.7106\n",
            "Epoch 11/20\n",
            "101/101 [==============================] - 0s 3ms/step - loss: 0.5660 - accuracy: 0.7103\n",
            "Epoch 12/20\n",
            "101/101 [==============================] - 0s 3ms/step - loss: 0.5640 - accuracy: 0.7093\n",
            "Epoch 13/20\n",
            "101/101 [==============================] - 0s 3ms/step - loss: 0.5632 - accuracy: 0.7134\n",
            "Epoch 14/20\n",
            "101/101 [==============================] - 0s 3ms/step - loss: 0.5608 - accuracy: 0.7150\n",
            "Epoch 15/20\n",
            "101/101 [==============================] - 0s 3ms/step - loss: 0.5589 - accuracy: 0.7134\n",
            "Epoch 16/20\n",
            "101/101 [==============================] - 0s 3ms/step - loss: 0.5573 - accuracy: 0.7140\n",
            "Epoch 17/20\n",
            "101/101 [==============================] - 0s 3ms/step - loss: 0.5552 - accuracy: 0.7178\n",
            "Epoch 18/20\n",
            "101/101 [==============================] - 0s 3ms/step - loss: 0.5536 - accuracy: 0.7168\n",
            "Epoch 19/20\n",
            "101/101 [==============================] - 0s 3ms/step - loss: 0.5511 - accuracy: 0.7212\n",
            "Epoch 20/20\n",
            "101/101 [==============================] - 0s 3ms/step - loss: 0.5499 - accuracy: 0.7206\n",
            "64/64 [==============================] - 0s 2ms/step - loss: 0.6004 - accuracy: 0.6890\n",
            "[0.6004183888435364, 0.6889549493789673]\n",
            "64/64 [==============================] - 0s 1ms/step\n",
            "Classification Report: \n",
            "               precision    recall  f1-score   support\n",
            "\n",
            "           0       0.91      0.68      0.77      1593\n",
            "           1       0.38      0.74      0.50       426\n",
            "\n",
            "    accuracy                           0.69      2019\n",
            "   macro avg       0.64      0.71      0.64      2019\n",
            "weighted avg       0.79      0.69      0.72      2019\n",
            "\n"
          ]
        },
        {
          "output_type": "execute_result",
          "data": {
            "text/plain": [
              "array([[0.],\n",
              "       [0.],\n",
              "       [0.],\n",
              "       ...,\n",
              "       [1.],\n",
              "       [0.],\n",
              "       [1.]], dtype=float32)"
            ]
          },
          "metadata": {},
          "execution_count": 39
        },
        {
          "output_type": "display_data",
          "data": {
            "text/plain": [
              "<Figure size 720x504 with 2 Axes>"
            ],
            "image/png": "[encoded data removed]"
          },
          "metadata": {
            "needs_background": "light"
          }
        }
      ]
    },
    {
      "cell_type": "code",
      "source": [
        "x_train, y_train = train_data(df_0_3, df_1_0)\n",
        "ANN(x_train,y_train, x_test, y_test)"
      ],
      "metadata": {
        "colab": {
          "base_uri": "https://localhost:8080/",
          "height": 1000
        },
        "id": "iyCkHUdnL7mC",
        "outputId": "a96e5237-55dd-4783-bc6f-ea89aff11d43"
      },
      "execution_count": null,
      "outputs": [
        {
          "output_type": "stream",
          "name": "stdout",
          "text": [
            "Epoch 1/20\n",
            "101/101 [==============================] - 1s 3ms/step - loss: 0.5473 - accuracy: 0.7313\n",
            "Epoch 2/20\n",
            "101/101 [==============================] - 0s 3ms/step - loss: 0.5447 - accuracy: 0.7319\n",
            "Epoch 3/20\n",
            "101/101 [==============================] - 0s 3ms/step - loss: 0.5422 - accuracy: 0.7319\n",
            "Epoch 4/20\n",
            "101/101 [==============================] - 0s 3ms/step - loss: 0.5406 - accuracy: 0.7325\n",
            "Epoch 5/20\n",
            "101/101 [==============================] - 0s 3ms/step - loss: 0.5386 - accuracy: 0.7328\n",
            "Epoch 6/20\n",
            "101/101 [==============================] - 0s 3ms/step - loss: 0.5370 - accuracy: 0.7369\n",
            "Epoch 7/20\n",
            "101/101 [==============================] - 0s 3ms/step - loss: 0.5349 - accuracy: 0.7381\n",
            "Epoch 8/20\n",
            "101/101 [==============================] - 0s 3ms/step - loss: 0.5334 - accuracy: 0.7391\n",
            "Epoch 9/20\n",
            "101/101 [==============================] - 0s 3ms/step - loss: 0.5306 - accuracy: 0.7447\n",
            "Epoch 10/20\n",
            "101/101 [==============================] - 0s 3ms/step - loss: 0.5292 - accuracy: 0.7459\n",
            "Epoch 11/20\n",
            "101/101 [==============================] - 0s 3ms/step - loss: 0.5273 - accuracy: 0.7453\n",
            "Epoch 12/20\n",
            "101/101 [==============================] - 0s 3ms/step - loss: 0.5255 - accuracy: 0.7466\n",
            "Epoch 13/20\n",
            "101/101 [==============================] - 0s 3ms/step - loss: 0.5243 - accuracy: 0.7434\n",
            "Epoch 14/20\n",
            "101/101 [==============================] - 0s 3ms/step - loss: 0.5234 - accuracy: 0.7434\n",
            "Epoch 15/20\n",
            "101/101 [==============================] - 0s 3ms/step - loss: 0.5208 - accuracy: 0.7481\n",
            "Epoch 16/20\n",
            "101/101 [==============================] - 0s 3ms/step - loss: 0.5196 - accuracy: 0.7453\n",
            "Epoch 17/20\n",
            "101/101 [==============================] - 0s 3ms/step - loss: 0.5174 - accuracy: 0.7481\n",
            "Epoch 18/20\n",
            "101/101 [==============================] - 0s 3ms/step - loss: 0.5161 - accuracy: 0.7494\n",
            "Epoch 19/20\n",
            "101/101 [==============================] - 0s 3ms/step - loss: 0.5149 - accuracy: 0.7512\n",
            "Epoch 20/20\n",
            "101/101 [==============================] - 0s 3ms/step - loss: 0.5141 - accuracy: 0.7491\n",
            "64/64 [==============================] - 0s 2ms/step - loss: 0.6172 - accuracy: 0.6781\n",
            "[0.6172155141830444, 0.6780584454536438]\n",
            "64/64 [==============================] - 0s 1ms/step\n",
            "Classification Report: \n",
            "               precision    recall  f1-score   support\n",
            "\n",
            "           0       0.92      0.65      0.76      1593\n",
            "           1       0.38      0.80      0.51       426\n",
            "\n",
            "    accuracy                           0.68      2019\n",
            "   macro avg       0.65      0.72      0.64      2019\n",
            "weighted avg       0.81      0.68      0.71      2019\n",
            "\n"
          ]
        },
        {
          "output_type": "execute_result",
          "data": {
            "text/plain": [
              "array([[0.],\n",
              "       [0.],\n",
              "       [0.],\n",
              "       ...,\n",
              "       [1.],\n",
              "       [0.],\n",
              "       [1.]], dtype=float32)"
            ]
          },
          "metadata": {},
          "execution_count": 40
        },
        {
          "output_type": "display_data",
          "data": {
            "text/plain": [
              "<Figure size 720x504 with 2 Axes>"
            ],
            "image/png": "[encoded data removed]"
          },
          "metadata": {
            "needs_background": "light"
          }
        }
      ]
    },
    {
      "cell_type": "code",
      "source": [
        "x_train, y_train = train_data(df_0_4, df_1_0)\n",
        "ANN(x_train,y_train, x_test, y_test)"
      ],
      "metadata": {
        "colab": {
          "base_uri": "https://localhost:8080/",
          "height": 1000
        },
        "id": "iLsID8gbMIlu",
        "outputId": "336e85b5-21be-4ff9-95fd-41caac2bcd56"
      },
      "execution_count": null,
      "outputs": [
        {
          "output_type": "stream",
          "name": "stdout",
          "text": [
            "Epoch 1/20\n",
            "101/101 [==============================] - 1s 3ms/step - loss: 0.5202 - accuracy: 0.7509\n",
            "Epoch 2/20\n",
            "101/101 [==============================] - 0s 3ms/step - loss: 0.5173 - accuracy: 0.7572\n",
            "Epoch 3/20\n",
            "101/101 [==============================] - 0s 3ms/step - loss: 0.5162 - accuracy: 0.7522\n",
            "Epoch 4/20\n",
            "101/101 [==============================] - 0s 3ms/step - loss: 0.5154 - accuracy: 0.7525\n",
            "Epoch 5/20\n",
            "101/101 [==============================] - 0s 3ms/step - loss: 0.5138 - accuracy: 0.7541\n",
            "Epoch 6/20\n",
            "101/101 [==============================] - 0s 3ms/step - loss: 0.5133 - accuracy: 0.7547\n",
            "Epoch 7/20\n",
            "101/101 [==============================] - 0s 3ms/step - loss: 0.5109 - accuracy: 0.7575\n",
            "Epoch 8/20\n",
            "101/101 [==============================] - 0s 3ms/step - loss: 0.5100 - accuracy: 0.7575\n",
            "Epoch 9/20\n",
            "101/101 [==============================] - 0s 3ms/step - loss: 0.5097 - accuracy: 0.7541\n",
            "Epoch 10/20\n",
            "101/101 [==============================] - 0s 3ms/step - loss: 0.5077 - accuracy: 0.7562\n",
            "Epoch 11/20\n",
            "101/101 [==============================] - 0s 3ms/step - loss: 0.5064 - accuracy: 0.7581\n",
            "Epoch 12/20\n",
            "101/101 [==============================] - 0s 3ms/step - loss: 0.5052 - accuracy: 0.7587\n",
            "Epoch 13/20\n",
            "101/101 [==============================] - 0s 3ms/step - loss: 0.5053 - accuracy: 0.7603\n",
            "Epoch 14/20\n",
            "101/101 [==============================] - 0s 3ms/step - loss: 0.5039 - accuracy: 0.7606\n",
            "Epoch 15/20\n",
            "101/101 [==============================] - 0s 3ms/step - loss: 0.5031 - accuracy: 0.7600\n",
            "Epoch 16/20\n",
            "101/101 [==============================] - 0s 3ms/step - loss: 0.5016 - accuracy: 0.7612\n",
            "Epoch 17/20\n",
            "101/101 [==============================] - 0s 3ms/step - loss: 0.5011 - accuracy: 0.7640\n",
            "Epoch 18/20\n",
            "101/101 [==============================] - 0s 3ms/step - loss: 0.5003 - accuracy: 0.7591\n",
            "Epoch 19/20\n",
            "101/101 [==============================] - 0s 3ms/step - loss: 0.4994 - accuracy: 0.7612\n",
            "Epoch 20/20\n",
            "101/101 [==============================] - 0s 3ms/step - loss: 0.4978 - accuracy: 0.7634\n",
            "64/64 [==============================] - 0s 2ms/step - loss: 0.5419 - accuracy: 0.7316\n",
            "[0.5418517589569092, 0.7315502762794495]\n",
            "64/64 [==============================] - 0s 1ms/step\n",
            "Classification Report: \n",
            "               precision    recall  f1-score   support\n",
            "\n",
            "           0       0.92      0.73      0.81      1593\n",
            "           1       0.42      0.75      0.54       426\n",
            "\n",
            "    accuracy                           0.73      2019\n",
            "   macro avg       0.67      0.74      0.68      2019\n",
            "weighted avg       0.81      0.73      0.75      2019\n",
            "\n"
          ]
        },
        {
          "output_type": "execute_result",
          "data": {
            "text/plain": [
              "array([[0.],\n",
              "       [0.],\n",
              "       [0.],\n",
              "       ...,\n",
              "       [1.],\n",
              "       [1.],\n",
              "       [0.]], dtype=float32)"
            ]
          },
          "metadata": {},
          "execution_count": 41
        },
        {
          "output_type": "display_data",
          "data": {
            "text/plain": [
              "<Figure size 720x504 with 2 Axes>"
            ],
            "image/png": "[encoded data removed]"
          },
          "metadata": {
            "needs_background": "light"
          }
        }
      ]
    },
    {
      "cell_type": "markdown",
      "source": [
        "we have now seen the above 4 metod for handling imbalance in data."
      ],
      "metadata": {
        "id": "iz3XhNXPNcde"
      }
    },
    {
      "cell_type": "markdown",
      "source": [
        "keras turner"
      ],
      "metadata": {
        "id": "9lJwOSPzNrlN"
      }
    },
    {
      "cell_type": "markdown",
      "source": [
        "continuing from previous dataset"
      ],
      "metadata": {
        "id": "mTOhNbv6wbH8"
      }
    },
    {
      "cell_type": "code",
      "source": [
        "def ANN(hp):\n",
        "  model = keras.Sequential([\n",
        "      keras.layers.Input(shape= (13,)),\n",
        "\n",
        "      keras.layers.Dense(units=hp.Int(\"units\", min_value=2, max_value=200), activation=hp.Choice(\"activation\", [\"relu\", \"tanh\"])),\n",
        "      keras.layers.Dense(1, activation=hp.Choice(\"activation2\", [\"sigmoid\", \"softmax\"])),])\n",
        "  model.compile(optimizer='adam',\n",
        "                loss='binary_crossentropy',\n",
        "                metrics=['accuracy'])\n",
        "  return model\n",
        "  "
      ],
      "metadata": {
        "id": "_1QlV2HQuAI8"
      },
      "execution_count": null,
      "outputs": []
    },
    {
      "cell_type": "code",
      "source": [
        "pip install keras-tuner"
      ],
      "metadata": {
        "colab": {
          "base_uri": "https://localhost:8080/"
        },
        "id": "pfRHkIGqw239",
        "outputId": "48f268b0-47a2-43d5-fb82-afa223f315f9"
      },
      "execution_count": null,
      "outputs": [
        {
          "output_type": "stream",
          "name": "stdout",
          "text": [
            "Looking in indexes: https://pypi.org/simple, https://us-python.pkg.dev/colab-wheels/public/simple/\n",
            "Collecting keras-tuner\n",
            "  Downloading keras_tuner-1.1.3-py3-none-any.whl (135 kB)\n",
            "\u001b[?25l     \u001b[90m━━━━━━━━━━━━━━━━━━━━━━━━━━━━━━━━━━━━━━━━\u001b[0m \u001b[32m0.0/135.7 KB\u001b[0m \u001b[31m?\u001b[0m eta \u001b[36m-:--:--\u001b[0m\r\u001b[2K     \u001b[90m━━━━━━━━━━━━━━━━━━━━━━━━━━━━━━━━━━━━━━━\u001b[0m \u001b[32m135.7/135.7 KB\u001b[0m \u001b[31m5.5 MB/s\u001b[0m eta \u001b[36m0:00:00\u001b[0m\n",
            "\u001b[?25hRequirement already satisfied: ipython in /usr/local/lib/python3.8/dist-packages (from keras-tuner) (7.9.0)\n",
            "Collecting kt-legacy\n",
            "  Downloading kt_legacy-1.0.4-py3-none-any.whl (9.6 kB)\n",
            "Requirement already satisfied: tensorboard in /usr/local/lib/python3.8/dist-packages (from keras-tuner) (2.9.1)\n",
            "Requirement already satisfied: packaging in /usr/local/lib/python3.8/dist-packages (from keras-tuner) (21.3)\n",
            "Requirement already satisfied: numpy in /usr/local/lib/python3.8/dist-packages (from keras-tuner) (1.21.6)\n",
            "Requirement already satisfied: requests in /usr/local/lib/python3.8/dist-packages (from keras-tuner) (2.25.1)\n",
            "Requirement already satisfied: setuptools>=18.5 in /usr/local/lib/python3.8/dist-packages (from ipython->keras-tuner) (57.4.0)\n",
            "Requirement already satisfied: backcall in /usr/local/lib/python3.8/dist-packages (from ipython->keras-tuner) (0.2.0)\n",
            "Requirement already satisfied: traitlets>=4.2 in /usr/local/lib/python3.8/dist-packages (from ipython->keras-tuner) (5.7.1)\n",
            "Requirement already satisfied: pygments in /usr/local/lib/python3.8/dist-packages (from ipython->keras-tuner) (2.6.1)\n",
            "Collecting jedi>=0.10\n",
            "  Downloading jedi-0.18.2-py2.py3-none-any.whl (1.6 MB)\n",
            "\u001b[2K     \u001b[90m━━━━━━━━━━━━━━━━━━━━━━━━━━━━━━━━━━━━━━━━\u001b[0m \u001b[32m1.6/1.6 MB\u001b[0m \u001b[31m40.4 MB/s\u001b[0m eta \u001b[36m0:00:00\u001b[0m\n",
            "\u001b[?25hRequirement already satisfied: pickleshare in /usr/local/lib/python3.8/dist-packages (from ipython->keras-tuner) (0.7.5)\n",
            "Requirement already satisfied: prompt-toolkit<2.1.0,>=2.0.0 in /usr/local/lib/python3.8/dist-packages (from ipython->keras-tuner) (2.0.10)\n",
            "Requirement already satisfied: pexpect in /usr/local/lib/python3.8/dist-packages (from ipython->keras-tuner) (4.8.0)\n",
            "Requirement already satisfied: decorator in /usr/local/lib/python3.8/dist-packages (from ipython->keras-tuner) (4.4.2)\n",
            "Requirement already satisfied: pyparsing!=3.0.5,>=2.0.2 in /usr/local/lib/python3.8/dist-packages (from packaging->keras-tuner) (3.0.9)\n",
            "Requirement already satisfied: chardet<5,>=3.0.2 in /usr/local/lib/python3.8/dist-packages (from requests->keras-tuner) (4.0.0)\n",
            "Requirement already satisfied: idna<3,>=2.5 in /usr/local/lib/python3.8/dist-packages (from requests->keras-tuner) (2.10)\n",
            "Requirement already satisfied: certifi>=2017.4.17 in /usr/local/lib/python3.8/dist-packages (from requests->keras-tuner) (2022.12.7)\n",
            "Requirement already satisfied: urllib3<1.27,>=1.21.1 in /usr/local/lib/python3.8/dist-packages (from requests->keras-tuner) (1.24.3)\n",
            "Requirement already satisfied: tensorboard-plugin-wit>=1.6.0 in /usr/local/lib/python3.8/dist-packages (from tensorboard->keras-tuner) (1.8.1)\n",
            "Requirement already satisfied: markdown>=2.6.8 in /usr/local/lib/python3.8/dist-packages (from tensorboard->keras-tuner) (3.4.1)\n",
            "Requirement already satisfied: protobuf<3.20,>=3.9.2 in /usr/local/lib/python3.8/dist-packages (from tensorboard->keras-tuner) (3.19.6)\n",
            "Requirement already satisfied: tensorboard-data-server<0.7.0,>=0.6.0 in /usr/local/lib/python3.8/dist-packages (from tensorboard->keras-tuner) (0.6.1)\n",
            "Requirement already satisfied: grpcio>=1.24.3 in /usr/local/lib/python3.8/dist-packages (from tensorboard->keras-tuner) (1.51.1)\n",
            "Requirement already satisfied: absl-py>=0.4 in /usr/local/lib/python3.8/dist-packages (from tensorboard->keras-tuner) (1.3.0)\n",
            "Requirement already satisfied: google-auth<3,>=1.6.3 in /usr/local/lib/python3.8/dist-packages (from tensorboard->keras-tuner) (2.15.0)\n",
            "Requirement already satisfied: werkzeug>=1.0.1 in /usr/local/lib/python3.8/dist-packages (from tensorboard->keras-tuner) (1.0.1)\n",
            "Requirement already satisfied: wheel>=0.26 in /usr/local/lib/python3.8/dist-packages (from tensorboard->keras-tuner) (0.38.4)\n",
            "Requirement already satisfied: google-auth-oauthlib<0.5,>=0.4.1 in /usr/local/lib/python3.8/dist-packages (from tensorboard->keras-tuner) (0.4.6)\n",
            "Requirement already satisfied: pyasn1-modules>=0.2.1 in /usr/local/lib/python3.8/dist-packages (from google-auth<3,>=1.6.3->tensorboard->keras-tuner) (0.2.8)\n",
            "Requirement already satisfied: cachetools<6.0,>=2.0.0 in /usr/local/lib/python3.8/dist-packages (from google-auth<3,>=1.6.3->tensorboard->keras-tuner) (5.2.0)\n",
            "Requirement already satisfied: six>=1.9.0 in /usr/local/lib/python3.8/dist-packages (from google-auth<3,>=1.6.3->tensorboard->keras-tuner) (1.15.0)\n",
            "Requirement already satisfied: rsa<5,>=3.1.4 in /usr/local/lib/python3.8/dist-packages (from google-auth<3,>=1.6.3->tensorboard->keras-tuner) (4.9)\n",
            "Requirement already satisfied: requests-oauthlib>=0.7.0 in /usr/local/lib/python3.8/dist-packages (from google-auth-oauthlib<0.5,>=0.4.1->tensorboard->keras-tuner) (1.3.1)\n",
            "Requirement already satisfied: parso<0.9.0,>=0.8.0 in /usr/local/lib/python3.8/dist-packages (from jedi>=0.10->ipython->keras-tuner) (0.8.3)\n",
            "Requirement already satisfied: importlib-metadata>=4.4 in /usr/local/lib/python3.8/dist-packages (from markdown>=2.6.8->tensorboard->keras-tuner) (6.0.0)\n",
            "Requirement already satisfied: wcwidth in /usr/local/lib/python3.8/dist-packages (from prompt-toolkit<2.1.0,>=2.0.0->ipython->keras-tuner) (0.2.5)\n",
            "Requirement already satisfied: ptyprocess>=0.5 in /usr/local/lib/python3.8/dist-packages (from pexpect->ipython->keras-tuner) (0.7.0)\n",
            "Requirement already satisfied: zipp>=0.5 in /usr/local/lib/python3.8/dist-packages (from importlib-metadata>=4.4->markdown>=2.6.8->tensorboard->keras-tuner) (3.11.0)\n",
            "Requirement already satisfied: pyasn1<0.5.0,>=0.4.6 in /usr/local/lib/python3.8/dist-packages (from pyasn1-modules>=0.2.1->google-auth<3,>=1.6.3->tensorboard->keras-tuner) (0.4.8)\n",
            "Requirement already satisfied: oauthlib>=3.0.0 in /usr/local/lib/python3.8/dist-packages (from requests-oauthlib>=0.7.0->google-auth-oauthlib<0.5,>=0.4.1->tensorboard->keras-tuner) (3.2.2)\n",
            "Installing collected packages: kt-legacy, jedi, keras-tuner\n",
            "Successfully installed jedi-0.18.2 keras-tuner-1.1.3 kt-legacy-1.0.4\n"
          ]
        }
      ]
    },
    {
      "cell_type": "code",
      "source": [
        "import keras_tuner\n",
        "\n",
        "tuner = keras_tuner.RandomSearch(\n",
        "    hypermodel=ANN,\n",
        "    objective=\"val_accuracy\",\n",
        "    max_trials=8,\n",
        "    executions_per_trial=3,\n",
        "    overwrite=True,\n",
        "    directory=\"my_dir\",\n",
        "    project_name=\"helloworld\",\n",
        ")"
      ],
      "metadata": {
        "id": "b2-rzXx7x6bY"
      },
      "execution_count": null,
      "outputs": []
    },
    {
      "cell_type": "code",
      "source": [
        "tuner.search_space_summary()\n"
      ],
      "metadata": {
        "colab": {
          "base_uri": "https://localhost:8080/"
        },
        "id": "2DgsIlqG0Ok8",
        "outputId": "717b6bae-00b2-4269-ee35-1f68b2e136c9"
      },
      "execution_count": null,
      "outputs": [
        {
          "output_type": "stream",
          "name": "stdout",
          "text": [
            "Search space summary\n",
            "Default search space size: 3\n",
            "units (Int)\n",
            "{'default': None, 'conditions': [], 'min_value': 2, 'max_value': 200, 'step': 1, 'sampling': None}\n",
            "activation (Choice)\n",
            "{'default': 'relu', 'conditions': [], 'values': ['relu', 'tanh'], 'ordered': False}\n",
            "activation2 (Choice)\n",
            "{'default': 'sigmoid', 'conditions': [], 'values': ['sigmoid', 'softmax'], 'ordered': False}\n"
          ]
        }
      ]
    },
    {
      "cell_type": "code",
      "source": [
        "x= scaler.fit_transform(x)\n",
        "x_train,x_test,y_train, y_test = train_test_split(x, y, test_size= 0.3, stratify=y, random_state=42)\n",
        "tuner.search(x_train, y_train, epochs=20, validation_data=(x_test, y_test))"
      ],
      "metadata": {
        "id": "F0UucGg0zyvv",
        "colab": {
          "base_uri": "https://localhost:8080/"
        },
        "outputId": "da71151c-7e5a-4d8e-8731-d083fcc69ce0"
      },
      "execution_count": null,
      "outputs": [
        {
          "output_type": "stream",
          "name": "stdout",
          "text": [
            "Trial 8 Complete [00h 01m 01s]\n",
            "val_accuracy: 0.20366667211055756\n",
            "\n",
            "Best val_accuracy So Far: 0.858222226301829\n",
            "Total elapsed time: 00h 09m 15s\n"
          ]
        }
      ]
    },
    {
      "cell_type": "code",
      "source": [
        "\n",
        "tuner.results_summary()"
      ],
      "metadata": {
        "colab": {
          "base_uri": "https://localhost:8080/"
        },
        "id": "NRTVWv821kJ4",
        "outputId": "474cc098-0e6c-4106-aa8a-bce51c510817"
      },
      "execution_count": null,
      "outputs": [
        {
          "output_type": "stream",
          "name": "stdout",
          "text": [
            "Results summary\n",
            "Results in my_dir/helloworld\n",
            "Showing 10 best trials\n",
            "<keras_tuner.engine.objective.Objective object at 0x7fc5b996b6d0>\n",
            "Trial summary\n",
            "Hyperparameters:\n",
            "units: 40\n",
            "activation: relu\n",
            "activation2: sigmoid\n",
            "Score: 0.858222226301829\n",
            "Trial summary\n",
            "Hyperparameters:\n",
            "units: 91\n",
            "activation: tanh\n",
            "activation2: sigmoid\n",
            "Score: 0.818666676680247\n",
            "Trial summary\n",
            "Hyperparameters:\n",
            "units: 122\n",
            "activation: tanh\n",
            "activation2: sigmoid\n",
            "Score: 0.8186666568120321\n",
            "Trial summary\n",
            "Hyperparameters:\n",
            "units: 104\n",
            "activation: tanh\n",
            "activation2: sigmoid\n",
            "Score: 0.8183333277702332\n",
            "Trial summary\n",
            "Hyperparameters:\n",
            "units: 135\n",
            "activation: tanh\n",
            "activation2: sigmoid\n",
            "Score: 0.8164444367090861\n",
            "Trial summary\n",
            "Hyperparameters:\n",
            "units: 118\n",
            "activation: tanh\n",
            "activation2: softmax\n",
            "Score: 0.20366667211055756\n",
            "Trial summary\n",
            "Hyperparameters:\n",
            "units: 84\n",
            "activation: tanh\n",
            "activation2: softmax\n",
            "Score: 0.20366667211055756\n",
            "Trial summary\n",
            "Hyperparameters:\n",
            "units: 165\n",
            "activation: tanh\n",
            "activation2: softmax\n",
            "Score: 0.20366667211055756\n"
          ]
        }
      ]
    },
    {
      "cell_type": "code",
      "source": [
        "best_model = tuner.get_best_models()[0]\n",
        "\n",
        "best_model.fit(x_train, y_train, epochs=20)\n",
        "\n",
        "print(best_model.evaluate(x_test, y_test))"
      ],
      "metadata": {
        "id": "DOv6IaxD2EFY",
        "colab": {
          "base_uri": "https://localhost:8080/"
        },
        "outputId": "6a8ee23a-208c-4fa6-fa8b-5a696622496f"
      },
      "execution_count": null,
      "outputs": [
        {
          "output_type": "stream",
          "name": "stdout",
          "text": [
            "Epoch 1/20\n",
            "219/219 [==============================] - 1s 3ms/step - loss: 0.3587 - accuracy: 0.8507\n",
            "Epoch 2/20\n",
            "219/219 [==============================] - 1s 3ms/step - loss: 0.3576 - accuracy: 0.8513\n",
            "Epoch 3/20\n",
            "219/219 [==============================] - 1s 3ms/step - loss: 0.3565 - accuracy: 0.8519\n",
            "Epoch 4/20\n",
            "219/219 [==============================] - 1s 3ms/step - loss: 0.3541 - accuracy: 0.8527\n",
            "Epoch 5/20\n",
            "219/219 [==============================] - 1s 3ms/step - loss: 0.3531 - accuracy: 0.8517\n",
            "Epoch 6/20\n",
            "219/219 [==============================] - 1s 3ms/step - loss: 0.3527 - accuracy: 0.8517\n",
            "Epoch 7/20\n",
            "219/219 [==============================] - 1s 3ms/step - loss: 0.3520 - accuracy: 0.8513\n",
            "Epoch 8/20\n",
            "219/219 [==============================] - 1s 3ms/step - loss: 0.3515 - accuracy: 0.8540\n",
            "Epoch 9/20\n",
            "219/219 [==============================] - 1s 3ms/step - loss: 0.3499 - accuracy: 0.8544\n",
            "Epoch 10/20\n",
            "219/219 [==============================] - 1s 3ms/step - loss: 0.3487 - accuracy: 0.8554\n",
            "Epoch 11/20\n",
            "219/219 [==============================] - 1s 3ms/step - loss: 0.3497 - accuracy: 0.8527\n",
            "Epoch 12/20\n",
            "219/219 [==============================] - 1s 3ms/step - loss: 0.3485 - accuracy: 0.8551\n",
            "Epoch 13/20\n",
            "219/219 [==============================] - 1s 3ms/step - loss: 0.3477 - accuracy: 0.8541\n",
            "Epoch 14/20\n",
            "219/219 [==============================] - 1s 3ms/step - loss: 0.3476 - accuracy: 0.8550\n",
            "Epoch 15/20\n",
            "219/219 [==============================] - 1s 3ms/step - loss: 0.3460 - accuracy: 0.8561\n",
            "Epoch 16/20\n",
            "219/219 [==============================] - 1s 3ms/step - loss: 0.3461 - accuracy: 0.8563\n",
            "Epoch 17/20\n",
            "219/219 [==============================] - 1s 3ms/step - loss: 0.3462 - accuracy: 0.8566\n",
            "Epoch 18/20\n",
            "219/219 [==============================] - 1s 3ms/step - loss: 0.3459 - accuracy: 0.8543\n",
            "Epoch 19/20\n",
            "219/219 [==============================] - 1s 3ms/step - loss: 0.3456 - accuracy: 0.8561\n",
            "Epoch 20/20\n",
            "219/219 [==============================] - 1s 3ms/step - loss: 0.3461 - accuracy: 0.8569\n",
            "94/94 [==============================] - 0s 2ms/step - loss: 0.3335 - accuracy: 0.8663\n",
            "[0.3335309624671936, 0.8663333058357239]\n"
          ]
        }
      ]
    },
    {
      "cell_type": "code",
      "source": [
        "\n",
        "y_preds = best_model.predict(x_test)\n",
        "y_preds = np.round(y_preds)\n",
        "\n",
        "print(\"Classification Report: \\n\", classification_report(y_test, y_preds))"
      ],
      "metadata": {
        "colab": {
          "base_uri": "https://localhost:8080/"
        },
        "id": "XYJ_TV12wP-n",
        "outputId": "f8678a5d-ae02-4166-c1a4-d4bf4fd11555"
      },
      "execution_count": null,
      "outputs": [
        {
          "output_type": "stream",
          "name": "stdout",
          "text": [
            "94/94 [==============================] - 0s 1ms/step\n",
            "Classification Report: \n",
            "               precision    recall  f1-score   support\n",
            "\n",
            "           0       0.88      0.97      0.92      2389\n",
            "           1       0.79      0.47      0.59       611\n",
            "\n",
            "    accuracy                           0.87      3000\n",
            "   macro avg       0.83      0.72      0.75      3000\n",
            "weighted avg       0.86      0.87      0.85      3000\n",
            "\n"
          ]
        }
      ]
    },
    {
      "cell_type": "code",
      "source": [
        "cm = tf.math.confusion_matrix(labels=y_test,predictions=y_preds)\n",
        "plt.figure(figsize = (10,7))\n",
        "sn.heatmap(cm, annot=True, fmt='d')\n",
        "plt.xlabel('Predicted')\n",
        "plt.ylabel('Truth')"
      ],
      "metadata": {
        "colab": {
          "base_uri": "https://localhost:8080/",
          "height": 459
        },
        "id": "uEogCYQkwgcD",
        "outputId": "e05d15ee-afa6-429b-ca25-37d27baaeaf8"
      },
      "execution_count": null,
      "outputs": [
        {
          "output_type": "execute_result",
          "data": {
            "text/plain": [
              "Text(69.0, 0.5, 'Truth')"
            ]
          },
          "metadata": {},
          "execution_count": 50
        },
        {
          "output_type": "display_data",
          "data": {
            "text/plain": [
              "<Figure size 720x504 with 2 Axes>"
            ],
            "image/png": "[encoded data removed]"
          },
          "metadata": {
            "needs_background": "light"
          }
        }
      ]
    },
    {
      "cell_type": "code",
      "source": [],
      "metadata": {
        "id": "Jb9mZJPdwhKZ"
      },
      "execution_count": null,
      "outputs": []
    },
    {
      "cell_type": "markdown",
      "source": [
        "### Image classification -1 small images cifar10 dataset"
      ],
      "metadata": {
        "id": "4YyE1MIwW2xA"
      }
    },
    {
      "cell_type": "markdown",
      "source": [
        "#### using ANN"
      ],
      "metadata": {
        "id": "xzgUKWoYz1e5"
      }
    },
    {
      "cell_type": "code",
      "source": [
        "import tensorflow as tf\n",
        "from tensorflow import keras"
      ],
      "metadata": {
        "id": "vIG7UO8JXB39"
      },
      "execution_count": 1,
      "outputs": []
    },
    {
      "cell_type": "code",
      "source": [
        "tf.config.experimental.list_physical_devices()"
      ],
      "metadata": {
        "colab": {
          "base_uri": "https://localhost:8080/"
        },
        "id": "Sth6Eu-QXHwc",
        "outputId": "08b20ee4-b631-48d3-89c6-f2339dee4648"
      },
      "execution_count": 2,
      "outputs": [
        {
          "output_type": "execute_result",
          "data": {
            "text/plain": [
              "[PhysicalDevice(name='/physical_device:CPU:0', device_type='CPU'),\n",
              " PhysicalDevice(name='/physical_device:GPU:0', device_type='GPU')]"
            ]
          },
          "metadata": {},
          "execution_count": 2
        }
      ]
    },
    {
      "cell_type": "code",
      "source": [
        "tf.test.is_built_with_cuda()"
      ],
      "metadata": {
        "colab": {
          "base_uri": "https://localhost:8080/"
        },
        "id": "I8ifCFAjXtfU",
        "outputId": "78a77ed1-d62c-48fd-8680-4a1c2d555bc7"
      },
      "execution_count": 3,
      "outputs": [
        {
          "output_type": "execute_result",
          "data": {
            "text/plain": [
              "True"
            ]
          },
          "metadata": {},
          "execution_count": 3
        }
      ]
    },
    {
      "cell_type": "code",
      "source": [
        "(x_train, y_train,),(x_test, y_test) = keras.datasets.cifar10.load_data()"
      ],
      "metadata": {
        "id": "rlfr585RXxyN",
        "colab": {
          "base_uri": "https://localhost:8080/"
        },
        "outputId": "92131620-efdf-4d99-833c-47684c72e5ac"
      },
      "execution_count": 4,
      "outputs": [
        {
          "output_type": "stream",
          "name": "stdout",
          "text": [
            "Downloading data from https://www.cs.toronto.edu/~kriz/cifar-10-python.tar.gz\n",
            "170498071/170498071 [==============================] - 3s 0us/step\n"
          ]
        }
      ]
    },
    {
      "cell_type": "code",
      "source": [
        "x_train.shape"
      ],
      "metadata": {
        "colab": {
          "base_uri": "https://localhost:8080/"
        },
        "id": "YlBhpx9VYbCn",
        "outputId": "5a64e537-2584-4084-fa08-4871fc88b367"
      },
      "execution_count": 5,
      "outputs": [
        {
          "output_type": "execute_result",
          "data": {
            "text/plain": [
              "(50000, 32, 32, 3)"
            ]
          },
          "metadata": {},
          "execution_count": 5
        }
      ]
    },
    {
      "cell_type": "code",
      "source": [
        "x_test.shape"
      ],
      "metadata": {
        "colab": {
          "base_uri": "https://localhost:8080/"
        },
        "id": "pmAbFFGAYz9Y",
        "outputId": "14b7418c-e67e-46d0-8299-f487603360ec"
      },
      "execution_count": 6,
      "outputs": [
        {
          "output_type": "execute_result",
          "data": {
            "text/plain": [
              "(10000, 32, 32, 3)"
            ]
          },
          "metadata": {},
          "execution_count": 6
        }
      ]
    },
    {
      "cell_type": "code",
      "source": [
        "import matplotlib.pyplot as plt\n",
        "def plot_sample(index):\n",
        "    plt.figure(figsize = (10,1))\n",
        "    plt.imshow(x_train[index])"
      ],
      "metadata": {
        "id": "v22_4tGYZGy6"
      },
      "execution_count": 7,
      "outputs": []
    },
    {
      "cell_type": "code",
      "source": [
        "plot_sample(0)"
      ],
      "metadata": {
        "colab": {
          "base_uri": "https://localhost:8080/",
          "height": 105
        },
        "id": "bzTw-Rw1ZKes",
        "outputId": "a153519c-baca-49ee-f48d-ff6573f38a04"
      },
      "execution_count": 8,
      "outputs": [
        {
          "output_type": "display_data",
          "data": {
            "text/plain": [
              "<Figure size 720x72 with 1 Axes>"
            ],
            "image/png": "[encoded data removed]"
          },
          "metadata": {
            "needs_background": "light"
          }
        }
      ]
    },
    {
      "cell_type": "code",
      "source": [
        "y_train[:5]"
      ],
      "metadata": {
        "colab": {
          "base_uri": "https://localhost:8080/"
        },
        "id": "IsIribb9g7VK",
        "outputId": "f1a3b375-0db9-4775-bcb0-aa6e764a769b"
      },
      "execution_count": 9,
      "outputs": [
        {
          "output_type": "execute_result",
          "data": {
            "text/plain": [
              "array([[6],\n",
              "       [9],\n",
              "       [9],\n",
              "       [4],\n",
              "       [1]], dtype=uint8)"
            ]
          },
          "metadata": {},
          "execution_count": 9
        }
      ]
    },
    {
      "cell_type": "code",
      "source": [
        "classes = [\"airplane\",\"automobile\",\"bird\",\"cat\",\"deer\",\"dog\",\"frog\",\"horse\",\"ship\",\"truck\"]\n",
        "y_train = y_train.reshape(-1,)\n",
        "y_test = y_test.reshape(-1,)\n"
      ],
      "metadata": {
        "id": "ofielAkkhFRM"
      },
      "execution_count": 10,
      "outputs": []
    },
    {
      "cell_type": "code",
      "source": [
        "classes[y_train[0]]"
      ],
      "metadata": {
        "colab": {
          "base_uri": "https://localhost:8080/",
          "height": 36
        },
        "id": "wBmqejDs2qJ8",
        "outputId": "088bdcc5-4502-45d1-af0f-89907ba97f09"
      },
      "execution_count": 11,
      "outputs": [
        {
          "output_type": "execute_result",
          "data": {
            "text/plain": [
              "'frog'"
            ],
            "application/vnd.google.colaboratory.intrinsic+json": {
              "type": "string"
            }
          },
          "metadata": {},
          "execution_count": 11
        }
      ]
    },
    {
      "cell_type": "markdown",
      "source": [
        "scaling"
      ],
      "metadata": {
        "id": "SuROihMnpFMh"
      }
    },
    {
      "cell_type": "code",
      "source": [
        "x_test = x_test/255\n",
        "x_train = x_train/255"
      ],
      "metadata": {
        "id": "VJsrQFghlyOd"
      },
      "execution_count": 12,
      "outputs": []
    },
    {
      "cell_type": "markdown",
      "source": [
        "one hot encoding"
      ],
      "metadata": {
        "id": "Z0eDjEIJpB-S"
      }
    },
    {
      "cell_type": "code",
      "source": [
        "y_train_categorical = keras.utils.to_categorical(\n",
        "    y_train, num_classes=10, dtype='float32'\n",
        ")\n",
        "y_test_categorical = keras.utils.to_categorical(\n",
        "    y_test, num_classes=10, dtype='float32'\n",
        ")"
      ],
      "metadata": {
        "id": "n69psomRn8H0"
      },
      "execution_count": 13,
      "outputs": []
    },
    {
      "cell_type": "code",
      "source": [
        "y_train_categorical[0]"
      ],
      "metadata": {
        "colab": {
          "base_uri": "https://localhost:8080/"
        },
        "id": "vxBNimEk3H-K",
        "outputId": "878c1a51-52bd-40a7-d887-706971210016"
      },
      "execution_count": 14,
      "outputs": [
        {
          "output_type": "execute_result",
          "data": {
            "text/plain": [
              "array([0., 0., 0., 0., 0., 0., 1., 0., 0., 0.], dtype=float32)"
            ]
          },
          "metadata": {},
          "execution_count": 14
        }
      ]
    },
    {
      "cell_type": "code",
      "source": [
        "model = keras.Sequential([\n",
        "    keras.layers.Flatten(input_shape = (32,32,3)),\n",
        "    keras.layers.Dense(3000, activation='relu'),\n",
        "    keras.layers.Dense(1000, activation='relu'),\n",
        "    keras.layers.Dense(10, activation='softmax')\n",
        "])"
      ],
      "metadata": {
        "id": "OCKNOMV_dO9O"
      },
      "execution_count": 15,
      "outputs": []
    },
    {
      "cell_type": "code",
      "source": [
        "from tensorflow.python.eager.monitoring import Metric\n",
        "model.compile(\n",
        "    optimizer='adam',\n",
        "    loss= 'categorical_crossentropy',\n",
        "    metrics = ['accuracy']\n",
        ")"
      ],
      "metadata": {
        "id": "F32zM52tfJHU"
      },
      "execution_count": 16,
      "outputs": []
    },
    {
      "cell_type": "code",
      "source": [
        "model.fit(x_train, y_train_categorical, epochs= 5)"
      ],
      "metadata": {
        "colab": {
          "base_uri": "https://localhost:8080/"
        },
        "id": "7eeasfXYgKwM",
        "outputId": "bce965a2-7378-46a4-83f7-c2890b557125"
      },
      "execution_count": 17,
      "outputs": [
        {
          "output_type": "stream",
          "name": "stdout",
          "text": [
            "Epoch 1/5\n",
            "1563/1563 [==============================] - 16s 8ms/step - loss: 1.8912 - accuracy: 0.3243\n",
            "Epoch 2/5\n",
            "1563/1563 [==============================] - 10s 6ms/step - loss: 1.6657 - accuracy: 0.4017\n",
            "Epoch 3/5\n",
            "1563/1563 [==============================] - 8s 5ms/step - loss: 1.5832 - accuracy: 0.4333\n",
            "Epoch 4/5\n",
            "1563/1563 [==============================] - 8s 5ms/step - loss: 1.5299 - accuracy: 0.4521\n",
            "Epoch 5/5\n",
            "1563/1563 [==============================] - 7s 5ms/step - loss: 1.4944 - accuracy: 0.4691\n"
          ]
        },
        {
          "output_type": "execute_result",
          "data": {
            "text/plain": [
              "<keras.callbacks.History at 0x7fd3400323a0>"
            ]
          },
          "metadata": {},
          "execution_count": 17
        }
      ]
    },
    {
      "cell_type": "code",
      "source": [
        "model.evaluate(x_test, y_test_categorical)"
      ],
      "metadata": {
        "colab": {
          "base_uri": "https://localhost:8080/"
        },
        "id": "p8OEYUTjuL1b",
        "outputId": "06f56580-3abf-4539-f7da-99f53ff0598e"
      },
      "execution_count": 18,
      "outputs": [
        {
          "output_type": "stream",
          "name": "stdout",
          "text": [
            "313/313 [==============================] - 1s 3ms/step - loss: 1.5784 - accuracy: 0.4448\n"
          ]
        },
        {
          "output_type": "execute_result",
          "data": {
            "text/plain": [
              "[1.578377604484558, 0.4447999894618988]"
            ]
          },
          "metadata": {},
          "execution_count": 18
        }
      ]
    },
    {
      "cell_type": "code",
      "source": [
        "model2 = keras.Sequential([\n",
        "    keras.layers.Flatten(input_shape = (32,32,3)),\n",
        "    keras.layers.Dense(3000, activation='relu'),\n",
        "    keras.layers.Dense(1000, activation='relu'),\n",
        "    keras.layers.Dense(10, activation='softmax')\n",
        "])"
      ],
      "metadata": {
        "id": "pE7M-Zu24SLD"
      },
      "execution_count": 19,
      "outputs": []
    },
    {
      "cell_type": "code",
      "source": [
        "model2.compile(optimizer='SGD',\n",
        "                  loss='categorical_crossentropy',\n",
        "                  metrics=['accuracy'])"
      ],
      "metadata": {
        "id": "sQKxO3VmgcEn"
      },
      "execution_count": 20,
      "outputs": []
    },
    {
      "cell_type": "code",
      "source": [
        "model2.fit(x_train, y_train_categorical, epochs= 5)"
      ],
      "metadata": {
        "colab": {
          "base_uri": "https://localhost:8080/"
        },
        "id": "rP0pLQZ5j9Xm",
        "outputId": "4c7dd651-5b23-4339-8f74-06c31eb024ab"
      },
      "execution_count": 21,
      "outputs": [
        {
          "output_type": "stream",
          "name": "stdout",
          "text": [
            "Epoch 1/5\n",
            "1563/1563 [==============================] - 7s 4ms/step - loss: 1.8133 - accuracy: 0.3552\n",
            "Epoch 2/5\n",
            "1563/1563 [==============================] - 6s 4ms/step - loss: 1.6240 - accuracy: 0.4248\n",
            "Epoch 3/5\n",
            "1563/1563 [==============================] - 6s 4ms/step - loss: 1.5426 - accuracy: 0.4567\n",
            "Epoch 4/5\n",
            "1563/1563 [==============================] - 6s 4ms/step - loss: 1.4848 - accuracy: 0.4754\n",
            "Epoch 5/5\n",
            "1563/1563 [==============================] - 6s 4ms/step - loss: 1.4332 - accuracy: 0.4948\n"
          ]
        },
        {
          "output_type": "execute_result",
          "data": {
            "text/plain": [
              "<keras.callbacks.History at 0x7fd340032100>"
            ]
          },
          "metadata": {},
          "execution_count": 21
        }
      ]
    },
    {
      "cell_type": "code",
      "source": [
        "model2.evaluate(x_test, y_test_categorical)"
      ],
      "metadata": {
        "colab": {
          "base_uri": "https://localhost:8080/"
        },
        "id": "ervwNc2wuUAW",
        "outputId": "b8d023b8-a5de-46d3-cef1-559cdd3a003d"
      },
      "execution_count": 22,
      "outputs": [
        {
          "output_type": "stream",
          "name": "stdout",
          "text": [
            "313/313 [==============================] - 1s 3ms/step - loss: 1.5298 - accuracy: 0.4570\n"
          ]
        },
        {
          "output_type": "execute_result",
          "data": {
            "text/plain": [
              "[1.5298285484313965, 0.4569999873638153]"
            ]
          },
          "metadata": {},
          "execution_count": 22
        }
      ]
    },
    {
      "cell_type": "markdown",
      "source": [
        "#### using CNN"
      ],
      "metadata": {
        "id": "ENlKmXEwz8b3"
      }
    },
    {
      "cell_type": "code",
      "source": [
        "model_CNN = keras.Sequential([\n",
        "    keras.layers.Input(shape=(32, 32, 3)),\n",
        "    keras.layers.Conv2D(filters= 32, kernel_size= (3,3), activation='relu'),\n",
        "    keras.layers.MaxPool2D((2,2),),\n",
        "\n",
        "    keras.layers.Conv2D(filters= 64, kernel_size= (3,3), activation='relu'),\n",
        "    keras.layers.MaxPool2D((2,2),),\n",
        "\n",
        "    keras.layers.Flatten(),\n",
        "    keras.layers.Dense(64, activation='relu'),\n",
        "    keras.layers.Dense(10, activation='softmax')\n",
        "])"
      ],
      "metadata": {
        "id": "fjLRbhcQ6Pqw"
      },
      "execution_count": 23,
      "outputs": []
    },
    {
      "cell_type": "code",
      "source": [
        "model_CNN.compile(optimizer='adam',\n",
        "              loss='categorical_crossentropy',\n",
        "              metrics=['accuracy'])"
      ],
      "metadata": {
        "id": "avDtNcNLtnP8"
      },
      "execution_count": 24,
      "outputs": []
    },
    {
      "cell_type": "code",
      "source": [
        "model_CNN.fit(x_train, y_train_categorical, epochs= 10)"
      ],
      "metadata": {
        "colab": {
          "base_uri": "https://localhost:8080/"
        },
        "id": "Pef6qqdVttlc",
        "outputId": "86fd33c9-1f69-4f4d-ab93-065e576b752c"
      },
      "execution_count": 25,
      "outputs": [
        {
          "output_type": "stream",
          "name": "stdout",
          "text": [
            "Epoch 1/10\n",
            "1563/1563 [==============================] - 13s 4ms/step - loss: 1.4504 - accuracy: 0.4809\n",
            "Epoch 2/10\n",
            "1563/1563 [==============================] - 6s 4ms/step - loss: 1.1184 - accuracy: 0.6102\n",
            "Epoch 3/10\n",
            "1563/1563 [==============================] - 6s 4ms/step - loss: 0.9844 - accuracy: 0.6558\n",
            "Epoch 4/10\n",
            "1563/1563 [==============================] - 6s 4ms/step - loss: 0.8952 - accuracy: 0.6884\n",
            "Epoch 5/10\n",
            "1563/1563 [==============================] - 6s 4ms/step - loss: 0.8236 - accuracy: 0.7151\n",
            "Epoch 6/10\n",
            "1563/1563 [==============================] - 7s 4ms/step - loss: 0.7633 - accuracy: 0.7349\n",
            "Epoch 7/10\n",
            "1563/1563 [==============================] - 6s 4ms/step - loss: 0.7105 - accuracy: 0.7541\n",
            "Epoch 8/10\n",
            "1563/1563 [==============================] - 6s 4ms/step - loss: 0.6648 - accuracy: 0.7699\n",
            "Epoch 9/10\n",
            "1563/1563 [==============================] - 6s 4ms/step - loss: 0.6205 - accuracy: 0.7843\n",
            "Epoch 10/10\n",
            "1563/1563 [==============================] - 6s 4ms/step - loss: 0.5807 - accuracy: 0.7968\n"
          ]
        },
        {
          "output_type": "execute_result",
          "data": {
            "text/plain": [
              "<keras.callbacks.History at 0x7fd2e8390be0>"
            ]
          },
          "metadata": {},
          "execution_count": 25
        }
      ]
    },
    {
      "cell_type": "code",
      "source": [
        "model_CNN.evaluate(x_test,y_test_categorical)"
      ],
      "metadata": {
        "colab": {
          "base_uri": "https://localhost:8080/"
        },
        "id": "oOv5DxxXvlUo",
        "outputId": "c971ae99-0d19-4de5-c2f6-111f06e4bfac"
      },
      "execution_count": 27,
      "outputs": [
        {
          "output_type": "stream",
          "name": "stdout",
          "text": [
            "313/313 [==============================] - 2s 4ms/step - loss: 0.9294 - accuracy: 0.6951\n"
          ]
        },
        {
          "output_type": "execute_result",
          "data": {
            "text/plain": [
              "[0.9293844699859619, 0.6951000094413757]"
            ]
          },
          "metadata": {},
          "execution_count": 27
        }
      ]
    },
    {
      "cell_type": "code",
      "source": [
        "from sklearn.metrics import confusion_matrix , classification_report\n",
        "import numpy as np\n",
        "y_pred = model_CNN.predict(x_test)\n",
        "y_pred_classes = [np.argmax(element) for element in y_pred]\n",
        "\n",
        "print(\"Classification Report: \\n\", classification_report(y_test, y_pred_classes))"
      ],
      "metadata": {
        "colab": {
          "base_uri": "https://localhost:8080/"
        },
        "id": "vM54IL-nvpoR",
        "outputId": "a14d689b-c88f-4911-e480-f1bf04d8c62b"
      },
      "execution_count": 29,
      "outputs": [
        {
          "output_type": "stream",
          "name": "stdout",
          "text": [
            "313/313 [==============================] - 1s 2ms/step\n",
            "Classification Report: \n",
            "               precision    recall  f1-score   support\n",
            "\n",
            "           0       0.73      0.75      0.74      1000\n",
            "           1       0.81      0.80      0.81      1000\n",
            "           2       0.64      0.52      0.57      1000\n",
            "           3       0.53      0.45      0.49      1000\n",
            "           4       0.58      0.73      0.64      1000\n",
            "           5       0.67      0.55      0.60      1000\n",
            "           6       0.67      0.85      0.75      1000\n",
            "           7       0.77      0.73      0.75      1000\n",
            "           8       0.76      0.86      0.80      1000\n",
            "           9       0.81      0.72      0.76      1000\n",
            "\n",
            "    accuracy                           0.70     10000\n",
            "   macro avg       0.70      0.70      0.69     10000\n",
            "weighted avg       0.70      0.70      0.69     10000\n",
            "\n"
          ]
        }
      ]
    },
    {
      "cell_type": "markdown",
      "source": [
        "### image classification MNIST dataset"
      ],
      "metadata": {
        "id": "0Khj3c6XfDAx"
      }
    },
    {
      "cell_type": "code",
      "source": [
        "import tensorflow as tf\n",
        "from tensorflow import keras\n",
        "import numpy as np\n",
        "import matplotlib.pyplot as plt\n"
      ],
      "metadata": {
        "id": "JiGb3pvcffOo"
      },
      "execution_count": 1,
      "outputs": []
    },
    {
      "cell_type": "code",
      "source": [
        "(x_train, y_train), (x_test, y_test) = keras.datasets.mnist.load_data()"
      ],
      "metadata": {
        "id": "iXRBB_BWeXJ_"
      },
      "execution_count": 2,
      "outputs": []
    },
    {
      "cell_type": "code",
      "source": [
        "x_test.shape"
      ],
      "metadata": {
        "colab": {
          "base_uri": "https://localhost:8080/"
        },
        "id": "u8jTHH9igYP1",
        "outputId": "5be2addb-7b53-4293-8bca-0c19ee133d81"
      },
      "execution_count": 3,
      "outputs": [
        {
          "output_type": "execute_result",
          "data": {
            "text/plain": [
              "(10000, 28, 28)"
            ]
          },
          "metadata": {},
          "execution_count": 3
        }
      ]
    },
    {
      "cell_type": "code",
      "source": [
        "y_train[0]"
      ],
      "metadata": {
        "colab": {
          "base_uri": "https://localhost:8080/"
        },
        "id": "ayEFHaXQmATs",
        "outputId": "afafa09b-f6d5-4fe7-91ca-7c4e727d04bd"
      },
      "execution_count": 4,
      "outputs": [
        {
          "output_type": "execute_result",
          "data": {
            "text/plain": [
              "5"
            ]
          },
          "metadata": {},
          "execution_count": 4
        }
      ]
    },
    {
      "cell_type": "code",
      "source": [
        "model = keras.Sequential([\n",
        "    keras.layers.Input(shape=(28,28,1)),\n",
        "\n",
        "    #first convolution layer\n",
        "    keras.layers.Conv2D(filters=16, kernel_size=(2,2),activation='relu'),\n",
        "    keras.layers.MaxPool2D((2,2),),\n",
        "\n",
        "    #second convolution layer\n",
        "    keras.layers.Conv2D(filters=32, kernel_size=(3,3),activation='relu'),\n",
        "    keras.layers.MaxPool2D((2,2),),\n",
        "\n",
        "    keras.layers.Flatten(),\n",
        "    keras.layers.Dense(100, activation='relu'),\n",
        "    keras.layers.Dense(50, activation='relu'),\n",
        "    keras.layers.Dense(10, activation='sigmoid'),\n",
        "\n",
        "])"
      ],
      "metadata": {
        "id": "br7WtH4Jgct0"
      },
      "execution_count": 5,
      "outputs": []
    },
    {
      "cell_type": "code",
      "source": [
        "model.compile(\n",
        "    optimizer= 'adam',\n",
        "    loss='sparse_categorical_crossentropy',\n",
        "    metrics=['accuracy',]\n",
        ")"
      ],
      "metadata": {
        "id": "uV2NpFiDj3nS"
      },
      "execution_count": 6,
      "outputs": []
    },
    {
      "cell_type": "code",
      "source": [
        "x_train  = x_train/255\n",
        "x_test  = x_test/255"
      ],
      "metadata": {
        "id": "sOh9_BATlWmY"
      },
      "execution_count": 7,
      "outputs": []
    },
    {
      "cell_type": "code",
      "source": [
        "model.fit(x_train, y_train, epochs= 10)"
      ],
      "metadata": {
        "colab": {
          "base_uri": "https://localhost:8080/"
        },
        "id": "NX_UNKjmlqu7",
        "outputId": "66ff42ab-5a87-4d1b-c5c0-d7b7e83108f2"
      },
      "execution_count": 8,
      "outputs": [
        {
          "output_type": "stream",
          "name": "stdout",
          "text": [
            "Epoch 1/10\n",
            "1875/1875 [==============================] - 10s 3ms/step - loss: 0.1670 - accuracy: 0.9489\n",
            "Epoch 2/10\n",
            "1875/1875 [==============================] - 6s 3ms/step - loss: 0.0586 - accuracy: 0.9816\n",
            "Epoch 3/10\n",
            "1875/1875 [==============================] - 6s 3ms/step - loss: 0.0410 - accuracy: 0.9872\n",
            "Epoch 4/10\n",
            "1875/1875 [==============================] - 6s 3ms/step - loss: 0.0315 - accuracy: 0.9902\n",
            "Epoch 5/10\n",
            "1875/1875 [==============================] - 6s 3ms/step - loss: 0.0253 - accuracy: 0.9913\n",
            "Epoch 6/10\n",
            "1875/1875 [==============================] - 6s 3ms/step - loss: 0.0188 - accuracy: 0.9941\n",
            "Epoch 7/10\n",
            "1875/1875 [==============================] - 6s 3ms/step - loss: 0.0160 - accuracy: 0.9947\n",
            "Epoch 8/10\n",
            "1875/1875 [==============================] - 6s 3ms/step - loss: 0.0135 - accuracy: 0.9954\n",
            "Epoch 9/10\n",
            "1875/1875 [==============================] - 6s 3ms/step - loss: 0.0117 - accuracy: 0.9962\n",
            "Epoch 10/10\n",
            "1875/1875 [==============================] - 6s 3ms/step - loss: 0.0103 - accuracy: 0.9965\n"
          ]
        },
        {
          "output_type": "execute_result",
          "data": {
            "text/plain": [
              "<keras.callbacks.History at 0x7f6ad00d6280>"
            ]
          },
          "metadata": {},
          "execution_count": 8
        }
      ]
    },
    {
      "cell_type": "code",
      "source": [
        "model.evaluate(x_test, y_test)"
      ],
      "metadata": {
        "colab": {
          "base_uri": "https://localhost:8080/"
        },
        "id": "ddb4I1Osm1x_",
        "outputId": "37a889ea-f3f5-4e7e-db8c-a4680c6bfa25"
      },
      "execution_count": 9,
      "outputs": [
        {
          "output_type": "stream",
          "name": "stdout",
          "text": [
            "313/313 [==============================] - 1s 3ms/step - loss: 0.0497 - accuracy: 0.9879\n"
          ]
        },
        {
          "output_type": "execute_result",
          "data": {
            "text/plain": [
              "[0.04968007281422615, 0.9879000186920166]"
            ]
          },
          "metadata": {},
          "execution_count": 9
        }
      ]
    },
    {
      "cell_type": "code",
      "source": [
        "y_pred = model.predict(x_test)\n",
        "\n",
        "y_predicted_labels = [np.argmax(i) for i in y_pred]\n",
        "\n",
        "cm = tf.math.confusion_matrix(labels=y_test,predictions=y_predicted_labels)\n",
        "\n",
        "cm"
      ],
      "metadata": {
        "colab": {
          "base_uri": "https://localhost:8080/"
        },
        "id": "J_nsarWWnZxS",
        "outputId": "791e9385-110b-4cfb-f964-fc7b8aea8ca0"
      },
      "execution_count": 10,
      "outputs": [
        {
          "output_type": "stream",
          "name": "stdout",
          "text": [
            "313/313 [==============================] - 1s 2ms/step\n"
          ]
        },
        {
          "output_type": "execute_result",
          "data": {
            "text/plain": [
              "<tf.Tensor: shape=(10, 10), dtype=int32, numpy=\n",
              "array([[ 972,    0,    3,    1,    0,    0,    1,    1,    2,    0],\n",
              "       [   1, 1122,    1,    1,    0,    2,    2,    3,    1,    2],\n",
              "       [   0,    1, 1022,    5,    0,    0,    1,    3,    0,    0],\n",
              "       [   0,    1,    0, 1008,    0,    1,    0,    0,    0,    0],\n",
              "       [   0,    0,    0,    0,  975,    0,    2,    0,    1,    4],\n",
              "       [   1,    0,    0,   10,    0,  878,    1,    0,    2,    0],\n",
              "       [   3,    1,    2,    0,    1,    8,  938,    0,    5,    0],\n",
              "       [   0,    1,    3,    6,    1,    0,    0, 1009,    1,    7],\n",
              "       [   1,    0,    2,    8,    0,    0,    0,    0,  960,    3],\n",
              "       [   0,    0,    0,    2,    2,    6,    0,    3,    1,  995]],\n",
              "      dtype=int32)>"
            ]
          },
          "metadata": {},
          "execution_count": 10
        }
      ]
    },
    {
      "cell_type": "code",
      "source": [
        "import seaborn as sn\n",
        "plt.figure(figsize = (10,7))\n",
        "sn.heatmap(cm, annot=True, fmt='d')\n",
        "plt.xlabel('Predicted')\n",
        "plt.ylabel('Truth')"
      ],
      "metadata": {
        "colab": {
          "base_uri": "https://localhost:8080/",
          "height": 459
        },
        "id": "zGIX1pRtn-r8",
        "outputId": "7bb65859-70d3-43b2-affa-d824521a44e6"
      },
      "execution_count": 11,
      "outputs": [
        {
          "output_type": "execute_result",
          "data": {
            "text/plain": [
              "Text(69.0, 0.5, 'Truth')"
            ]
          },
          "metadata": {},
          "execution_count": 11
        },
        {
          "output_type": "display_data",
          "data": {
            "text/plain": [
              "<Figure size 720x504 with 2 Axes>"
            ],
            "image/png": "[encoded data removed]"
          },
          "metadata": {
            "needs_background": "light"
          }
        }
      ]
    },
    {
      "cell_type": "code",
      "source": [],
      "metadata": {
        "id": "OYQrsW_aoFc-"
      },
      "execution_count": 11,
      "outputs": []
    }
  ]
}